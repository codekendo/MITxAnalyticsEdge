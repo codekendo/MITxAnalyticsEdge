{
 "cells": [
  {
   "cell_type": "markdown",
   "metadata": {},
   "source": [
    "The A calculated that they need 135 more runs than they allow to win 95 wins which should allow to go to the world series. How can we validate that claim?"
   ]
  },
  {
   "cell_type": "code",
   "execution_count": 1,
   "metadata": {},
   "outputs": [
    {
     "name": "stdout",
     "output_type": "stream",
     "text": [
      "'data.frame':\t1232 obs. of  15 variables:\n",
      " $ Team        : chr  \"ARI\" \"ATL\" \"BAL\" \"BOS\" ...\n",
      " $ League      : chr  \"NL\" \"NL\" \"AL\" \"AL\" ...\n",
      " $ Year        : int  2012 2012 2012 2012 2012 2012 2012 2012 2012 2012 ...\n",
      " $ RS          : int  734 700 712 734 613 748 669 667 758 726 ...\n",
      " $ RA          : int  688 600 705 806 759 676 588 845 890 670 ...\n",
      " $ W           : int  81 94 93 69 61 85 97 68 64 88 ...\n",
      " $ OBP         : num  0.328 0.32 0.311 0.315 0.302 0.318 0.315 0.324 0.33 0.335 ...\n",
      " $ SLG         : num  0.418 0.389 0.417 0.415 0.378 0.422 0.411 0.381 0.436 0.422 ...\n",
      " $ BA          : num  0.259 0.247 0.247 0.26 0.24 0.255 0.251 0.251 0.274 0.268 ...\n",
      " $ Playoffs    : int  0 1 1 0 0 0 1 0 0 1 ...\n",
      " $ RankSeason  : int  NA 4 5 NA NA NA 2 NA NA 6 ...\n",
      " $ RankPlayoffs: int  NA 5 4 NA NA NA 4 NA NA 2 ...\n",
      " $ G           : int  162 162 162 162 162 162 162 162 162 162 ...\n",
      " $ OOBP        : num  0.317 0.306 0.315 0.331 0.335 0.319 0.305 0.336 0.357 0.314 ...\n",
      " $ OSLG        : num  0.415 0.378 0.403 0.428 0.424 0.405 0.39 0.43 0.47 0.402 ...\n"
     ]
    }
   ],
   "source": [
    "baseball = read.csv(\"baseball.csv\")\n",
    "str(baseball)"
   ]
  },
  {
   "cell_type": "code",
   "execution_count": 3,
   "metadata": {},
   "outputs": [
    {
     "name": "stdout",
     "output_type": "stream",
     "text": [
      "'data.frame':\t902 obs. of  15 variables:\n",
      " $ Team        : chr  \"ANA\" \"ARI\" \"ATL\" \"BAL\" ...\n",
      " $ League      : chr  \"AL\" \"NL\" \"NL\" \"AL\" ...\n",
      " $ Year        : int  2001 2001 2001 2001 2001 2001 2001 2001 2001 2001 ...\n",
      " $ RS          : int  691 818 729 687 772 777 798 735 897 923 ...\n",
      " $ RA          : int  730 677 643 829 745 701 795 850 821 906 ...\n",
      " $ W           : int  75 92 88 63 82 88 83 66 91 73 ...\n",
      " $ OBP         : num  0.327 0.341 0.324 0.319 0.334 0.336 0.334 0.324 0.35 0.354 ...\n",
      " $ SLG         : num  0.405 0.442 0.412 0.38 0.439 0.43 0.451 0.419 0.458 0.483 ...\n",
      " $ BA          : num  0.261 0.267 0.26 0.248 0.266 0.261 0.268 0.262 0.278 0.292 ...\n",
      " $ Playoffs    : int  0 1 1 0 0 0 0 0 1 0 ...\n",
      " $ RankSeason  : int  NA 5 7 NA NA NA NA NA 6 NA ...\n",
      " $ RankPlayoffs: int  NA 1 3 NA NA NA NA NA 4 NA ...\n",
      " $ G           : int  162 162 162 162 161 162 162 162 162 162 ...\n",
      " $ OOBP        : num  0.331 0.311 0.314 0.337 0.329 0.321 0.334 0.341 0.341 0.35 ...\n",
      " $ OSLG        : num  0.412 0.404 0.384 0.439 0.393 0.398 0.427 0.455 0.417 0.48 ...\n"
     ]
    }
   ],
   "source": [
    "moneyball = subset(baseball, Year<2002)\n",
    "str(moneyball)"
   ]
  },
  {
   "cell_type": "code",
   "execution_count": 5,
   "metadata": {},
   "outputs": [
    {
     "name": "stdout",
     "output_type": "stream",
     "text": [
      "'data.frame':\t902 obs. of  16 variables:\n",
      " $ Team        : chr  \"ANA\" \"ARI\" \"ATL\" \"BAL\" ...\n",
      " $ League      : chr  \"AL\" \"NL\" \"NL\" \"AL\" ...\n",
      " $ Year        : int  2001 2001 2001 2001 2001 2001 2001 2001 2001 2001 ...\n",
      " $ RS          : int  691 818 729 687 772 777 798 735 897 923 ...\n",
      " $ RA          : int  730 677 643 829 745 701 795 850 821 906 ...\n",
      " $ W           : int  75 92 88 63 82 88 83 66 91 73 ...\n",
      " $ OBP         : num  0.327 0.341 0.324 0.319 0.334 0.336 0.334 0.324 0.35 0.354 ...\n",
      " $ SLG         : num  0.405 0.442 0.412 0.38 0.439 0.43 0.451 0.419 0.458 0.483 ...\n",
      " $ BA          : num  0.261 0.267 0.26 0.248 0.266 0.261 0.268 0.262 0.278 0.292 ...\n",
      " $ Playoffs    : int  0 1 1 0 0 0 0 0 1 0 ...\n",
      " $ RankSeason  : int  NA 5 7 NA NA NA NA NA 6 NA ...\n",
      " $ RankPlayoffs: int  NA 1 3 NA NA NA NA NA 4 NA ...\n",
      " $ G           : int  162 162 162 162 161 162 162 162 162 162 ...\n",
      " $ OOBP        : num  0.331 0.311 0.314 0.337 0.329 0.321 0.334 0.341 0.341 0.35 ...\n",
      " $ OSLG        : num  0.412 0.404 0.384 0.439 0.393 0.398 0.427 0.455 0.417 0.48 ...\n",
      " $ RD          : int  -39 141 86 -142 27 76 3 -115 76 17 ...\n"
     ]
    }
   ],
   "source": [
    "moneyball$RD = moneyball$RS - moneyball$RA\n",
    "str(moneyball)"
   ]
  },
  {
   "cell_type": "code",
   "execution_count": 7,
   "metadata": {},
   "outputs": [
    {
     "data": {
      "text/plain": [
       "\n",
       "Call:\n",
       "lm(formula = W ~ RD, data = moneyball)\n",
       "\n",
       "Residuals:\n",
       "     Min       1Q   Median       3Q      Max \n",
       "-14.2662  -2.6509   0.1234   2.9364  11.6570 \n",
       "\n",
       "Coefficients:\n",
       "             Estimate Std. Error t value Pr(>|t|)    \n",
       "(Intercept) 80.881375   0.131157  616.67   <2e-16 ***\n",
       "RD           0.105766   0.001297   81.55   <2e-16 ***\n",
       "---\n",
       "Signif. codes:  0 ‘***’ 0.001 ‘**’ 0.01 ‘*’ 0.05 ‘.’ 0.1 ‘ ’ 1\n",
       "\n",
       "Residual standard error: 3.939 on 900 degrees of freedom\n",
       "Multiple R-squared:  0.8808,\tAdjusted R-squared:  0.8807 \n",
       "F-statistic:  6651 on 1 and 900 DF,  p-value: < 2.2e-16\n"
      ]
     },
     "metadata": {},
     "output_type": "display_data"
    }
   ],
   "source": [
    "WinsReg = lm(W ~ RD, data=moneyball)\n",
    "summary(WinsReg)"
   ]
  },
  {
   "cell_type": "markdown",
   "metadata": {},
   "source": [
    "---\n",
    "\n",
    "80.881375 Intercept or $b$ from $y=mx=b$\n",
    "RD\n",
    "\n",
    "$w=80.8814 + 0.1058(RD)$\n",
    "\n",
    "We want wins to be greater than 95.\n",
    "\n",
    "$W\\geq95$\n",
    "\n",
    "$80.8814+0.105(RD)\\geq95$\n",
    "\n",
    "$RD\\geq (95-80.8814)/0.1058=133.4 $"
   ]
  },
  {
   "cell_type": "markdown",
   "metadata": {},
   "source": [
    "---"
   ]
  },
  {
   "cell_type": "markdown",
   "metadata": {},
   "source": [
    "\n",
    "* How does a team score more runs?\n",
    "    * On-Base Percentage(OBP)\n",
    "        * Percentage of time a player gets on base (including walks)\n",
    "    * Slugging Percentage (SLG)\n",
    "        * How far a player gets around the bases on his turn (measures power)\n",
    "    * Most teams focused on Batting Average(BA)\n",
    "        \n",
    "    * The A's claimed that\n",
    "        * On-Base Percentage was the most important\n",
    "        * Slugging Percentage was important\n",
    "        * Batter Average was overvalued\n",
    "        \n",
    "## * Can we use linear regression to verify which baseball stats are more important to predict runs?\n"
   ]
  },
  {
   "cell_type": "code",
   "execution_count": 8,
   "metadata": {},
   "outputs": [
    {
     "name": "stdout",
     "output_type": "stream",
     "text": [
      "'data.frame':\t902 obs. of  16 variables:\n",
      " $ Team        : chr  \"ANA\" \"ARI\" \"ATL\" \"BAL\" ...\n",
      " $ League      : chr  \"AL\" \"NL\" \"NL\" \"AL\" ...\n",
      " $ Year        : int  2001 2001 2001 2001 2001 2001 2001 2001 2001 2001 ...\n",
      " $ RS          : int  691 818 729 687 772 777 798 735 897 923 ...\n",
      " $ RA          : int  730 677 643 829 745 701 795 850 821 906 ...\n",
      " $ W           : int  75 92 88 63 82 88 83 66 91 73 ...\n",
      " $ OBP         : num  0.327 0.341 0.324 0.319 0.334 0.336 0.334 0.324 0.35 0.354 ...\n",
      " $ SLG         : num  0.405 0.442 0.412 0.38 0.439 0.43 0.451 0.419 0.458 0.483 ...\n",
      " $ BA          : num  0.261 0.267 0.26 0.248 0.266 0.261 0.268 0.262 0.278 0.292 ...\n",
      " $ Playoffs    : int  0 1 1 0 0 0 0 0 1 0 ...\n",
      " $ RankSeason  : int  NA 5 7 NA NA NA NA NA 6 NA ...\n",
      " $ RankPlayoffs: int  NA 1 3 NA NA NA NA NA 4 NA ...\n",
      " $ G           : int  162 162 162 162 161 162 162 162 162 162 ...\n",
      " $ OOBP        : num  0.331 0.311 0.314 0.337 0.329 0.321 0.334 0.341 0.341 0.35 ...\n",
      " $ OSLG        : num  0.412 0.404 0.384 0.439 0.393 0.398 0.427 0.455 0.417 0.48 ...\n",
      " $ RD          : int  -39 141 86 -142 27 76 3 -115 76 17 ...\n"
     ]
    }
   ],
   "source": [
    "str(moneyball)"
   ]
  },
  {
   "cell_type": "code",
   "execution_count": 9,
   "metadata": {},
   "outputs": [
    {
     "data": {
      "text/plain": [
       "\n",
       "Call:\n",
       "lm(formula = RS ~ OBP + SLG + BA, data = moneyball)\n",
       "\n",
       "Residuals:\n",
       "    Min      1Q  Median      3Q     Max \n",
       "-70.941 -17.247  -0.621  16.754  90.998 \n",
       "\n",
       "Coefficients:\n",
       "            Estimate Std. Error t value Pr(>|t|)    \n",
       "(Intercept)  -788.46      19.70 -40.029  < 2e-16 ***\n",
       "OBP          2917.42     110.47  26.410  < 2e-16 ***\n",
       "SLG          1637.93      45.99  35.612  < 2e-16 ***\n",
       "BA           -368.97     130.58  -2.826  0.00482 ** \n",
       "---\n",
       "Signif. codes:  0 ‘***’ 0.001 ‘**’ 0.01 ‘*’ 0.05 ‘.’ 0.1 ‘ ’ 1\n",
       "\n",
       "Residual standard error: 24.69 on 898 degrees of freedom\n",
       "Multiple R-squared:  0.9302,\tAdjusted R-squared:   0.93 \n",
       "F-statistic:  3989 on 3 and 898 DF,  p-value: < 2.2e-16\n"
      ]
     },
     "metadata": {},
     "output_type": "display_data"
    }
   ],
   "source": [
    "RunsReg = lm(RS~OBP + SLG +BA, data=moneyball)\n",
    "summary(RunsReg)"
   ]
  },
  {
   "cell_type": "markdown",
   "metadata": {},
   "source": [
    "Coe is negative. A team with a higher batting average will score fewer runs. (Counter intuitive)\n",
    "\n",
    "This is a case of multicollinearity are highly coorelated.\n",
    "\n",
    "Remove BA\n"
   ]
  },
  {
   "cell_type": "code",
   "execution_count": 10,
   "metadata": {},
   "outputs": [
    {
     "data": {
      "text/plain": [
       "\n",
       "Call:\n",
       "lm(formula = RS ~ OBP + SLG, data = moneyball)\n",
       "\n",
       "Residuals:\n",
       "    Min      1Q  Median      3Q     Max \n",
       "-70.838 -17.174  -1.108  16.770  90.036 \n",
       "\n",
       "Coefficients:\n",
       "            Estimate Std. Error t value Pr(>|t|)    \n",
       "(Intercept)  -804.63      18.92  -42.53   <2e-16 ***\n",
       "OBP          2737.77      90.68   30.19   <2e-16 ***\n",
       "SLG          1584.91      42.16   37.60   <2e-16 ***\n",
       "---\n",
       "Signif. codes:  0 ‘***’ 0.001 ‘**’ 0.01 ‘*’ 0.05 ‘.’ 0.1 ‘ ’ 1\n",
       "\n",
       "Residual standard error: 24.79 on 899 degrees of freedom\n",
       "Multiple R-squared:  0.9296,\tAdjusted R-squared:  0.9294 \n",
       "F-statistic:  5934 on 2 and 899 DF,  p-value: < 2.2e-16\n"
      ]
     },
     "metadata": {},
     "output_type": "display_data"
    }
   ],
   "source": [
    "RunsReg = lm(RS~OBP + SLG, data=moneyball)\n",
    "summary(RunsReg)"
   ]
  },
  {
   "cell_type": "markdown",
   "metadata": {},
   "source": [
    "coe for OBP is higher than coe SLG\n",
    "\n",
    "OBP is worth more than SLG\n",
    "\n",
    "BA is over valued and OBP is the most important"
   ]
  },
  {
   "cell_type": "markdown",
   "metadata": {},
   "source": [
    "---\n",
    "\n",
    "## Allowing Runs\n",
    "* We can use pitching statistics to predict runs allowed\n",
    "    * Opponents On-Base Percentage (OOBP)\n",
    "    * Opponents Slugging Percentage (OSLG)\n",
    "* We get the linear regression model\n",
    "\n",
    "    $Runs Allowed = -837.38 + 2913.60 (OOBP) + 1514(OSLG)$\n",
    "\n",
    "* $R^2 = 0.91 $\n",
    "\n",
    "* Both variables significant"
   ]
  },
  {
   "cell_type": "markdown",
   "metadata": {},
   "source": [
    "### If a baseball team's OBP is 0.311 and SLG is 0.405, how many runs do we expect the team to score?\n",
    "\n",
    "#### Using the linear regression model constructed during the lecture (the one that uses OBP and SLG as independent variables), enter the number of runs we expect the team to score:\n",
    "\n",
    "---\n",
    "\n",
    "### If a baseball team's opponents OBP (OOBP) is 0.297 and oppenents SLG (OSLG) is 0.370, how many runs do we expect the team to allow?\n",
    "\n",
    "#### Using the linear regression model discussed during the lecture (the one on the last slide of the previous video), enter the number of runs we expect the team to allow:\n",
    "\n"
   ]
  },
  {
   "cell_type": "markdown",
   "metadata": {},
   "source": [
    "---\n",
    "### Predicting Runs and WIns\n",
    "\n",
    "* Can we predict how many games the 2002 Oakland A's will win using our models?\n",
    "* The models for runs use team statistics\n",
    "* Each year, a baseball team is different.\n",
    "* We need to estimate the new team statistics using past player performance\n",
    "* Assumes few injuries\n",
    "* We can estimate the team statistics for 2002 by using the 2001 player statistics\n",
    "\n",
    "### Predicting Runs Scored \n",
    "* At the beginning of the 2002 season, the Oakland A's had 24 batters on their roster\n",
    "* Using the 2001 regular season statistics for these players\n",
    "    * Team OBP is 0.339\n",
    "    * Team SLG is 0.430\n",
    "* Our regression equation was \n",
    "\n",
    "$RS = -804.63 + 2737.77(OBP)+1584.91(SLG)$\n",
    "\n",
    "* Our 2002 prediction for the A's is\n",
    "\n",
    "$RS = -804.63 + 2737.77(0.339)+1584.91(0.430)=805$\n",
    "\n",
    "\n",
    "### Predicting Runs Allowed\n",
    "* At the beginning of the 2002 season, the Okland A's had 17 picters on their roster\n",
    "* Using the 2001 regular season statistics for these players\n",
    "    * Team OOBP is 3.07\n",
    "    * Team OSLG is 0.373\n",
    "* Our regression equation was\n",
    "    * RA = -837.38 + 2913.60(OOBP) + 1514.29(OSLG) \n",
    "* Our 2002 prediction for the A’s is \n",
    "    * RA = -837.38 + 2913.60(0.307) + 1514.29 (0.373) = 622 \n",
    "    \n",
    "### Predicting Wins\n",
    "* Our regression equation to predict wins was\n",
    "    * Wins = 80.8814 + 0.1058(RS – RA) \n",
    " \n",
    "* We predicted \n",
    "* RS = 805 \n",
    "* RA = 622 \n",
    " \n",
    "* So our prediction for wins is\n",
    "    * Wins = 80.8814 + 0.1058(805 – 622) = 100 "
   ]
  },
  {
   "cell_type": "code",
   "execution_count": null,
   "metadata": {},
   "outputs": [],
   "source": []
  },
  {
   "cell_type": "markdown",
   "metadata": {},
   "source": [
    "The Oakland A’s\n",
    "• Paul DePodesta used a similar approach to make predictions\n",
    "• Predictions closely match actual performance\n",
    "Our\n",
    "Prediction\n",
    "Paul’s\n",
    "Prediction Actual\n",
    "Runs Scored 805 800 – 820 800 \n",
    "\n",
    "The Oakland A’s\n",
    "• Paul DePodesta used a similar approach to make predictions\n",
    "• Predictions closely match actual performance\n",
    "Our\n",
    "Prediction\n",
    "Paul’s\n",
    "Prediction Actual\n",
    "Runs Scored 805 800 – 820 800\n",
    "Runs Allowed 622 650 – 670 653 "
   ]
  },
  {
   "cell_type": "markdown",
   "metadata": {},
   "source": [
    "While Moneyball made the use of analytics in sports very popular, baseball is not the only sport for which analytics is used. Analytics is currently used in almost every single sport, including basketball, soccer, cricket, and hockey.\n",
    "\n",
    "Basketball: The study of analytics in basketball, called APBRmetrics, is very popular. There have been many books written in this area, including \"Pro Basketball Forecast\" by John Hollinger and \"Basketball on Paper\" by Dean Oliver. There are also several websites dedicated to the study of basketball analytics, including [82games.com](http://www.82games.com). We'll talk more about basketball during recitation.\n",
    "\n",
    "Soccer: The soccer analytics community is currently growing, and new data is constantly being collected. Many argue that it is much harder to apply analytics to soccer, but there are several books and websites on the topic. Check out \"The Numbers Game: Why Everything You Know about Football is Wrong\" by Chris Anderson and David Sally, as well as the websites [socceranalysts.com](http://www.socceranalysts.com) and [soccermetrics.net](http://www.soccermetrics.net).\n",
    "\n",
    "Cricket: There are several websites dedicated to building models for evaluating player performance in cricket. Check out [cricmetric.com](http://www.cricmetric.com) and [impactindexcricket.com](http://www.impactindexcricket.com).\n",
    "\n",
    "Hockey: Analytics are used in hockey to track player performance and to better shape the composition of teams. Check out the websites [hockeyanalytics.com](http://www.hockeyanalytics.com) and [lighthousehockey.com](http://www.lighthousehockey.com).\n",
    "\n",
    "Submit"
   ]
  },
  {
   "cell_type": "code",
   "execution_count": null,
   "metadata": {},
   "outputs": [],
   "source": []
  },
  {
   "cell_type": "code",
   "execution_count": null,
   "metadata": {},
   "outputs": [],
   "source": []
  },
  {
   "cell_type": "code",
   "execution_count": null,
   "metadata": {},
   "outputs": [],
   "source": []
  },
  {
   "cell_type": "code",
   "execution_count": null,
   "metadata": {},
   "outputs": [],
   "source": []
  },
  {
   "cell_type": "code",
   "execution_count": null,
   "metadata": {},
   "outputs": [],
   "source": []
  },
  {
   "cell_type": "code",
   "execution_count": null,
   "metadata": {},
   "outputs": [],
   "source": []
  },
  {
   "cell_type": "code",
   "execution_count": null,
   "metadata": {},
   "outputs": [],
   "source": []
  },
  {
   "cell_type": "code",
   "execution_count": null,
   "metadata": {},
   "outputs": [],
   "source": []
  },
  {
   "cell_type": "code",
   "execution_count": null,
   "metadata": {},
   "outputs": [],
   "source": []
  },
  {
   "cell_type": "code",
   "execution_count": null,
   "metadata": {},
   "outputs": [],
   "source": []
  },
  {
   "cell_type": "code",
   "execution_count": null,
   "metadata": {},
   "outputs": [],
   "source": []
  },
  {
   "cell_type": "code",
   "execution_count": null,
   "metadata": {},
   "outputs": [],
   "source": []
  },
  {
   "cell_type": "code",
   "execution_count": null,
   "metadata": {},
   "outputs": [],
   "source": []
  },
  {
   "cell_type": "code",
   "execution_count": null,
   "metadata": {},
   "outputs": [],
   "source": []
  },
  {
   "cell_type": "code",
   "execution_count": null,
   "metadata": {},
   "outputs": [],
   "source": []
  },
  {
   "cell_type": "code",
   "execution_count": null,
   "metadata": {},
   "outputs": [],
   "source": []
  },
  {
   "cell_type": "code",
   "execution_count": null,
   "metadata": {},
   "outputs": [],
   "source": []
  },
  {
   "cell_type": "code",
   "execution_count": null,
   "metadata": {},
   "outputs": [],
   "source": []
  },
  {
   "cell_type": "code",
   "execution_count": null,
   "metadata": {},
   "outputs": [],
   "source": []
  },
  {
   "cell_type": "code",
   "execution_count": null,
   "metadata": {},
   "outputs": [],
   "source": []
  },
  {
   "cell_type": "code",
   "execution_count": null,
   "metadata": {},
   "outputs": [],
   "source": []
  }
 ],
 "metadata": {
  "kernelspec": {
   "display_name": "R",
   "language": "R",
   "name": "ir"
  },
  "language_info": {
   "codemirror_mode": "r",
   "file_extension": ".r",
   "mimetype": "text/x-r-source",
   "name": "R",
   "pygments_lexer": "r",
   "version": "4.0.2"
  }
 },
 "nbformat": 4,
 "nbformat_minor": 4
}
