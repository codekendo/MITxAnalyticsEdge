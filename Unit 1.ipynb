{
 "cells": [
  {
   "cell_type": "code",
   "execution_count": 1,
   "metadata": {
    "scrolled": true
   },
   "outputs": [
    {
     "data": {
      "text/html": [
       "80"
      ],
      "text/latex": [
       "80"
      ],
      "text/markdown": [
       "80"
      ],
      "text/plain": [
       "[1] 80"
      ]
     },
     "metadata": {},
     "output_type": "display_data"
    }
   ],
   "source": [
    "8*10"
   ]
  },
  {
   "cell_type": "code",
   "execution_count": 2,
   "metadata": {},
   "outputs": [
    {
     "data": {
      "text/html": [
       "1.4142135623731"
      ],
      "text/latex": [
       "1.4142135623731"
      ],
      "text/markdown": [
       "1.4142135623731"
      ],
      "text/plain": [
       "[1] 1.414214"
      ]
     },
     "metadata": {},
     "output_type": "display_data"
    }
   ],
   "source": [
    "sqrt(2)"
   ]
  },
  {
   "cell_type": "code",
   "execution_count": 3,
   "metadata": {},
   "outputs": [],
   "source": [
    "?sqrt"
   ]
  },
  {
   "cell_type": "code",
   "execution_count": 4,
   "metadata": {},
   "outputs": [
    {
     "data": {
      "text/html": [
       "65"
      ],
      "text/latex": [
       "65"
      ],
      "text/markdown": [
       "65"
      ],
      "text/plain": [
       "[1] 65"
      ]
     },
     "metadata": {},
     "output_type": "display_data"
    }
   ],
   "source": [
    "abs(-65)"
   ]
  },
  {
   "cell_type": "markdown",
   "metadata": {},
   "source": [
    "## Vector"
   ]
  },
  {
   "cell_type": "code",
   "execution_count": 5,
   "metadata": {},
   "outputs": [
    {
     "data": {
      "text/html": [
       "<style>\n",
       ".list-inline {list-style: none; margin:0; padding: 0}\n",
       ".list-inline>li {display: inline-block}\n",
       ".list-inline>li:not(:last-child)::after {content: \"\\00b7\"; padding: 0 .5ex}\n",
       "</style>\n",
       "<ol class=list-inline><li>2</li><li>3</li><li>5</li><li>8</li><li>13</li></ol>\n"
      ],
      "text/latex": [
       "\\begin{enumerate*}\n",
       "\\item 2\n",
       "\\item 3\n",
       "\\item 5\n",
       "\\item 8\n",
       "\\item 13\n",
       "\\end{enumerate*}\n"
      ],
      "text/markdown": [
       "1. 2\n",
       "2. 3\n",
       "3. 5\n",
       "4. 8\n",
       "5. 13\n",
       "\n",
       "\n"
      ],
      "text/plain": [
       "[1]  2  3  5  8 13"
      ]
     },
     "metadata": {},
     "output_type": "display_data"
    }
   ],
   "source": [
    "c(2,3,5,8,13)"
   ]
  },
  {
   "cell_type": "code",
   "execution_count": 7,
   "metadata": {},
   "outputs": [
    {
     "data": {
      "text/html": [
       "<style>\n",
       ".list-inline {list-style: none; margin:0; padding: 0}\n",
       ".list-inline>li {display: inline-block}\n",
       ".list-inline>li:not(:last-child)::after {content: \"\\00b7\"; padding: 0 .5ex}\n",
       "</style>\n",
       "<ol class=list-inline><li>'Brazil'</li><li>'China'</li><li>'India'</li><li>'Switzerland'</li><li>'USA'</li></ol>\n"
      ],
      "text/latex": [
       "\\begin{enumerate*}\n",
       "\\item 'Brazil'\n",
       "\\item 'China'\n",
       "\\item 'India'\n",
       "\\item 'Switzerland'\n",
       "\\item 'USA'\n",
       "\\end{enumerate*}\n"
      ],
      "text/markdown": [
       "1. 'Brazil'\n",
       "2. 'China'\n",
       "3. 'India'\n",
       "4. 'Switzerland'\n",
       "5. 'USA'\n",
       "\n",
       "\n"
      ],
      "text/plain": [
       "[1] \"Brazil\"      \"China\"       \"India\"       \"Switzerland\" \"USA\"        "
      ]
     },
     "metadata": {},
     "output_type": "display_data"
    }
   ],
   "source": [
    "Country=c(\"Brazil\", \"China\", \"India\", \"Switzerland\", \"USA\" )\n",
    "LifeExpectancy=c(74,76,65,83,79)\n",
    "Country"
   ]
  },
  {
   "cell_type": "code",
   "execution_count": 8,
   "metadata": {},
   "outputs": [
    {
     "data": {
      "text/html": [
       "'Brazil'"
      ],
      "text/latex": [
       "'Brazil'"
      ],
      "text/markdown": [
       "'Brazil'"
      ],
      "text/plain": [
       "[1] \"Brazil\""
      ]
     },
     "metadata": {},
     "output_type": "display_data"
    }
   ],
   "source": [
    "Country[1]"
   ]
  },
  {
   "cell_type": "code",
   "execution_count": 9,
   "metadata": {
    "scrolled": true
   },
   "outputs": [
    {
     "data": {
      "text/html": [
       "65"
      ],
      "text/latex": [
       "65"
      ],
      "text/markdown": [
       "65"
      ],
      "text/plain": [
       "[1] 65"
      ]
     },
     "metadata": {},
     "output_type": "display_data"
    }
   ],
   "source": [
    "LifeExpectancy[3]"
   ]
  },
  {
   "cell_type": "code",
   "execution_count": 10,
   "metadata": {},
   "outputs": [
    {
     "data": {
      "text/html": [
       "<style>\n",
       ".list-inline {list-style: none; margin:0; padding: 0}\n",
       ".list-inline>li {display: inline-block}\n",
       ".list-inline>li:not(:last-child)::after {content: \"\\00b7\"; padding: 0 .5ex}\n",
       "</style>\n",
       "<ol class=list-inline><li>0</li><li>2</li><li>4</li><li>6</li><li>8</li><li>10</li><li>12</li><li>14</li><li>16</li><li>18</li><li>20</li><li>22</li><li>24</li><li>26</li><li>28</li><li>30</li><li>32</li><li>34</li><li>36</li><li>38</li><li>40</li><li>42</li><li>44</li><li>46</li><li>48</li><li>50</li><li>52</li><li>54</li><li>56</li><li>58</li><li>60</li><li>62</li><li>64</li><li>66</li><li>68</li><li>70</li><li>72</li><li>74</li><li>76</li><li>78</li><li>80</li><li>82</li><li>84</li><li>86</li><li>88</li><li>90</li><li>92</li><li>94</li><li>96</li><li>98</li><li>100</li></ol>\n"
      ],
      "text/latex": [
       "\\begin{enumerate*}\n",
       "\\item 0\n",
       "\\item 2\n",
       "\\item 4\n",
       "\\item 6\n",
       "\\item 8\n",
       "\\item 10\n",
       "\\item 12\n",
       "\\item 14\n",
       "\\item 16\n",
       "\\item 18\n",
       "\\item 20\n",
       "\\item 22\n",
       "\\item 24\n",
       "\\item 26\n",
       "\\item 28\n",
       "\\item 30\n",
       "\\item 32\n",
       "\\item 34\n",
       "\\item 36\n",
       "\\item 38\n",
       "\\item 40\n",
       "\\item 42\n",
       "\\item 44\n",
       "\\item 46\n",
       "\\item 48\n",
       "\\item 50\n",
       "\\item 52\n",
       "\\item 54\n",
       "\\item 56\n",
       "\\item 58\n",
       "\\item 60\n",
       "\\item 62\n",
       "\\item 64\n",
       "\\item 66\n",
       "\\item 68\n",
       "\\item 70\n",
       "\\item 72\n",
       "\\item 74\n",
       "\\item 76\n",
       "\\item 78\n",
       "\\item 80\n",
       "\\item 82\n",
       "\\item 84\n",
       "\\item 86\n",
       "\\item 88\n",
       "\\item 90\n",
       "\\item 92\n",
       "\\item 94\n",
       "\\item 96\n",
       "\\item 98\n",
       "\\item 100\n",
       "\\end{enumerate*}\n"
      ],
      "text/markdown": [
       "1. 0\n",
       "2. 2\n",
       "3. 4\n",
       "4. 6\n",
       "5. 8\n",
       "6. 10\n",
       "7. 12\n",
       "8. 14\n",
       "9. 16\n",
       "10. 18\n",
       "11. 20\n",
       "12. 22\n",
       "13. 24\n",
       "14. 26\n",
       "15. 28\n",
       "16. 30\n",
       "17. 32\n",
       "18. 34\n",
       "19. 36\n",
       "20. 38\n",
       "21. 40\n",
       "22. 42\n",
       "23. 44\n",
       "24. 46\n",
       "25. 48\n",
       "26. 50\n",
       "27. 52\n",
       "28. 54\n",
       "29. 56\n",
       "30. 58\n",
       "31. 60\n",
       "32. 62\n",
       "33. 64\n",
       "34. 66\n",
       "35. 68\n",
       "36. 70\n",
       "37. 72\n",
       "38. 74\n",
       "39. 76\n",
       "40. 78\n",
       "41. 80\n",
       "42. 82\n",
       "43. 84\n",
       "44. 86\n",
       "45. 88\n",
       "46. 90\n",
       "47. 92\n",
       "48. 94\n",
       "49. 96\n",
       "50. 98\n",
       "51. 100\n",
       "\n",
       "\n"
      ],
      "text/plain": [
       " [1]   0   2   4   6   8  10  12  14  16  18  20  22  24  26  28  30  32  34  36\n",
       "[20]  38  40  42  44  46  48  50  52  54  56  58  60  62  64  66  68  70  72  74\n",
       "[39]  76  78  80  82  84  86  88  90  92  94  96  98 100"
      ]
     },
     "metadata": {},
     "output_type": "display_data"
    }
   ],
   "source": [
    "seq(0,100,2)"
   ]
  },
  {
   "cell_type": "markdown",
   "metadata": {},
   "source": [
    "## Dataframe by combining vectors."
   ]
  },
  {
   "cell_type": "code",
   "execution_count": 12,
   "metadata": {},
   "outputs": [
    {
     "data": {
      "text/html": [
       "<table>\n",
       "<caption>A data.frame: 5 × 2</caption>\n",
       "<thead>\n",
       "\t<tr><th scope=col>Country</th><th scope=col>LifeExpectancy</th></tr>\n",
       "\t<tr><th scope=col>&lt;chr&gt;</th><th scope=col>&lt;dbl&gt;</th></tr>\n",
       "</thead>\n",
       "<tbody>\n",
       "\t<tr><td>Brazil     </td><td>74</td></tr>\n",
       "\t<tr><td>China      </td><td>76</td></tr>\n",
       "\t<tr><td>India      </td><td>65</td></tr>\n",
       "\t<tr><td>Switzerland</td><td>83</td></tr>\n",
       "\t<tr><td>USA        </td><td>79</td></tr>\n",
       "</tbody>\n",
       "</table>\n"
      ],
      "text/latex": [
       "A data.frame: 5 × 2\n",
       "\\begin{tabular}{ll}\n",
       " Country & LifeExpectancy\\\\\n",
       " <chr> & <dbl>\\\\\n",
       "\\hline\n",
       "\t Brazil      & 74\\\\\n",
       "\t China       & 76\\\\\n",
       "\t India       & 65\\\\\n",
       "\t Switzerland & 83\\\\\n",
       "\t USA         & 79\\\\\n",
       "\\end{tabular}\n"
      ],
      "text/markdown": [
       "\n",
       "A data.frame: 5 × 2\n",
       "\n",
       "| Country &lt;chr&gt; | LifeExpectancy &lt;dbl&gt; |\n",
       "|---|---|\n",
       "| Brazil      | 74 |\n",
       "| China       | 76 |\n",
       "| India       | 65 |\n",
       "| Switzerland | 83 |\n",
       "| USA         | 79 |\n",
       "\n"
      ],
      "text/plain": [
       "  Country     LifeExpectancy\n",
       "1 Brazil      74            \n",
       "2 China       76            \n",
       "3 India       65            \n",
       "4 Switzerland 83            \n",
       "5 USA         79            "
      ]
     },
     "metadata": {},
     "output_type": "display_data"
    }
   ],
   "source": [
    "CountryData = data.frame(Country, LifeExpectancy)\n",
    "CountryData"
   ]
  },
  {
   "cell_type": "code",
   "execution_count": 14,
   "metadata": {},
   "outputs": [],
   "source": [
    "## Adding a new column in the dataframe"
   ]
  },
  {
   "cell_type": "code",
   "execution_count": 13,
   "metadata": {},
   "outputs": [
    {
     "data": {
      "text/html": [
       "<table>\n",
       "<caption>A data.frame: 5 × 3</caption>\n",
       "<thead>\n",
       "\t<tr><th scope=col>Country</th><th scope=col>LifeExpectancy</th><th scope=col>Population</th></tr>\n",
       "\t<tr><th scope=col>&lt;chr&gt;</th><th scope=col>&lt;dbl&gt;</th><th scope=col>&lt;dbl&gt;</th></tr>\n",
       "</thead>\n",
       "<tbody>\n",
       "\t<tr><td>Brazil     </td><td>74</td><td> 199000</td></tr>\n",
       "\t<tr><td>China      </td><td>76</td><td>1390000</td></tr>\n",
       "\t<tr><td>India      </td><td>65</td><td>1240000</td></tr>\n",
       "\t<tr><td>Switzerland</td><td>83</td><td>   7997</td></tr>\n",
       "\t<tr><td>USA        </td><td>79</td><td> 318000</td></tr>\n",
       "</tbody>\n",
       "</table>\n"
      ],
      "text/latex": [
       "A data.frame: 5 × 3\n",
       "\\begin{tabular}{lll}\n",
       " Country & LifeExpectancy & Population\\\\\n",
       " <chr> & <dbl> & <dbl>\\\\\n",
       "\\hline\n",
       "\t Brazil      & 74 &  199000\\\\\n",
       "\t China       & 76 & 1390000\\\\\n",
       "\t India       & 65 & 1240000\\\\\n",
       "\t Switzerland & 83 &    7997\\\\\n",
       "\t USA         & 79 &  318000\\\\\n",
       "\\end{tabular}\n"
      ],
      "text/markdown": [
       "\n",
       "A data.frame: 5 × 3\n",
       "\n",
       "| Country &lt;chr&gt; | LifeExpectancy &lt;dbl&gt; | Population &lt;dbl&gt; |\n",
       "|---|---|---|\n",
       "| Brazil      | 74 |  199000 |\n",
       "| China       | 76 | 1390000 |\n",
       "| India       | 65 | 1240000 |\n",
       "| Switzerland | 83 |    7997 |\n",
       "| USA         | 79 |  318000 |\n",
       "\n"
      ],
      "text/plain": [
       "  Country     LifeExpectancy Population\n",
       "1 Brazil      74              199000   \n",
       "2 China       76             1390000   \n",
       "3 India       65             1240000   \n",
       "4 Switzerland 83                7997   \n",
       "5 USA         79              318000   "
      ]
     },
     "metadata": {},
     "output_type": "display_data"
    }
   ],
   "source": [
    "CountryData$Population=c(199000, 1390000, 1240000, 7997, 318000)\n",
    "CountryData"
   ]
  },
  {
   "cell_type": "markdown",
   "metadata": {},
   "source": [
    "## Adding new countries or new rows into the dataframe."
   ]
  },
  {
   "cell_type": "code",
   "execution_count": 16,
   "metadata": {},
   "outputs": [
    {
     "data": {
      "text/html": [
       "<table>\n",
       "<caption>A data.frame: 2 × 3</caption>\n",
       "<thead>\n",
       "\t<tr><th scope=col>Country</th><th scope=col>LifeExpectancy</th><th scope=col>Population</th></tr>\n",
       "\t<tr><th scope=col>&lt;chr&gt;</th><th scope=col>&lt;dbl&gt;</th><th scope=col>&lt;dbl&gt;</th></tr>\n",
       "</thead>\n",
       "<tbody>\n",
       "\t<tr><td>Australia</td><td>82</td><td>23050</td></tr>\n",
       "\t<tr><td>Greece   </td><td>81</td><td>11125</td></tr>\n",
       "</tbody>\n",
       "</table>\n"
      ],
      "text/latex": [
       "A data.frame: 2 × 3\n",
       "\\begin{tabular}{lll}\n",
       " Country & LifeExpectancy & Population\\\\\n",
       " <chr> & <dbl> & <dbl>\\\\\n",
       "\\hline\n",
       "\t Australia & 82 & 23050\\\\\n",
       "\t Greece    & 81 & 11125\\\\\n",
       "\\end{tabular}\n"
      ],
      "text/markdown": [
       "\n",
       "A data.frame: 2 × 3\n",
       "\n",
       "| Country &lt;chr&gt; | LifeExpectancy &lt;dbl&gt; | Population &lt;dbl&gt; |\n",
       "|---|---|---|\n",
       "| Australia | 82 | 23050 |\n",
       "| Greece    | 81 | 11125 |\n",
       "\n"
      ],
      "text/plain": [
       "  Country   LifeExpectancy Population\n",
       "1 Australia 82             23050     \n",
       "2 Greece    81             11125     "
      ]
     },
     "metadata": {},
     "output_type": "display_data"
    }
   ],
   "source": [
    "Country=c(\"Australia\", \"Greece\")\n",
    "LifeExpectancy=c(82,81)\n",
    "Population=c(23050, 11125)\n",
    "NewCountryData=data.frame(Country, LifeExpectancy, Population)\n",
    "NewCountryData"
   ]
  },
  {
   "cell_type": "markdown",
   "metadata": {},
   "source": [
    "## Rbind function that combines dataframes by stacking rows."
   ]
  },
  {
   "cell_type": "code",
   "execution_count": 19,
   "metadata": {},
   "outputs": [
    {
     "data": {
      "text/html": [
       "<table>\n",
       "<caption>A data.frame: 7 × 3</caption>\n",
       "<thead>\n",
       "\t<tr><th scope=col>Country</th><th scope=col>LifeExpectancy</th><th scope=col>Population</th></tr>\n",
       "\t<tr><th scope=col>&lt;chr&gt;</th><th scope=col>&lt;dbl&gt;</th><th scope=col>&lt;dbl&gt;</th></tr>\n",
       "</thead>\n",
       "<tbody>\n",
       "\t<tr><td>Brazil     </td><td>74</td><td> 199000</td></tr>\n",
       "\t<tr><td>China      </td><td>76</td><td>1390000</td></tr>\n",
       "\t<tr><td>India      </td><td>65</td><td>1240000</td></tr>\n",
       "\t<tr><td>Switzerland</td><td>83</td><td>   7997</td></tr>\n",
       "\t<tr><td>USA        </td><td>79</td><td> 318000</td></tr>\n",
       "\t<tr><td>Australia  </td><td>82</td><td>  23050</td></tr>\n",
       "\t<tr><td>Greece     </td><td>81</td><td>  11125</td></tr>\n",
       "</tbody>\n",
       "</table>\n"
      ],
      "text/latex": [
       "A data.frame: 7 × 3\n",
       "\\begin{tabular}{lll}\n",
       " Country & LifeExpectancy & Population\\\\\n",
       " <chr> & <dbl> & <dbl>\\\\\n",
       "\\hline\n",
       "\t Brazil      & 74 &  199000\\\\\n",
       "\t China       & 76 & 1390000\\\\\n",
       "\t India       & 65 & 1240000\\\\\n",
       "\t Switzerland & 83 &    7997\\\\\n",
       "\t USA         & 79 &  318000\\\\\n",
       "\t Australia   & 82 &   23050\\\\\n",
       "\t Greece      & 81 &   11125\\\\\n",
       "\\end{tabular}\n"
      ],
      "text/markdown": [
       "\n",
       "A data.frame: 7 × 3\n",
       "\n",
       "| Country &lt;chr&gt; | LifeExpectancy &lt;dbl&gt; | Population &lt;dbl&gt; |\n",
       "|---|---|---|\n",
       "| Brazil      | 74 |  199000 |\n",
       "| China       | 76 | 1390000 |\n",
       "| India       | 65 | 1240000 |\n",
       "| Switzerland | 83 |    7997 |\n",
       "| USA         | 79 |  318000 |\n",
       "| Australia   | 82 |   23050 |\n",
       "| Greece      | 81 |   11125 |\n",
       "\n"
      ],
      "text/plain": [
       "  Country     LifeExpectancy Population\n",
       "1 Brazil      74              199000   \n",
       "2 China       76             1390000   \n",
       "3 India       65             1240000   \n",
       "4 Switzerland 83                7997   \n",
       "5 USA         79              318000   \n",
       "6 Australia   82               23050   \n",
       "7 Greece      81               11125   "
      ]
     },
     "metadata": {},
     "output_type": "display_data"
    }
   ],
   "source": [
    "AllCountryData=rbind(CountryData, NewCountryData)\n",
    "AllCountryData"
   ]
  },
  {
   "cell_type": "markdown",
   "metadata": {},
   "source": [
    "---"
   ]
  },
  {
   "cell_type": "code",
   "execution_count": 20,
   "metadata": {},
   "outputs": [],
   "source": [
    "# file > change dir to change path to csv files"
   ]
  },
  {
   "cell_type": "code",
   "execution_count": 21,
   "metadata": {},
   "outputs": [
    {
     "data": {
      "text/html": [
       "'/home/jovyan/work'"
      ],
      "text/latex": [
       "'/home/jovyan/work'"
      ],
      "text/markdown": [
       "'/home/jovyan/work'"
      ],
      "text/plain": [
       "[1] \"/home/jovyan/work\""
      ]
     },
     "metadata": {},
     "output_type": "display_data"
    }
   ],
   "source": [
    "getwd()"
   ]
  },
  {
   "cell_type": "code",
   "execution_count": 23,
   "metadata": {},
   "outputs": [
    {
     "data": {
      "text/html": [
       "<table>\n",
       "<caption>A data.frame: 194 × 13</caption>\n",
       "<thead>\n",
       "\t<tr><th scope=col>Country</th><th scope=col>Region</th><th scope=col>Population</th><th scope=col>Under15</th><th scope=col>Over60</th><th scope=col>FertilityRate</th><th scope=col>LifeExpectancy</th><th scope=col>ChildMortality</th><th scope=col>CellularSubscribers</th><th scope=col>LiteracyRate</th><th scope=col>GNI</th><th scope=col>PrimarySchoolEnrollmentMale</th><th scope=col>PrimarySchoolEnrollmentFemale</th></tr>\n",
       "\t<tr><th scope=col>&lt;chr&gt;</th><th scope=col>&lt;chr&gt;</th><th scope=col>&lt;int&gt;</th><th scope=col>&lt;dbl&gt;</th><th scope=col>&lt;dbl&gt;</th><th scope=col>&lt;dbl&gt;</th><th scope=col>&lt;int&gt;</th><th scope=col>&lt;dbl&gt;</th><th scope=col>&lt;dbl&gt;</th><th scope=col>&lt;dbl&gt;</th><th scope=col>&lt;dbl&gt;</th><th scope=col>&lt;dbl&gt;</th><th scope=col>&lt;dbl&gt;</th></tr>\n",
       "</thead>\n",
       "<tbody>\n",
       "\t<tr><td>Afghanistan                     </td><td>Eastern Mediterranean</td><td> 29825</td><td>47.42</td><td> 3.82</td><td>5.40</td><td>60</td><td> 98.5</td><td> 54.26</td><td>  NA</td><td> 1140</td><td>  NA</td><td>  NA</td></tr>\n",
       "\t<tr><td>Albania                         </td><td>Europe               </td><td>  3162</td><td>21.33</td><td>14.93</td><td>1.75</td><td>74</td><td> 16.7</td><td> 96.39</td><td>  NA</td><td> 8820</td><td>  NA</td><td>  NA</td></tr>\n",
       "\t<tr><td>Algeria                         </td><td>Africa               </td><td> 38482</td><td>27.42</td><td> 7.17</td><td>2.83</td><td>73</td><td> 20.0</td><td> 98.99</td><td>  NA</td><td> 8310</td><td>98.2</td><td>96.4</td></tr>\n",
       "\t<tr><td>Andorra                         </td><td>Europe               </td><td>    78</td><td>15.20</td><td>22.86</td><td>  NA</td><td>82</td><td>  3.2</td><td> 75.49</td><td>  NA</td><td>   NA</td><td>78.4</td><td>79.4</td></tr>\n",
       "\t<tr><td>Angola                          </td><td>Africa               </td><td> 20821</td><td>47.58</td><td> 3.84</td><td>6.10</td><td>51</td><td>163.5</td><td> 48.38</td><td>70.1</td><td> 5230</td><td>93.1</td><td>78.2</td></tr>\n",
       "\t<tr><td>Antigua and Barbuda             </td><td>Americas             </td><td>    89</td><td>25.96</td><td>12.35</td><td>2.12</td><td>75</td><td>  9.9</td><td>196.41</td><td>99.0</td><td>17900</td><td>91.1</td><td>84.5</td></tr>\n",
       "\t<tr><td>Argentina                       </td><td>Americas             </td><td> 41087</td><td>24.42</td><td>14.97</td><td>2.20</td><td>76</td><td> 14.2</td><td>134.92</td><td>97.8</td><td>17130</td><td>  NA</td><td>  NA</td></tr>\n",
       "\t<tr><td>Armenia                         </td><td>Europe               </td><td>  2969</td><td>20.34</td><td>14.06</td><td>1.74</td><td>71</td><td> 16.4</td><td>103.57</td><td>99.6</td><td> 6100</td><td>  NA</td><td>  NA</td></tr>\n",
       "\t<tr><td>Australia                       </td><td>Western Pacific      </td><td> 23050</td><td>18.95</td><td>19.46</td><td>1.89</td><td>82</td><td>  4.9</td><td>108.34</td><td>  NA</td><td>38110</td><td>96.9</td><td>97.5</td></tr>\n",
       "\t<tr><td>Austria                         </td><td>Europe               </td><td>  8464</td><td>14.51</td><td>23.52</td><td>1.44</td><td>81</td><td>  4.0</td><td>154.78</td><td>  NA</td><td>42050</td><td>  NA</td><td>  NA</td></tr>\n",
       "\t<tr><td>Azerbaijan                      </td><td>Europe               </td><td>  9309</td><td>22.25</td><td> 8.24</td><td>1.96</td><td>71</td><td> 35.2</td><td>108.75</td><td>  NA</td><td> 8960</td><td>85.3</td><td>84.1</td></tr>\n",
       "\t<tr><td>Bahamas                         </td><td>Americas             </td><td>   372</td><td>21.62</td><td>11.24</td><td>1.90</td><td>75</td><td> 16.9</td><td> 86.06</td><td>  NA</td><td>   NA</td><td>  NA</td><td>  NA</td></tr>\n",
       "\t<tr><td>Bahrain                         </td><td>Eastern Mediterranean</td><td>  1318</td><td>20.16</td><td> 3.38</td><td>2.12</td><td>79</td><td>  9.6</td><td>127.96</td><td>91.9</td><td>   NA</td><td>  NA</td><td>  NA</td></tr>\n",
       "\t<tr><td>Bangladesh                      </td><td>South-East Asia      </td><td>155000</td><td>30.57</td><td> 6.89</td><td>2.24</td><td>70</td><td> 40.9</td><td> 56.06</td><td>56.8</td><td> 1940</td><td>  NA</td><td>  NA</td></tr>\n",
       "\t<tr><td>Barbados                        </td><td>Americas             </td><td>   283</td><td>18.99</td><td>15.78</td><td>1.84</td><td>78</td><td> 18.4</td><td>127.01</td><td>  NA</td><td>   NA</td><td>  NA</td><td>  NA</td></tr>\n",
       "\t<tr><td>Belarus                         </td><td>Europe               </td><td>  9405</td><td>15.10</td><td>19.31</td><td>1.47</td><td>71</td><td>  5.2</td><td>111.88</td><td>  NA</td><td>14460</td><td>  NA</td><td>  NA</td></tr>\n",
       "\t<tr><td>Belgium                         </td><td>Europe               </td><td> 11060</td><td>16.88</td><td>23.81</td><td>1.85</td><td>80</td><td>  4.2</td><td>116.61</td><td>  NA</td><td>39190</td><td>98.9</td><td>99.2</td></tr>\n",
       "\t<tr><td>Belize                          </td><td>Americas             </td><td>   324</td><td>34.40</td><td> 5.74</td><td>2.76</td><td>74</td><td> 18.3</td><td> 69.96</td><td>  NA</td><td> 6090</td><td>  NA</td><td>  NA</td></tr>\n",
       "\t<tr><td>Benin                           </td><td>Africa               </td><td> 10051</td><td>42.95</td><td> 4.54</td><td>5.01</td><td>57</td><td> 89.5</td><td> 85.33</td><td>42.4</td><td> 1620</td><td>  NA</td><td>  NA</td></tr>\n",
       "\t<tr><td>Bhutan                          </td><td>South-East Asia      </td><td>   742</td><td>28.53</td><td> 6.90</td><td>2.32</td><td>67</td><td> 44.6</td><td> 65.58</td><td>  NA</td><td> 5570</td><td>88.3</td><td>91.5</td></tr>\n",
       "\t<tr><td>Bolivia (Plurinational State of)</td><td>Americas             </td><td> 10496</td><td>35.23</td><td> 7.28</td><td>3.31</td><td>67</td><td> 41.4</td><td> 82.82</td><td>  NA</td><td> 4890</td><td>91.2</td><td>91.5</td></tr>\n",
       "\t<tr><td>Bosnia and Herzegovina          </td><td>Europe               </td><td>  3834</td><td>16.35</td><td>20.52</td><td>1.26</td><td>76</td><td>  6.7</td><td> 84.52</td><td>97.9</td><td> 9190</td><td>86.5</td><td>88.4</td></tr>\n",
       "\t<tr><td>Botswana                        </td><td>Africa               </td><td>  2004</td><td>33.75</td><td> 5.63</td><td>2.71</td><td>66</td><td> 53.3</td><td>142.82</td><td>84.5</td><td>14550</td><td>  NA</td><td>  NA</td></tr>\n",
       "\t<tr><td>Brazil                          </td><td>Americas             </td><td>199000</td><td>24.56</td><td>10.81</td><td>1.82</td><td>74</td><td> 14.4</td><td>124.26</td><td>  NA</td><td>11420</td><td>  NA</td><td>  NA</td></tr>\n",
       "\t<tr><td>Brunei Darussalam               </td><td>Western Pacific      </td><td>   412</td><td>25.75</td><td> 7.03</td><td>2.03</td><td>77</td><td>  8.0</td><td>109.17</td><td>95.2</td><td>   NA</td><td>  NA</td><td>  NA</td></tr>\n",
       "\t<tr><td>Bulgaria                        </td><td>Europe               </td><td>  7278</td><td>13.53</td><td>26.11</td><td>1.51</td><td>74</td><td> 12.1</td><td>140.68</td><td>  NA</td><td>14160</td><td>99.3</td><td>99.7</td></tr>\n",
       "\t<tr><td>Burkina Faso                    </td><td>Africa               </td><td> 16460</td><td>45.66</td><td> 3.88</td><td>5.78</td><td>56</td><td>102.4</td><td> 45.27</td><td>  NA</td><td> 1300</td><td>60.7</td><td>55.9</td></tr>\n",
       "\t<tr><td>Burundi                         </td><td>Africa               </td><td>  9850</td><td>44.20</td><td> 3.87</td><td>6.21</td><td>53</td><td>104.3</td><td> 22.33</td><td>67.2</td><td>  610</td><td>  NA</td><td>  NA</td></tr>\n",
       "\t<tr><td>Cambodia                        </td><td>Western Pacific      </td><td> 14865</td><td>31.23</td><td> 7.67</td><td>2.93</td><td>65</td><td> 39.7</td><td> 96.17</td><td>  NA</td><td> 2230</td><td>96.4</td><td>95.4</td></tr>\n",
       "\t<tr><td>Cameroon                        </td><td>Africa               </td><td> 21700</td><td>43.08</td><td> 4.89</td><td>4.94</td><td>53</td><td> 94.9</td><td> 52.35</td><td>  NA</td><td> 2330</td><td>99.6</td><td>87.4</td></tr>\n",
       "\t<tr><td>⋮</td><td>⋮</td><td>⋮</td><td>⋮</td><td>⋮</td><td>⋮</td><td>⋮</td><td>⋮</td><td>⋮</td><td>⋮</td><td>⋮</td><td>⋮</td><td>⋮</td></tr>\n",
       "\t<tr><td>Suriname                                 </td><td>Americas             </td><td>   535</td><td>27.83</td><td> 9.55</td><td>2.32</td><td>72</td><td>20.8</td><td>178.88</td><td>94.7</td><td>   NA</td><td>  NA</td><td>  NA</td></tr>\n",
       "\t<tr><td>Swaziland                                </td><td>Africa               </td><td>  1231</td><td>38.05</td><td> 5.34</td><td>3.48</td><td>50</td><td>79.7</td><td> 63.70</td><td>87.4</td><td> 5930</td><td>  NA</td><td>  NA</td></tr>\n",
       "\t<tr><td>Sweden                                   </td><td>Europe               </td><td>  9511</td><td>16.71</td><td>25.32</td><td>1.93</td><td>82</td><td> 2.9</td><td>118.57</td><td>  NA</td><td>42200</td><td>99.7</td><td>99.0</td></tr>\n",
       "\t<tr><td>Switzerland                              </td><td>Europe               </td><td>  7997</td><td>14.79</td><td>23.25</td><td>1.51</td><td>83</td><td> 4.3</td><td>131.43</td><td>  NA</td><td>52570</td><td>98.9</td><td>99.5</td></tr>\n",
       "\t<tr><td>Syrian Arab Republic                     </td><td>Eastern Mediterranean</td><td> 21890</td><td>35.35</td><td> 6.09</td><td>3.04</td><td>75</td><td>15.1</td><td> 63.17</td><td>83.4</td><td>   NA</td><td>  NA</td><td>  NA</td></tr>\n",
       "\t<tr><td>Tajikistan                               </td><td>Europe               </td><td>  8009</td><td>35.75</td><td> 4.80</td><td>3.81</td><td>68</td><td>58.3</td><td> 90.64</td><td>99.7</td><td> 2300</td><td>99.5</td><td>96.0</td></tr>\n",
       "\t<tr><td>Thailand                                 </td><td>South-East Asia      </td><td> 66785</td><td>18.47</td><td>13.96</td><td>1.43</td><td>74</td><td>13.2</td><td>111.63</td><td>  NA</td><td> 8360</td><td>  NA</td><td>  NA</td></tr>\n",
       "\t<tr><td>The former Yugoslav Republic of Macedonia</td><td>Europe               </td><td>  2106</td><td>16.89</td><td>17.56</td><td>1.44</td><td>75</td><td> 7.4</td><td>107.24</td><td>97.3</td><td>11090</td><td>97.3</td><td>99.2</td></tr>\n",
       "\t<tr><td>Timor-Leste                              </td><td>South-East Asia      </td><td>  1114</td><td>46.33</td><td> 5.16</td><td>6.11</td><td>64</td><td>56.7</td><td> 53.23</td><td>58.3</td><td>   NA</td><td>86.2</td><td>85.6</td></tr>\n",
       "\t<tr><td>Togo                                     </td><td>Africa               </td><td>  6643</td><td>41.89</td><td> 4.44</td><td>4.75</td><td>56</td><td>95.5</td><td> 50.45</td><td>  NA</td><td> 1040</td><td>  NA</td><td>  NA</td></tr>\n",
       "\t<tr><td>Tonga                                    </td><td>Western Pacific      </td><td>   105</td><td>37.33</td><td> 7.96</td><td>3.86</td><td>72</td><td>12.8</td><td> 52.63</td><td>  NA</td><td> 5000</td><td>  NA</td><td>  NA</td></tr>\n",
       "\t<tr><td>Trinidad and Tobago                      </td><td>Americas             </td><td>  1337</td><td>20.73</td><td>13.18</td><td>1.80</td><td>71</td><td>20.7</td><td>135.64</td><td>98.8</td><td>   NA</td><td>97.7</td><td>97.0</td></tr>\n",
       "\t<tr><td>Tunisia                                  </td><td>Eastern Mediterranean</td><td> 10875</td><td>23.22</td><td>10.49</td><td>2.04</td><td>76</td><td>16.1</td><td>116.93</td><td>  NA</td><td> 9030</td><td>  NA</td><td>  NA</td></tr>\n",
       "\t<tr><td>Turkey                                   </td><td>Europe               </td><td> 73997</td><td>26.00</td><td>10.56</td><td>2.08</td><td>76</td><td>14.2</td><td> 88.70</td><td>  NA</td><td>16940</td><td>99.5</td><td>98.3</td></tr>\n",
       "\t<tr><td>Turkmenistan                             </td><td>Europe               </td><td>  5173</td><td>28.65</td><td> 6.30</td><td>2.38</td><td>63</td><td>52.8</td><td> 68.77</td><td>99.6</td><td> 8690</td><td>  NA</td><td>  NA</td></tr>\n",
       "\t<tr><td>Tuvalu                                   </td><td>Western Pacific      </td><td>    10</td><td>30.61</td><td> 9.07</td><td>  NA</td><td>64</td><td>29.7</td><td> 21.63</td><td>  NA</td><td>   NA</td><td>  NA</td><td>  NA</td></tr>\n",
       "\t<tr><td>Uganda                                   </td><td>Africa               </td><td> 36346</td><td>48.54</td><td> 3.72</td><td>6.06</td><td>56</td><td>68.9</td><td> 48.38</td><td>73.2</td><td> 1310</td><td>89.7</td><td>92.3</td></tr>\n",
       "\t<tr><td>Ukraine                                  </td><td>Europe               </td><td> 45530</td><td>14.18</td><td>20.76</td><td>1.45</td><td>71</td><td>10.7</td><td>122.98</td><td>99.7</td><td> 7040</td><td>90.8</td><td>91.5</td></tr>\n",
       "\t<tr><td>United Arab Emirates                     </td><td>Eastern Mediterranean</td><td>  9206</td><td>14.41</td><td> 0.81</td><td>1.84</td><td>76</td><td> 8.4</td><td>148.62</td><td>  NA</td><td>47890</td><td>  NA</td><td>  NA</td></tr>\n",
       "\t<tr><td>United Kingdom                           </td><td>Europe               </td><td> 62783</td><td>17.54</td><td>23.06</td><td>1.90</td><td>80</td><td> 4.8</td><td>130.75</td><td>  NA</td><td>36010</td><td>99.8</td><td>99.6</td></tr>\n",
       "\t<tr><td>United Republic of Tanzania              </td><td>Africa               </td><td> 47783</td><td>44.85</td><td> 4.89</td><td>5.36</td><td>59</td><td>54.0</td><td> 55.53</td><td>73.2</td><td> 1500</td><td>  NA</td><td>  NA</td></tr>\n",
       "\t<tr><td>United States of America                 </td><td>Americas             </td><td>318000</td><td>19.63</td><td>19.31</td><td>2.00</td><td>79</td><td> 7.1</td><td> 92.72</td><td>  NA</td><td>48820</td><td>95.4</td><td>96.1</td></tr>\n",
       "\t<tr><td>Uruguay                                  </td><td>Americas             </td><td>  3395</td><td>22.05</td><td>18.59</td><td>2.07</td><td>77</td><td> 7.2</td><td>140.75</td><td>98.1</td><td>14640</td><td>  NA</td><td>  NA</td></tr>\n",
       "\t<tr><td>Uzbekistan                               </td><td>Europe               </td><td> 28541</td><td>28.90</td><td> 6.38</td><td>2.38</td><td>68</td><td>39.6</td><td> 91.65</td><td>99.4</td><td> 3420</td><td>93.3</td><td>91.0</td></tr>\n",
       "\t<tr><td>Vanuatu                                  </td><td>Western Pacific      </td><td>   247</td><td>37.37</td><td> 6.02</td><td>3.46</td><td>72</td><td>17.9</td><td> 55.76</td><td>82.6</td><td> 4330</td><td>  NA</td><td>  NA</td></tr>\n",
       "\t<tr><td>Venezuela (Bolivarian Republic of)       </td><td>Americas             </td><td> 29955</td><td>28.84</td><td> 9.17</td><td>2.44</td><td>75</td><td>15.3</td><td> 97.78</td><td>  NA</td><td>12430</td><td>94.7</td><td>95.1</td></tr>\n",
       "\t<tr><td>Viet Nam                                 </td><td>Western Pacific      </td><td> 90796</td><td>22.87</td><td> 9.32</td><td>1.79</td><td>75</td><td>23.0</td><td>143.39</td><td>93.2</td><td> 3250</td><td>  NA</td><td>  NA</td></tr>\n",
       "\t<tr><td>Yemen                                    </td><td>Eastern Mediterranean</td><td> 23852</td><td>40.72</td><td> 4.54</td><td>4.35</td><td>64</td><td>60.0</td><td> 47.05</td><td>63.9</td><td> 2170</td><td>85.5</td><td>70.5</td></tr>\n",
       "\t<tr><td>Zambia                                   </td><td>Africa               </td><td> 14075</td><td>46.73</td><td> 3.95</td><td>5.77</td><td>55</td><td>88.5</td><td> 60.59</td><td>71.2</td><td> 1490</td><td>91.4</td><td>93.9</td></tr>\n",
       "\t<tr><td>Zimbabwe                                 </td><td>Africa               </td><td> 13724</td><td>40.24</td><td> 5.68</td><td>3.64</td><td>54</td><td>89.8</td><td> 72.13</td><td>92.2</td><td>   NA</td><td>  NA</td><td>  NA</td></tr>\n",
       "</tbody>\n",
       "</table>\n"
      ],
      "text/latex": [
       "A data.frame: 194 × 13\n",
       "\\begin{tabular}{lllllllllllll}\n",
       " Country & Region & Population & Under15 & Over60 & FertilityRate & LifeExpectancy & ChildMortality & CellularSubscribers & LiteracyRate & GNI & PrimarySchoolEnrollmentMale & PrimarySchoolEnrollmentFemale\\\\\n",
       " <chr> & <chr> & <int> & <dbl> & <dbl> & <dbl> & <int> & <dbl> & <dbl> & <dbl> & <dbl> & <dbl> & <dbl>\\\\\n",
       "\\hline\n",
       "\t Afghanistan                      & Eastern Mediterranean &  29825 & 47.42 &  3.82 & 5.40 & 60 &  98.5 &  54.26 &   NA &  1140 &   NA &   NA\\\\\n",
       "\t Albania                          & Europe                &   3162 & 21.33 & 14.93 & 1.75 & 74 &  16.7 &  96.39 &   NA &  8820 &   NA &   NA\\\\\n",
       "\t Algeria                          & Africa                &  38482 & 27.42 &  7.17 & 2.83 & 73 &  20.0 &  98.99 &   NA &  8310 & 98.2 & 96.4\\\\\n",
       "\t Andorra                          & Europe                &     78 & 15.20 & 22.86 &   NA & 82 &   3.2 &  75.49 &   NA &    NA & 78.4 & 79.4\\\\\n",
       "\t Angola                           & Africa                &  20821 & 47.58 &  3.84 & 6.10 & 51 & 163.5 &  48.38 & 70.1 &  5230 & 93.1 & 78.2\\\\\n",
       "\t Antigua and Barbuda              & Americas              &     89 & 25.96 & 12.35 & 2.12 & 75 &   9.9 & 196.41 & 99.0 & 17900 & 91.1 & 84.5\\\\\n",
       "\t Argentina                        & Americas              &  41087 & 24.42 & 14.97 & 2.20 & 76 &  14.2 & 134.92 & 97.8 & 17130 &   NA &   NA\\\\\n",
       "\t Armenia                          & Europe                &   2969 & 20.34 & 14.06 & 1.74 & 71 &  16.4 & 103.57 & 99.6 &  6100 &   NA &   NA\\\\\n",
       "\t Australia                        & Western Pacific       &  23050 & 18.95 & 19.46 & 1.89 & 82 &   4.9 & 108.34 &   NA & 38110 & 96.9 & 97.5\\\\\n",
       "\t Austria                          & Europe                &   8464 & 14.51 & 23.52 & 1.44 & 81 &   4.0 & 154.78 &   NA & 42050 &   NA &   NA\\\\\n",
       "\t Azerbaijan                       & Europe                &   9309 & 22.25 &  8.24 & 1.96 & 71 &  35.2 & 108.75 &   NA &  8960 & 85.3 & 84.1\\\\\n",
       "\t Bahamas                          & Americas              &    372 & 21.62 & 11.24 & 1.90 & 75 &  16.9 &  86.06 &   NA &    NA &   NA &   NA\\\\\n",
       "\t Bahrain                          & Eastern Mediterranean &   1318 & 20.16 &  3.38 & 2.12 & 79 &   9.6 & 127.96 & 91.9 &    NA &   NA &   NA\\\\\n",
       "\t Bangladesh                       & South-East Asia       & 155000 & 30.57 &  6.89 & 2.24 & 70 &  40.9 &  56.06 & 56.8 &  1940 &   NA &   NA\\\\\n",
       "\t Barbados                         & Americas              &    283 & 18.99 & 15.78 & 1.84 & 78 &  18.4 & 127.01 &   NA &    NA &   NA &   NA\\\\\n",
       "\t Belarus                          & Europe                &   9405 & 15.10 & 19.31 & 1.47 & 71 &   5.2 & 111.88 &   NA & 14460 &   NA &   NA\\\\\n",
       "\t Belgium                          & Europe                &  11060 & 16.88 & 23.81 & 1.85 & 80 &   4.2 & 116.61 &   NA & 39190 & 98.9 & 99.2\\\\\n",
       "\t Belize                           & Americas              &    324 & 34.40 &  5.74 & 2.76 & 74 &  18.3 &  69.96 &   NA &  6090 &   NA &   NA\\\\\n",
       "\t Benin                            & Africa                &  10051 & 42.95 &  4.54 & 5.01 & 57 &  89.5 &  85.33 & 42.4 &  1620 &   NA &   NA\\\\\n",
       "\t Bhutan                           & South-East Asia       &    742 & 28.53 &  6.90 & 2.32 & 67 &  44.6 &  65.58 &   NA &  5570 & 88.3 & 91.5\\\\\n",
       "\t Bolivia (Plurinational State of) & Americas              &  10496 & 35.23 &  7.28 & 3.31 & 67 &  41.4 &  82.82 &   NA &  4890 & 91.2 & 91.5\\\\\n",
       "\t Bosnia and Herzegovina           & Europe                &   3834 & 16.35 & 20.52 & 1.26 & 76 &   6.7 &  84.52 & 97.9 &  9190 & 86.5 & 88.4\\\\\n",
       "\t Botswana                         & Africa                &   2004 & 33.75 &  5.63 & 2.71 & 66 &  53.3 & 142.82 & 84.5 & 14550 &   NA &   NA\\\\\n",
       "\t Brazil                           & Americas              & 199000 & 24.56 & 10.81 & 1.82 & 74 &  14.4 & 124.26 &   NA & 11420 &   NA &   NA\\\\\n",
       "\t Brunei Darussalam                & Western Pacific       &    412 & 25.75 &  7.03 & 2.03 & 77 &   8.0 & 109.17 & 95.2 &    NA &   NA &   NA\\\\\n",
       "\t Bulgaria                         & Europe                &   7278 & 13.53 & 26.11 & 1.51 & 74 &  12.1 & 140.68 &   NA & 14160 & 99.3 & 99.7\\\\\n",
       "\t Burkina Faso                     & Africa                &  16460 & 45.66 &  3.88 & 5.78 & 56 & 102.4 &  45.27 &   NA &  1300 & 60.7 & 55.9\\\\\n",
       "\t Burundi                          & Africa                &   9850 & 44.20 &  3.87 & 6.21 & 53 & 104.3 &  22.33 & 67.2 &   610 &   NA &   NA\\\\\n",
       "\t Cambodia                         & Western Pacific       &  14865 & 31.23 &  7.67 & 2.93 & 65 &  39.7 &  96.17 &   NA &  2230 & 96.4 & 95.4\\\\\n",
       "\t Cameroon                         & Africa                &  21700 & 43.08 &  4.89 & 4.94 & 53 &  94.9 &  52.35 &   NA &  2330 & 99.6 & 87.4\\\\\n",
       "\t ⋮ & ⋮ & ⋮ & ⋮ & ⋮ & ⋮ & ⋮ & ⋮ & ⋮ & ⋮ & ⋮ & ⋮ & ⋮\\\\\n",
       "\t Suriname                                  & Americas              &    535 & 27.83 &  9.55 & 2.32 & 72 & 20.8 & 178.88 & 94.7 &    NA &   NA &   NA\\\\\n",
       "\t Swaziland                                 & Africa                &   1231 & 38.05 &  5.34 & 3.48 & 50 & 79.7 &  63.70 & 87.4 &  5930 &   NA &   NA\\\\\n",
       "\t Sweden                                    & Europe                &   9511 & 16.71 & 25.32 & 1.93 & 82 &  2.9 & 118.57 &   NA & 42200 & 99.7 & 99.0\\\\\n",
       "\t Switzerland                               & Europe                &   7997 & 14.79 & 23.25 & 1.51 & 83 &  4.3 & 131.43 &   NA & 52570 & 98.9 & 99.5\\\\\n",
       "\t Syrian Arab Republic                      & Eastern Mediterranean &  21890 & 35.35 &  6.09 & 3.04 & 75 & 15.1 &  63.17 & 83.4 &    NA &   NA &   NA\\\\\n",
       "\t Tajikistan                                & Europe                &   8009 & 35.75 &  4.80 & 3.81 & 68 & 58.3 &  90.64 & 99.7 &  2300 & 99.5 & 96.0\\\\\n",
       "\t Thailand                                  & South-East Asia       &  66785 & 18.47 & 13.96 & 1.43 & 74 & 13.2 & 111.63 &   NA &  8360 &   NA &   NA\\\\\n",
       "\t The former Yugoslav Republic of Macedonia & Europe                &   2106 & 16.89 & 17.56 & 1.44 & 75 &  7.4 & 107.24 & 97.3 & 11090 & 97.3 & 99.2\\\\\n",
       "\t Timor-Leste                               & South-East Asia       &   1114 & 46.33 &  5.16 & 6.11 & 64 & 56.7 &  53.23 & 58.3 &    NA & 86.2 & 85.6\\\\\n",
       "\t Togo                                      & Africa                &   6643 & 41.89 &  4.44 & 4.75 & 56 & 95.5 &  50.45 &   NA &  1040 &   NA &   NA\\\\\n",
       "\t Tonga                                     & Western Pacific       &    105 & 37.33 &  7.96 & 3.86 & 72 & 12.8 &  52.63 &   NA &  5000 &   NA &   NA\\\\\n",
       "\t Trinidad and Tobago                       & Americas              &   1337 & 20.73 & 13.18 & 1.80 & 71 & 20.7 & 135.64 & 98.8 &    NA & 97.7 & 97.0\\\\\n",
       "\t Tunisia                                   & Eastern Mediterranean &  10875 & 23.22 & 10.49 & 2.04 & 76 & 16.1 & 116.93 &   NA &  9030 &   NA &   NA\\\\\n",
       "\t Turkey                                    & Europe                &  73997 & 26.00 & 10.56 & 2.08 & 76 & 14.2 &  88.70 &   NA & 16940 & 99.5 & 98.3\\\\\n",
       "\t Turkmenistan                              & Europe                &   5173 & 28.65 &  6.30 & 2.38 & 63 & 52.8 &  68.77 & 99.6 &  8690 &   NA &   NA\\\\\n",
       "\t Tuvalu                                    & Western Pacific       &     10 & 30.61 &  9.07 &   NA & 64 & 29.7 &  21.63 &   NA &    NA &   NA &   NA\\\\\n",
       "\t Uganda                                    & Africa                &  36346 & 48.54 &  3.72 & 6.06 & 56 & 68.9 &  48.38 & 73.2 &  1310 & 89.7 & 92.3\\\\\n",
       "\t Ukraine                                   & Europe                &  45530 & 14.18 & 20.76 & 1.45 & 71 & 10.7 & 122.98 & 99.7 &  7040 & 90.8 & 91.5\\\\\n",
       "\t United Arab Emirates                      & Eastern Mediterranean &   9206 & 14.41 &  0.81 & 1.84 & 76 &  8.4 & 148.62 &   NA & 47890 &   NA &   NA\\\\\n",
       "\t United Kingdom                            & Europe                &  62783 & 17.54 & 23.06 & 1.90 & 80 &  4.8 & 130.75 &   NA & 36010 & 99.8 & 99.6\\\\\n",
       "\t United Republic of Tanzania               & Africa                &  47783 & 44.85 &  4.89 & 5.36 & 59 & 54.0 &  55.53 & 73.2 &  1500 &   NA &   NA\\\\\n",
       "\t United States of America                  & Americas              & 318000 & 19.63 & 19.31 & 2.00 & 79 &  7.1 &  92.72 &   NA & 48820 & 95.4 & 96.1\\\\\n",
       "\t Uruguay                                   & Americas              &   3395 & 22.05 & 18.59 & 2.07 & 77 &  7.2 & 140.75 & 98.1 & 14640 &   NA &   NA\\\\\n",
       "\t Uzbekistan                                & Europe                &  28541 & 28.90 &  6.38 & 2.38 & 68 & 39.6 &  91.65 & 99.4 &  3420 & 93.3 & 91.0\\\\\n",
       "\t Vanuatu                                   & Western Pacific       &    247 & 37.37 &  6.02 & 3.46 & 72 & 17.9 &  55.76 & 82.6 &  4330 &   NA &   NA\\\\\n",
       "\t Venezuela (Bolivarian Republic of)        & Americas              &  29955 & 28.84 &  9.17 & 2.44 & 75 & 15.3 &  97.78 &   NA & 12430 & 94.7 & 95.1\\\\\n",
       "\t Viet Nam                                  & Western Pacific       &  90796 & 22.87 &  9.32 & 1.79 & 75 & 23.0 & 143.39 & 93.2 &  3250 &   NA &   NA\\\\\n",
       "\t Yemen                                     & Eastern Mediterranean &  23852 & 40.72 &  4.54 & 4.35 & 64 & 60.0 &  47.05 & 63.9 &  2170 & 85.5 & 70.5\\\\\n",
       "\t Zambia                                    & Africa                &  14075 & 46.73 &  3.95 & 5.77 & 55 & 88.5 &  60.59 & 71.2 &  1490 & 91.4 & 93.9\\\\\n",
       "\t Zimbabwe                                  & Africa                &  13724 & 40.24 &  5.68 & 3.64 & 54 & 89.8 &  72.13 & 92.2 &    NA &   NA &   NA\\\\\n",
       "\\end{tabular}\n"
      ],
      "text/markdown": [
       "\n",
       "A data.frame: 194 × 13\n",
       "\n",
       "| Country &lt;chr&gt; | Region &lt;chr&gt; | Population &lt;int&gt; | Under15 &lt;dbl&gt; | Over60 &lt;dbl&gt; | FertilityRate &lt;dbl&gt; | LifeExpectancy &lt;int&gt; | ChildMortality &lt;dbl&gt; | CellularSubscribers &lt;dbl&gt; | LiteracyRate &lt;dbl&gt; | GNI &lt;dbl&gt; | PrimarySchoolEnrollmentMale &lt;dbl&gt; | PrimarySchoolEnrollmentFemale &lt;dbl&gt; |\n",
       "|---|---|---|---|---|---|---|---|---|---|---|---|---|\n",
       "| Afghanistan                      | Eastern Mediterranean |  29825 | 47.42 |  3.82 | 5.40 | 60 |  98.5 |  54.26 |   NA |  1140 |   NA |   NA |\n",
       "| Albania                          | Europe                |   3162 | 21.33 | 14.93 | 1.75 | 74 |  16.7 |  96.39 |   NA |  8820 |   NA |   NA |\n",
       "| Algeria                          | Africa                |  38482 | 27.42 |  7.17 | 2.83 | 73 |  20.0 |  98.99 |   NA |  8310 | 98.2 | 96.4 |\n",
       "| Andorra                          | Europe                |     78 | 15.20 | 22.86 |   NA | 82 |   3.2 |  75.49 |   NA |    NA | 78.4 | 79.4 |\n",
       "| Angola                           | Africa                |  20821 | 47.58 |  3.84 | 6.10 | 51 | 163.5 |  48.38 | 70.1 |  5230 | 93.1 | 78.2 |\n",
       "| Antigua and Barbuda              | Americas              |     89 | 25.96 | 12.35 | 2.12 | 75 |   9.9 | 196.41 | 99.0 | 17900 | 91.1 | 84.5 |\n",
       "| Argentina                        | Americas              |  41087 | 24.42 | 14.97 | 2.20 | 76 |  14.2 | 134.92 | 97.8 | 17130 |   NA |   NA |\n",
       "| Armenia                          | Europe                |   2969 | 20.34 | 14.06 | 1.74 | 71 |  16.4 | 103.57 | 99.6 |  6100 |   NA |   NA |\n",
       "| Australia                        | Western Pacific       |  23050 | 18.95 | 19.46 | 1.89 | 82 |   4.9 | 108.34 |   NA | 38110 | 96.9 | 97.5 |\n",
       "| Austria                          | Europe                |   8464 | 14.51 | 23.52 | 1.44 | 81 |   4.0 | 154.78 |   NA | 42050 |   NA |   NA |\n",
       "| Azerbaijan                       | Europe                |   9309 | 22.25 |  8.24 | 1.96 | 71 |  35.2 | 108.75 |   NA |  8960 | 85.3 | 84.1 |\n",
       "| Bahamas                          | Americas              |    372 | 21.62 | 11.24 | 1.90 | 75 |  16.9 |  86.06 |   NA |    NA |   NA |   NA |\n",
       "| Bahrain                          | Eastern Mediterranean |   1318 | 20.16 |  3.38 | 2.12 | 79 |   9.6 | 127.96 | 91.9 |    NA |   NA |   NA |\n",
       "| Bangladesh                       | South-East Asia       | 155000 | 30.57 |  6.89 | 2.24 | 70 |  40.9 |  56.06 | 56.8 |  1940 |   NA |   NA |\n",
       "| Barbados                         | Americas              |    283 | 18.99 | 15.78 | 1.84 | 78 |  18.4 | 127.01 |   NA |    NA |   NA |   NA |\n",
       "| Belarus                          | Europe                |   9405 | 15.10 | 19.31 | 1.47 | 71 |   5.2 | 111.88 |   NA | 14460 |   NA |   NA |\n",
       "| Belgium                          | Europe                |  11060 | 16.88 | 23.81 | 1.85 | 80 |   4.2 | 116.61 |   NA | 39190 | 98.9 | 99.2 |\n",
       "| Belize                           | Americas              |    324 | 34.40 |  5.74 | 2.76 | 74 |  18.3 |  69.96 |   NA |  6090 |   NA |   NA |\n",
       "| Benin                            | Africa                |  10051 | 42.95 |  4.54 | 5.01 | 57 |  89.5 |  85.33 | 42.4 |  1620 |   NA |   NA |\n",
       "| Bhutan                           | South-East Asia       |    742 | 28.53 |  6.90 | 2.32 | 67 |  44.6 |  65.58 |   NA |  5570 | 88.3 | 91.5 |\n",
       "| Bolivia (Plurinational State of) | Americas              |  10496 | 35.23 |  7.28 | 3.31 | 67 |  41.4 |  82.82 |   NA |  4890 | 91.2 | 91.5 |\n",
       "| Bosnia and Herzegovina           | Europe                |   3834 | 16.35 | 20.52 | 1.26 | 76 |   6.7 |  84.52 | 97.9 |  9190 | 86.5 | 88.4 |\n",
       "| Botswana                         | Africa                |   2004 | 33.75 |  5.63 | 2.71 | 66 |  53.3 | 142.82 | 84.5 | 14550 |   NA |   NA |\n",
       "| Brazil                           | Americas              | 199000 | 24.56 | 10.81 | 1.82 | 74 |  14.4 | 124.26 |   NA | 11420 |   NA |   NA |\n",
       "| Brunei Darussalam                | Western Pacific       |    412 | 25.75 |  7.03 | 2.03 | 77 |   8.0 | 109.17 | 95.2 |    NA |   NA |   NA |\n",
       "| Bulgaria                         | Europe                |   7278 | 13.53 | 26.11 | 1.51 | 74 |  12.1 | 140.68 |   NA | 14160 | 99.3 | 99.7 |\n",
       "| Burkina Faso                     | Africa                |  16460 | 45.66 |  3.88 | 5.78 | 56 | 102.4 |  45.27 |   NA |  1300 | 60.7 | 55.9 |\n",
       "| Burundi                          | Africa                |   9850 | 44.20 |  3.87 | 6.21 | 53 | 104.3 |  22.33 | 67.2 |   610 |   NA |   NA |\n",
       "| Cambodia                         | Western Pacific       |  14865 | 31.23 |  7.67 | 2.93 | 65 |  39.7 |  96.17 |   NA |  2230 | 96.4 | 95.4 |\n",
       "| Cameroon                         | Africa                |  21700 | 43.08 |  4.89 | 4.94 | 53 |  94.9 |  52.35 |   NA |  2330 | 99.6 | 87.4 |\n",
       "| ⋮ | ⋮ | ⋮ | ⋮ | ⋮ | ⋮ | ⋮ | ⋮ | ⋮ | ⋮ | ⋮ | ⋮ | ⋮ |\n",
       "| Suriname                                  | Americas              |    535 | 27.83 |  9.55 | 2.32 | 72 | 20.8 | 178.88 | 94.7 |    NA |   NA |   NA |\n",
       "| Swaziland                                 | Africa                |   1231 | 38.05 |  5.34 | 3.48 | 50 | 79.7 |  63.70 | 87.4 |  5930 |   NA |   NA |\n",
       "| Sweden                                    | Europe                |   9511 | 16.71 | 25.32 | 1.93 | 82 |  2.9 | 118.57 |   NA | 42200 | 99.7 | 99.0 |\n",
       "| Switzerland                               | Europe                |   7997 | 14.79 | 23.25 | 1.51 | 83 |  4.3 | 131.43 |   NA | 52570 | 98.9 | 99.5 |\n",
       "| Syrian Arab Republic                      | Eastern Mediterranean |  21890 | 35.35 |  6.09 | 3.04 | 75 | 15.1 |  63.17 | 83.4 |    NA |   NA |   NA |\n",
       "| Tajikistan                                | Europe                |   8009 | 35.75 |  4.80 | 3.81 | 68 | 58.3 |  90.64 | 99.7 |  2300 | 99.5 | 96.0 |\n",
       "| Thailand                                  | South-East Asia       |  66785 | 18.47 | 13.96 | 1.43 | 74 | 13.2 | 111.63 |   NA |  8360 |   NA |   NA |\n",
       "| The former Yugoslav Republic of Macedonia | Europe                |   2106 | 16.89 | 17.56 | 1.44 | 75 |  7.4 | 107.24 | 97.3 | 11090 | 97.3 | 99.2 |\n",
       "| Timor-Leste                               | South-East Asia       |   1114 | 46.33 |  5.16 | 6.11 | 64 | 56.7 |  53.23 | 58.3 |    NA | 86.2 | 85.6 |\n",
       "| Togo                                      | Africa                |   6643 | 41.89 |  4.44 | 4.75 | 56 | 95.5 |  50.45 |   NA |  1040 |   NA |   NA |\n",
       "| Tonga                                     | Western Pacific       |    105 | 37.33 |  7.96 | 3.86 | 72 | 12.8 |  52.63 |   NA |  5000 |   NA |   NA |\n",
       "| Trinidad and Tobago                       | Americas              |   1337 | 20.73 | 13.18 | 1.80 | 71 | 20.7 | 135.64 | 98.8 |    NA | 97.7 | 97.0 |\n",
       "| Tunisia                                   | Eastern Mediterranean |  10875 | 23.22 | 10.49 | 2.04 | 76 | 16.1 | 116.93 |   NA |  9030 |   NA |   NA |\n",
       "| Turkey                                    | Europe                |  73997 | 26.00 | 10.56 | 2.08 | 76 | 14.2 |  88.70 |   NA | 16940 | 99.5 | 98.3 |\n",
       "| Turkmenistan                              | Europe                |   5173 | 28.65 |  6.30 | 2.38 | 63 | 52.8 |  68.77 | 99.6 |  8690 |   NA |   NA |\n",
       "| Tuvalu                                    | Western Pacific       |     10 | 30.61 |  9.07 |   NA | 64 | 29.7 |  21.63 |   NA |    NA |   NA |   NA |\n",
       "| Uganda                                    | Africa                |  36346 | 48.54 |  3.72 | 6.06 | 56 | 68.9 |  48.38 | 73.2 |  1310 | 89.7 | 92.3 |\n",
       "| Ukraine                                   | Europe                |  45530 | 14.18 | 20.76 | 1.45 | 71 | 10.7 | 122.98 | 99.7 |  7040 | 90.8 | 91.5 |\n",
       "| United Arab Emirates                      | Eastern Mediterranean |   9206 | 14.41 |  0.81 | 1.84 | 76 |  8.4 | 148.62 |   NA | 47890 |   NA |   NA |\n",
       "| United Kingdom                            | Europe                |  62783 | 17.54 | 23.06 | 1.90 | 80 |  4.8 | 130.75 |   NA | 36010 | 99.8 | 99.6 |\n",
       "| United Republic of Tanzania               | Africa                |  47783 | 44.85 |  4.89 | 5.36 | 59 | 54.0 |  55.53 | 73.2 |  1500 |   NA |   NA |\n",
       "| United States of America                  | Americas              | 318000 | 19.63 | 19.31 | 2.00 | 79 |  7.1 |  92.72 |   NA | 48820 | 95.4 | 96.1 |\n",
       "| Uruguay                                   | Americas              |   3395 | 22.05 | 18.59 | 2.07 | 77 |  7.2 | 140.75 | 98.1 | 14640 |   NA |   NA |\n",
       "| Uzbekistan                                | Europe                |  28541 | 28.90 |  6.38 | 2.38 | 68 | 39.6 |  91.65 | 99.4 |  3420 | 93.3 | 91.0 |\n",
       "| Vanuatu                                   | Western Pacific       |    247 | 37.37 |  6.02 | 3.46 | 72 | 17.9 |  55.76 | 82.6 |  4330 |   NA |   NA |\n",
       "| Venezuela (Bolivarian Republic of)        | Americas              |  29955 | 28.84 |  9.17 | 2.44 | 75 | 15.3 |  97.78 |   NA | 12430 | 94.7 | 95.1 |\n",
       "| Viet Nam                                  | Western Pacific       |  90796 | 22.87 |  9.32 | 1.79 | 75 | 23.0 | 143.39 | 93.2 |  3250 |   NA |   NA |\n",
       "| Yemen                                     | Eastern Mediterranean |  23852 | 40.72 |  4.54 | 4.35 | 64 | 60.0 |  47.05 | 63.9 |  2170 | 85.5 | 70.5 |\n",
       "| Zambia                                    | Africa                |  14075 | 46.73 |  3.95 | 5.77 | 55 | 88.5 |  60.59 | 71.2 |  1490 | 91.4 | 93.9 |\n",
       "| Zimbabwe                                  | Africa                |  13724 | 40.24 |  5.68 | 3.64 | 54 | 89.8 |  72.13 | 92.2 |    NA |   NA |   NA |\n",
       "\n"
      ],
      "text/plain": [
       "    Country                                   Region                Population\n",
       "1   Afghanistan                               Eastern Mediterranean  29825    \n",
       "2   Albania                                   Europe                  3162    \n",
       "3   Algeria                                   Africa                 38482    \n",
       "4   Andorra                                   Europe                    78    \n",
       "5   Angola                                    Africa                 20821    \n",
       "6   Antigua and Barbuda                       Americas                  89    \n",
       "7   Argentina                                 Americas               41087    \n",
       "8   Armenia                                   Europe                  2969    \n",
       "9   Australia                                 Western Pacific        23050    \n",
       "10  Austria                                   Europe                  8464    \n",
       "11  Azerbaijan                                Europe                  9309    \n",
       "12  Bahamas                                   Americas                 372    \n",
       "13  Bahrain                                   Eastern Mediterranean   1318    \n",
       "14  Bangladesh                                South-East Asia       155000    \n",
       "15  Barbados                                  Americas                 283    \n",
       "16  Belarus                                   Europe                  9405    \n",
       "17  Belgium                                   Europe                 11060    \n",
       "18  Belize                                    Americas                 324    \n",
       "19  Benin                                     Africa                 10051    \n",
       "20  Bhutan                                    South-East Asia          742    \n",
       "21  Bolivia (Plurinational State of)          Americas               10496    \n",
       "22  Bosnia and Herzegovina                    Europe                  3834    \n",
       "23  Botswana                                  Africa                  2004    \n",
       "24  Brazil                                    Americas              199000    \n",
       "25  Brunei Darussalam                         Western Pacific          412    \n",
       "26  Bulgaria                                  Europe                  7278    \n",
       "27  Burkina Faso                              Africa                 16460    \n",
       "28  Burundi                                   Africa                  9850    \n",
       "29  Cambodia                                  Western Pacific        14865    \n",
       "30  Cameroon                                  Africa                 21700    \n",
       "⋮   ⋮                                         ⋮                     ⋮         \n",
       "165 Suriname                                  Americas                 535    \n",
       "166 Swaziland                                 Africa                  1231    \n",
       "167 Sweden                                    Europe                  9511    \n",
       "168 Switzerland                               Europe                  7997    \n",
       "169 Syrian Arab Republic                      Eastern Mediterranean  21890    \n",
       "170 Tajikistan                                Europe                  8009    \n",
       "171 Thailand                                  South-East Asia        66785    \n",
       "172 The former Yugoslav Republic of Macedonia Europe                  2106    \n",
       "173 Timor-Leste                               South-East Asia         1114    \n",
       "174 Togo                                      Africa                  6643    \n",
       "175 Tonga                                     Western Pacific          105    \n",
       "176 Trinidad and Tobago                       Americas                1337    \n",
       "177 Tunisia                                   Eastern Mediterranean  10875    \n",
       "178 Turkey                                    Europe                 73997    \n",
       "179 Turkmenistan                              Europe                  5173    \n",
       "180 Tuvalu                                    Western Pacific           10    \n",
       "181 Uganda                                    Africa                 36346    \n",
       "182 Ukraine                                   Europe                 45530    \n",
       "183 United Arab Emirates                      Eastern Mediterranean   9206    \n",
       "184 United Kingdom                            Europe                 62783    \n",
       "185 United Republic of Tanzania               Africa                 47783    \n",
       "186 United States of America                  Americas              318000    \n",
       "187 Uruguay                                   Americas                3395    \n",
       "188 Uzbekistan                                Europe                 28541    \n",
       "189 Vanuatu                                   Western Pacific          247    \n",
       "190 Venezuela (Bolivarian Republic of)        Americas               29955    \n",
       "191 Viet Nam                                  Western Pacific        90796    \n",
       "192 Yemen                                     Eastern Mediterranean  23852    \n",
       "193 Zambia                                    Africa                 14075    \n",
       "194 Zimbabwe                                  Africa                 13724    \n",
       "    Under15 Over60 FertilityRate LifeExpectancy ChildMortality\n",
       "1   47.42    3.82  5.40          60              98.5         \n",
       "2   21.33   14.93  1.75          74              16.7         \n",
       "3   27.42    7.17  2.83          73              20.0         \n",
       "4   15.20   22.86    NA          82               3.2         \n",
       "5   47.58    3.84  6.10          51             163.5         \n",
       "6   25.96   12.35  2.12          75               9.9         \n",
       "7   24.42   14.97  2.20          76              14.2         \n",
       "8   20.34   14.06  1.74          71              16.4         \n",
       "9   18.95   19.46  1.89          82               4.9         \n",
       "10  14.51   23.52  1.44          81               4.0         \n",
       "11  22.25    8.24  1.96          71              35.2         \n",
       "12  21.62   11.24  1.90          75              16.9         \n",
       "13  20.16    3.38  2.12          79               9.6         \n",
       "14  30.57    6.89  2.24          70              40.9         \n",
       "15  18.99   15.78  1.84          78              18.4         \n",
       "16  15.10   19.31  1.47          71               5.2         \n",
       "17  16.88   23.81  1.85          80               4.2         \n",
       "18  34.40    5.74  2.76          74              18.3         \n",
       "19  42.95    4.54  5.01          57              89.5         \n",
       "20  28.53    6.90  2.32          67              44.6         \n",
       "21  35.23    7.28  3.31          67              41.4         \n",
       "22  16.35   20.52  1.26          76               6.7         \n",
       "23  33.75    5.63  2.71          66              53.3         \n",
       "24  24.56   10.81  1.82          74              14.4         \n",
       "25  25.75    7.03  2.03          77               8.0         \n",
       "26  13.53   26.11  1.51          74              12.1         \n",
       "27  45.66    3.88  5.78          56             102.4         \n",
       "28  44.20    3.87  6.21          53             104.3         \n",
       "29  31.23    7.67  2.93          65              39.7         \n",
       "30  43.08    4.89  4.94          53              94.9         \n",
       "⋮   ⋮       ⋮      ⋮             ⋮              ⋮             \n",
       "165 27.83    9.55  2.32          72             20.8          \n",
       "166 38.05    5.34  3.48          50             79.7          \n",
       "167 16.71   25.32  1.93          82              2.9          \n",
       "168 14.79   23.25  1.51          83              4.3          \n",
       "169 35.35    6.09  3.04          75             15.1          \n",
       "170 35.75    4.80  3.81          68             58.3          \n",
       "171 18.47   13.96  1.43          74             13.2          \n",
       "172 16.89   17.56  1.44          75              7.4          \n",
       "173 46.33    5.16  6.11          64             56.7          \n",
       "174 41.89    4.44  4.75          56             95.5          \n",
       "175 37.33    7.96  3.86          72             12.8          \n",
       "176 20.73   13.18  1.80          71             20.7          \n",
       "177 23.22   10.49  2.04          76             16.1          \n",
       "178 26.00   10.56  2.08          76             14.2          \n",
       "179 28.65    6.30  2.38          63             52.8          \n",
       "180 30.61    9.07    NA          64             29.7          \n",
       "181 48.54    3.72  6.06          56             68.9          \n",
       "182 14.18   20.76  1.45          71             10.7          \n",
       "183 14.41    0.81  1.84          76              8.4          \n",
       "184 17.54   23.06  1.90          80              4.8          \n",
       "185 44.85    4.89  5.36          59             54.0          \n",
       "186 19.63   19.31  2.00          79              7.1          \n",
       "187 22.05   18.59  2.07          77              7.2          \n",
       "188 28.90    6.38  2.38          68             39.6          \n",
       "189 37.37    6.02  3.46          72             17.9          \n",
       "190 28.84    9.17  2.44          75             15.3          \n",
       "191 22.87    9.32  1.79          75             23.0          \n",
       "192 40.72    4.54  4.35          64             60.0          \n",
       "193 46.73    3.95  5.77          55             88.5          \n",
       "194 40.24    5.68  3.64          54             89.8          \n",
       "    CellularSubscribers LiteracyRate GNI   PrimarySchoolEnrollmentMale\n",
       "1    54.26                NA          1140   NA                       \n",
       "2    96.39                NA          8820   NA                       \n",
       "3    98.99                NA          8310 98.2                       \n",
       "4    75.49                NA            NA 78.4                       \n",
       "5    48.38              70.1          5230 93.1                       \n",
       "6   196.41              99.0         17900 91.1                       \n",
       "7   134.92              97.8         17130   NA                       \n",
       "8   103.57              99.6          6100   NA                       \n",
       "9   108.34                NA         38110 96.9                       \n",
       "10  154.78                NA         42050   NA                       \n",
       "11  108.75                NA          8960 85.3                       \n",
       "12   86.06                NA            NA   NA                       \n",
       "13  127.96              91.9            NA   NA                       \n",
       "14   56.06              56.8          1940   NA                       \n",
       "15  127.01                NA            NA   NA                       \n",
       "16  111.88                NA         14460   NA                       \n",
       "17  116.61                NA         39190 98.9                       \n",
       "18   69.96                NA          6090   NA                       \n",
       "19   85.33              42.4          1620   NA                       \n",
       "20   65.58                NA          5570 88.3                       \n",
       "21   82.82                NA          4890 91.2                       \n",
       "22   84.52              97.9          9190 86.5                       \n",
       "23  142.82              84.5         14550   NA                       \n",
       "24  124.26                NA         11420   NA                       \n",
       "25  109.17              95.2            NA   NA                       \n",
       "26  140.68                NA         14160 99.3                       \n",
       "27   45.27                NA          1300 60.7                       \n",
       "28   22.33              67.2           610   NA                       \n",
       "29   96.17                NA          2230 96.4                       \n",
       "30   52.35                NA          2330 99.6                       \n",
       "⋮   ⋮                   ⋮            ⋮     ⋮                          \n",
       "165 178.88              94.7            NA   NA                       \n",
       "166  63.70              87.4          5930   NA                       \n",
       "167 118.57                NA         42200 99.7                       \n",
       "168 131.43                NA         52570 98.9                       \n",
       "169  63.17              83.4            NA   NA                       \n",
       "170  90.64              99.7          2300 99.5                       \n",
       "171 111.63                NA          8360   NA                       \n",
       "172 107.24              97.3         11090 97.3                       \n",
       "173  53.23              58.3            NA 86.2                       \n",
       "174  50.45                NA          1040   NA                       \n",
       "175  52.63                NA          5000   NA                       \n",
       "176 135.64              98.8            NA 97.7                       \n",
       "177 116.93                NA          9030   NA                       \n",
       "178  88.70                NA         16940 99.5                       \n",
       "179  68.77              99.6          8690   NA                       \n",
       "180  21.63                NA            NA   NA                       \n",
       "181  48.38              73.2          1310 89.7                       \n",
       "182 122.98              99.7          7040 90.8                       \n",
       "183 148.62                NA         47890   NA                       \n",
       "184 130.75                NA         36010 99.8                       \n",
       "185  55.53              73.2          1500   NA                       \n",
       "186  92.72                NA         48820 95.4                       \n",
       "187 140.75              98.1         14640   NA                       \n",
       "188  91.65              99.4          3420 93.3                       \n",
       "189  55.76              82.6          4330   NA                       \n",
       "190  97.78                NA         12430 94.7                       \n",
       "191 143.39              93.2          3250   NA                       \n",
       "192  47.05              63.9          2170 85.5                       \n",
       "193  60.59              71.2          1490 91.4                       \n",
       "194  72.13              92.2            NA   NA                       \n",
       "    PrimarySchoolEnrollmentFemale\n",
       "1     NA                         \n",
       "2     NA                         \n",
       "3   96.4                         \n",
       "4   79.4                         \n",
       "5   78.2                         \n",
       "6   84.5                         \n",
       "7     NA                         \n",
       "8     NA                         \n",
       "9   97.5                         \n",
       "10    NA                         \n",
       "11  84.1                         \n",
       "12    NA                         \n",
       "13    NA                         \n",
       "14    NA                         \n",
       "15    NA                         \n",
       "16    NA                         \n",
       "17  99.2                         \n",
       "18    NA                         \n",
       "19    NA                         \n",
       "20  91.5                         \n",
       "21  91.5                         \n",
       "22  88.4                         \n",
       "23    NA                         \n",
       "24    NA                         \n",
       "25    NA                         \n",
       "26  99.7                         \n",
       "27  55.9                         \n",
       "28    NA                         \n",
       "29  95.4                         \n",
       "30  87.4                         \n",
       "⋮   ⋮                            \n",
       "165   NA                         \n",
       "166   NA                         \n",
       "167 99.0                         \n",
       "168 99.5                         \n",
       "169   NA                         \n",
       "170 96.0                         \n",
       "171   NA                         \n",
       "172 99.2                         \n",
       "173 85.6                         \n",
       "174   NA                         \n",
       "175   NA                         \n",
       "176 97.0                         \n",
       "177   NA                         \n",
       "178 98.3                         \n",
       "179   NA                         \n",
       "180   NA                         \n",
       "181 92.3                         \n",
       "182 91.5                         \n",
       "183   NA                         \n",
       "184 99.6                         \n",
       "185   NA                         \n",
       "186 96.1                         \n",
       "187   NA                         \n",
       "188 91.0                         \n",
       "189   NA                         \n",
       "190 95.1                         \n",
       "191   NA                         \n",
       "192 70.5                         \n",
       "193 93.9                         \n",
       "194   NA                         "
      ]
     },
     "metadata": {},
     "output_type": "display_data"
    }
   ],
   "source": [
    "WHO=read.csv(\"WHO.csv\")\n",
    "WHO"
   ]
  },
  {
   "cell_type": "code",
   "execution_count": 24,
   "metadata": {},
   "outputs": [
    {
     "name": "stdout",
     "output_type": "stream",
     "text": [
      "'data.frame':\t194 obs. of  13 variables:\n",
      " $ Country                      : chr  \"Afghanistan\" \"Albania\" \"Algeria\" \"Andorra\" ...\n",
      " $ Region                       : chr  \"Eastern Mediterranean\" \"Europe\" \"Africa\" \"Europe\" ...\n",
      " $ Population                   : int  29825 3162 38482 78 20821 89 41087 2969 23050 8464 ...\n",
      " $ Under15                      : num  47.4 21.3 27.4 15.2 47.6 ...\n",
      " $ Over60                       : num  3.82 14.93 7.17 22.86 3.84 ...\n",
      " $ FertilityRate                : num  5.4 1.75 2.83 NA 6.1 2.12 2.2 1.74 1.89 1.44 ...\n",
      " $ LifeExpectancy               : int  60 74 73 82 51 75 76 71 82 81 ...\n",
      " $ ChildMortality               : num  98.5 16.7 20 3.2 163.5 ...\n",
      " $ CellularSubscribers          : num  54.3 96.4 99 75.5 48.4 ...\n",
      " $ LiteracyRate                 : num  NA NA NA NA 70.1 99 97.8 99.6 NA NA ...\n",
      " $ GNI                          : num  1140 8820 8310 NA 5230 ...\n",
      " $ PrimarySchoolEnrollmentMale  : num  NA NA 98.2 78.4 93.1 91.1 NA NA 96.9 NA ...\n",
      " $ PrimarySchoolEnrollmentFemale: num  NA NA 96.4 79.4 78.2 84.5 NA NA 97.5 NA ...\n"
     ]
    }
   ],
   "source": [
    "str(WHO)"
   ]
  },
  {
   "cell_type": "markdown",
   "metadata": {},
   "source": [
    "## str is better than calling the actual dataframe"
   ]
  },
  {
   "cell_type": "markdown",
   "metadata": {},
   "source": [
    "### str = structure"
   ]
  },
  {
   "cell_type": "code",
   "execution_count": 26,
   "metadata": {},
   "outputs": [],
   "source": [
    "## Factor variables are categorical variables."
   ]
  },
  {
   "cell_type": "code",
   "execution_count": 27,
   "metadata": {},
   "outputs": [
    {
     "data": {
      "text/plain": [
       "   Country             Region            Population         Under15     \n",
       " Length:194         Length:194         Min.   :      1   Min.   :13.12  \n",
       " Class :character   Class :character   1st Qu.:   1696   1st Qu.:18.72  \n",
       " Mode  :character   Mode  :character   Median :   7790   Median :28.65  \n",
       "                                       Mean   :  36360   Mean   :28.73  \n",
       "                                       3rd Qu.:  24535   3rd Qu.:37.75  \n",
       "                                       Max.   :1390000   Max.   :49.99  \n",
       "                                                                        \n",
       "     Over60      FertilityRate   LifeExpectancy  ChildMortality   \n",
       " Min.   : 0.81   Min.   :1.260   Min.   :47.00   Min.   :  2.200  \n",
       " 1st Qu.: 5.20   1st Qu.:1.835   1st Qu.:64.00   1st Qu.:  8.425  \n",
       " Median : 8.53   Median :2.400   Median :72.50   Median : 18.600  \n",
       " Mean   :11.16   Mean   :2.941   Mean   :70.01   Mean   : 36.149  \n",
       " 3rd Qu.:16.69   3rd Qu.:3.905   3rd Qu.:76.00   3rd Qu.: 55.975  \n",
       " Max.   :31.92   Max.   :7.580   Max.   :83.00   Max.   :181.600  \n",
       "                 NA's   :11                                       \n",
       " CellularSubscribers  LiteracyRate        GNI       \n",
       " Min.   :  2.57      Min.   :31.10   Min.   :  340  \n",
       " 1st Qu.: 63.57      1st Qu.:71.60   1st Qu.: 2335  \n",
       " Median : 97.75      Median :91.80   Median : 7870  \n",
       " Mean   : 93.64      Mean   :83.71   Mean   :13321  \n",
       " 3rd Qu.:120.81      3rd Qu.:97.85   3rd Qu.:17558  \n",
       " Max.   :196.41      Max.   :99.80   Max.   :86440  \n",
       " NA's   :10          NA's   :91      NA's   :32     \n",
       " PrimarySchoolEnrollmentMale PrimarySchoolEnrollmentFemale\n",
       " Min.   : 37.20              Min.   : 32.50               \n",
       " 1st Qu.: 87.70              1st Qu.: 87.30               \n",
       " Median : 94.70              Median : 95.10               \n",
       " Mean   : 90.85              Mean   : 89.63               \n",
       " 3rd Qu.: 98.10              3rd Qu.: 97.90               \n",
       " Max.   :100.00              Max.   :100.00               \n",
       " NA's   :93                  NA's   :93                   "
      ]
     },
     "metadata": {},
     "output_type": "display_data"
    }
   ],
   "source": [
    "summary(WHO)"
   ]
  },
  {
   "cell_type": "markdown",
   "metadata": {},
   "source": [
    "### Subset or part of the dataframe where region is Europe\n"
   ]
  },
  {
   "cell_type": "code",
   "execution_count": 30,
   "metadata": {},
   "outputs": [
    {
     "name": "stdout",
     "output_type": "stream",
     "text": [
      "'data.frame':\t53 obs. of  13 variables:\n",
      " $ Country                      : chr  \"Albania\" \"Andorra\" \"Armenia\" \"Austria\" ...\n",
      " $ Region                       : chr  \"Europe\" \"Europe\" \"Europe\" \"Europe\" ...\n",
      " $ Population                   : int  3162 78 2969 8464 9309 9405 11060 3834 7278 4307 ...\n",
      " $ Under15                      : num  21.3 15.2 20.3 14.5 22.2 ...\n",
      " $ Over60                       : num  14.93 22.86 14.06 23.52 8.24 ...\n",
      " $ FertilityRate                : num  1.75 NA 1.74 1.44 1.96 1.47 1.85 1.26 1.51 1.48 ...\n",
      " $ LifeExpectancy               : int  74 82 71 81 71 71 80 76 74 77 ...\n",
      " $ ChildMortality               : num  16.7 3.2 16.4 4 35.2 5.2 4.2 6.7 12.1 4.7 ...\n",
      " $ CellularSubscribers          : num  96.4 75.5 103.6 154.8 108.8 ...\n",
      " $ LiteracyRate                 : num  NA NA 99.6 NA NA NA NA 97.9 NA 98.8 ...\n",
      " $ GNI                          : num  8820 NA 6100 42050 8960 ...\n",
      " $ PrimarySchoolEnrollmentMale  : num  NA 78.4 NA NA 85.3 NA 98.9 86.5 99.3 94.8 ...\n",
      " $ PrimarySchoolEnrollmentFemale: num  NA 79.4 NA NA 84.1 NA 99.2 88.4 99.7 97 ...\n"
     ]
    }
   ],
   "source": [
    "WHO_Europe = subset(WHO, Region == \"Europe\" )\n",
    "str(WHO_Europe)"
   ]
  },
  {
   "cell_type": "code",
   "execution_count": 31,
   "metadata": {},
   "outputs": [],
   "source": [
    "### Saving a dataframe to a csv"
   ]
  },
  {
   "cell_type": "code",
   "execution_count": 32,
   "metadata": {},
   "outputs": [],
   "source": [
    "write.csv(WHO_Europe, \"WHO_Europe.csv\")"
   ]
  },
  {
   "cell_type": "code",
   "execution_count": null,
   "metadata": {},
   "outputs": [],
   "source": [
    "## ls list out the variables that is use in R"
   ]
  },
  {
   "cell_type": "code",
   "execution_count": 35,
   "metadata": {
    "scrolled": true
   },
   "outputs": [
    {
     "data": {
      "text/html": [
       "<style>\n",
       ".list-inline {list-style: none; margin:0; padding: 0}\n",
       ".list-inline>li {display: inline-block}\n",
       ".list-inline>li:not(:last-child)::after {content: \"\\00b7\"; padding: 0 .5ex}\n",
       "</style>\n",
       "<ol class=list-inline><li>'AllCountryData'</li><li>'Country'</li><li>'CountryData'</li><li>'LifeExpectancy'</li><li>'NewCountryData'</li><li>'Population'</li><li>'WHO'</li><li>'WHO_Europe'</li></ol>\n"
      ],
      "text/latex": [
       "\\begin{enumerate*}\n",
       "\\item 'AllCountryData'\n",
       "\\item 'Country'\n",
       "\\item 'CountryData'\n",
       "\\item 'LifeExpectancy'\n",
       "\\item 'NewCountryData'\n",
       "\\item 'Population'\n",
       "\\item 'WHO'\n",
       "\\item 'WHO\\_Europe'\n",
       "\\end{enumerate*}\n"
      ],
      "text/markdown": [
       "1. 'AllCountryData'\n",
       "2. 'Country'\n",
       "3. 'CountryData'\n",
       "4. 'LifeExpectancy'\n",
       "5. 'NewCountryData'\n",
       "6. 'Population'\n",
       "7. 'WHO'\n",
       "8. 'WHO_Europe'\n",
       "\n",
       "\n"
      ],
      "text/plain": [
       "[1] \"AllCountryData\" \"Country\"        \"CountryData\"    \"LifeExpectancy\"\n",
       "[5] \"NewCountryData\" \"Population\"     \"WHO\"            \"WHO_Europe\"    "
      ]
     },
     "metadata": {},
     "output_type": "display_data"
    }
   ],
   "source": [
    "ls()"
   ]
  },
  {
   "cell_type": "markdown",
   "metadata": {},
   "source": [
    "## rm removes variables from R"
   ]
  },
  {
   "cell_type": "code",
   "execution_count": 36,
   "metadata": {},
   "outputs": [],
   "source": [
    "rm(WHO_Europe)"
   ]
  },
  {
   "cell_type": "markdown",
   "metadata": {},
   "source": [
    "---"
   ]
  },
  {
   "cell_type": "code",
   "execution_count": 37,
   "metadata": {},
   "outputs": [
    {
     "ename": "ERROR",
     "evalue": "Error in eval(expr, envir, enclos): object 'Under15' not found\n",
     "output_type": "error",
     "traceback": [
      "Error in eval(expr, envir, enclos): object 'Under15' not found\nTraceback:\n"
     ]
    }
   ],
   "source": [
    "Under15"
   ]
  },
  {
   "cell_type": "code",
   "execution_count": null,
   "metadata": {},
   "outputs": [],
   "source": [
    "# The output is a vector"
   ]
  },
  {
   "cell_type": "code",
   "execution_count": 38,
   "metadata": {
    "scrolled": false
   },
   "outputs": [
    {
     "data": {
      "text/html": [
       "<style>\n",
       ".list-inline {list-style: none; margin:0; padding: 0}\n",
       ".list-inline>li {display: inline-block}\n",
       ".list-inline>li:not(:last-child)::after {content: \"\\00b7\"; padding: 0 .5ex}\n",
       "</style>\n",
       "<ol class=list-inline><li>47.42</li><li>21.33</li><li>27.42</li><li>15.2</li><li>47.58</li><li>25.96</li><li>24.42</li><li>20.34</li><li>18.95</li><li>14.51</li><li>22.25</li><li>21.62</li><li>20.16</li><li>30.57</li><li>18.99</li><li>15.1</li><li>16.88</li><li>34.4</li><li>42.95</li><li>28.53</li><li>35.23</li><li>16.35</li><li>33.75</li><li>24.56</li><li>25.75</li><li>13.53</li><li>45.66</li><li>44.2</li><li>31.23</li><li>43.08</li><li>16.37</li><li>30.17</li><li>40.07</li><li>48.52</li><li>21.38</li><li>17.95</li><li>28.03</li><li>42.17</li><li>42.37</li><li>30.61</li><li>23.94</li><li>41.48</li><li>14.98</li><li>16.58</li><li>17.16</li><li>14.56</li><li>21.98</li><li>45.11</li><li>17.66</li><li>33.72</li><li>25.96</li><li>30.53</li><li>30.29</li><li>31.25</li><li>30.62</li><li>38.95</li><li>43.1</li><li>15.69</li><li>43.29</li><li>28.88</li><li>16.42</li><li>18.26</li><li>38.49</li><li>45.9</li><li>17.62</li><li>13.17</li><li>38.59</li><li>14.6</li><li>26.96</li><li>40.8</li><li>42.46</li><li>41.55</li><li>36.77</li><li>35.35</li><li>35.72</li><li>14.62</li><li>20.71</li><li>29.43</li><li>29.27</li><li>23.68</li><li>40.51</li><li>21.54</li><li>27.53</li><li>14.04</li><li>27.78</li><li>13.12</li><li>34.13</li><li>25.46</li><li>42.37</li><li>30.1</li><li>24.9</li><li>30.21</li><li>35.61</li><li>14.57</li><li>21.64</li><li>36.75</li><li>43.06</li><li>29.45</li><li>15.13</li><li>17.46</li><li>42.72</li><li>45.44</li><li>26.65</li><li>29.03</li><li>47.14</li><li>14.98</li><li>30.1</li><li>40.22</li><li>20.17</li><li>29.02</li><li>35.81</li><li>18.26</li><li>27.05</li><li>19.01</li><li>27.85</li><li>45.38</li><li>25.28</li><li>36.59</li><li>30.1</li><li>35.58</li><li>17.21</li><li>20.26</li><li>33.37</li><li>49.99</li><li>44.23</li><li>30.61</li><li>18.64</li><li>24.19</li><li>34.31</li><li>30.1</li><li>28.65</li><li>38.37</li><li>32.78</li><li>29.18</li><li>34.53</li><li>14.91</li><li>14.92</li><li>13.28</li><li>15.25</li><li>16.52</li><li>15.05</li><li>15.45</li><li>43.56</li><li>25.96</li><li>24.31</li><li>25.7</li><li>37.88</li><li>14.04</li><li>41.6</li><li>29.69</li><li>43.54</li><li>16.45</li><li>21.95</li><li>41.74</li><li>16.48</li><li>15</li><li>14.16</li><li>40.37</li><li>47.35</li><li>29.53</li><li>42.28</li><li>15.2</li><li>25.15</li><li>41.48</li><li>27.83</li><li>38.05</li><li>16.71</li><li>14.79</li><li>35.35</li><li>35.75</li><li>18.47</li><li>16.89</li><li>46.33</li><li>41.89</li><li>37.33</li><li>20.73</li><li>23.22</li><li>26</li><li>28.65</li><li>30.61</li><li>48.54</li><li>14.18</li><li>14.41</li><li>17.54</li><li>44.85</li><li>19.63</li><li>22.05</li><li>28.9</li><li>37.37</li><li>28.84</li><li>22.87</li><li>40.72</li><li>46.73</li><li>40.24</li></ol>\n"
      ],
      "text/latex": [
       "\\begin{enumerate*}\n",
       "\\item 47.42\n",
       "\\item 21.33\n",
       "\\item 27.42\n",
       "\\item 15.2\n",
       "\\item 47.58\n",
       "\\item 25.96\n",
       "\\item 24.42\n",
       "\\item 20.34\n",
       "\\item 18.95\n",
       "\\item 14.51\n",
       "\\item 22.25\n",
       "\\item 21.62\n",
       "\\item 20.16\n",
       "\\item 30.57\n",
       "\\item 18.99\n",
       "\\item 15.1\n",
       "\\item 16.88\n",
       "\\item 34.4\n",
       "\\item 42.95\n",
       "\\item 28.53\n",
       "\\item 35.23\n",
       "\\item 16.35\n",
       "\\item 33.75\n",
       "\\item 24.56\n",
       "\\item 25.75\n",
       "\\item 13.53\n",
       "\\item 45.66\n",
       "\\item 44.2\n",
       "\\item 31.23\n",
       "\\item 43.08\n",
       "\\item 16.37\n",
       "\\item 30.17\n",
       "\\item 40.07\n",
       "\\item 48.52\n",
       "\\item 21.38\n",
       "\\item 17.95\n",
       "\\item 28.03\n",
       "\\item 42.17\n",
       "\\item 42.37\n",
       "\\item 30.61\n",
       "\\item 23.94\n",
       "\\item 41.48\n",
       "\\item 14.98\n",
       "\\item 16.58\n",
       "\\item 17.16\n",
       "\\item 14.56\n",
       "\\item 21.98\n",
       "\\item 45.11\n",
       "\\item 17.66\n",
       "\\item 33.72\n",
       "\\item 25.96\n",
       "\\item 30.53\n",
       "\\item 30.29\n",
       "\\item 31.25\n",
       "\\item 30.62\n",
       "\\item 38.95\n",
       "\\item 43.1\n",
       "\\item 15.69\n",
       "\\item 43.29\n",
       "\\item 28.88\n",
       "\\item 16.42\n",
       "\\item 18.26\n",
       "\\item 38.49\n",
       "\\item 45.9\n",
       "\\item 17.62\n",
       "\\item 13.17\n",
       "\\item 38.59\n",
       "\\item 14.6\n",
       "\\item 26.96\n",
       "\\item 40.8\n",
       "\\item 42.46\n",
       "\\item 41.55\n",
       "\\item 36.77\n",
       "\\item 35.35\n",
       "\\item 35.72\n",
       "\\item 14.62\n",
       "\\item 20.71\n",
       "\\item 29.43\n",
       "\\item 29.27\n",
       "\\item 23.68\n",
       "\\item 40.51\n",
       "\\item 21.54\n",
       "\\item 27.53\n",
       "\\item 14.04\n",
       "\\item 27.78\n",
       "\\item 13.12\n",
       "\\item 34.13\n",
       "\\item 25.46\n",
       "\\item 42.37\n",
       "\\item 30.1\n",
       "\\item 24.9\n",
       "\\item 30.21\n",
       "\\item 35.61\n",
       "\\item 14.57\n",
       "\\item 21.64\n",
       "\\item 36.75\n",
       "\\item 43.06\n",
       "\\item 29.45\n",
       "\\item 15.13\n",
       "\\item 17.46\n",
       "\\item 42.72\n",
       "\\item 45.44\n",
       "\\item 26.65\n",
       "\\item 29.03\n",
       "\\item 47.14\n",
       "\\item 14.98\n",
       "\\item 30.1\n",
       "\\item 40.22\n",
       "\\item 20.17\n",
       "\\item 29.02\n",
       "\\item 35.81\n",
       "\\item 18.26\n",
       "\\item 27.05\n",
       "\\item 19.01\n",
       "\\item 27.85\n",
       "\\item 45.38\n",
       "\\item 25.28\n",
       "\\item 36.59\n",
       "\\item 30.1\n",
       "\\item 35.58\n",
       "\\item 17.21\n",
       "\\item 20.26\n",
       "\\item 33.37\n",
       "\\item 49.99\n",
       "\\item 44.23\n",
       "\\item 30.61\n",
       "\\item 18.64\n",
       "\\item 24.19\n",
       "\\item 34.31\n",
       "\\item 30.1\n",
       "\\item 28.65\n",
       "\\item 38.37\n",
       "\\item 32.78\n",
       "\\item 29.18\n",
       "\\item 34.53\n",
       "\\item 14.91\n",
       "\\item 14.92\n",
       "\\item 13.28\n",
       "\\item 15.25\n",
       "\\item 16.52\n",
       "\\item 15.05\n",
       "\\item 15.45\n",
       "\\item 43.56\n",
       "\\item 25.96\n",
       "\\item 24.31\n",
       "\\item 25.7\n",
       "\\item 37.88\n",
       "\\item 14.04\n",
       "\\item 41.6\n",
       "\\item 29.69\n",
       "\\item 43.54\n",
       "\\item 16.45\n",
       "\\item 21.95\n",
       "\\item 41.74\n",
       "\\item 16.48\n",
       "\\item 15\n",
       "\\item 14.16\n",
       "\\item 40.37\n",
       "\\item 47.35\n",
       "\\item 29.53\n",
       "\\item 42.28\n",
       "\\item 15.2\n",
       "\\item 25.15\n",
       "\\item 41.48\n",
       "\\item 27.83\n",
       "\\item 38.05\n",
       "\\item 16.71\n",
       "\\item 14.79\n",
       "\\item 35.35\n",
       "\\item 35.75\n",
       "\\item 18.47\n",
       "\\item 16.89\n",
       "\\item 46.33\n",
       "\\item 41.89\n",
       "\\item 37.33\n",
       "\\item 20.73\n",
       "\\item 23.22\n",
       "\\item 26\n",
       "\\item 28.65\n",
       "\\item 30.61\n",
       "\\item 48.54\n",
       "\\item 14.18\n",
       "\\item 14.41\n",
       "\\item 17.54\n",
       "\\item 44.85\n",
       "\\item 19.63\n",
       "\\item 22.05\n",
       "\\item 28.9\n",
       "\\item 37.37\n",
       "\\item 28.84\n",
       "\\item 22.87\n",
       "\\item 40.72\n",
       "\\item 46.73\n",
       "\\item 40.24\n",
       "\\end{enumerate*}\n"
      ],
      "text/markdown": [
       "1. 47.42\n",
       "2. 21.33\n",
       "3. 27.42\n",
       "4. 15.2\n",
       "5. 47.58\n",
       "6. 25.96\n",
       "7. 24.42\n",
       "8. 20.34\n",
       "9. 18.95\n",
       "10. 14.51\n",
       "11. 22.25\n",
       "12. 21.62\n",
       "13. 20.16\n",
       "14. 30.57\n",
       "15. 18.99\n",
       "16. 15.1\n",
       "17. 16.88\n",
       "18. 34.4\n",
       "19. 42.95\n",
       "20. 28.53\n",
       "21. 35.23\n",
       "22. 16.35\n",
       "23. 33.75\n",
       "24. 24.56\n",
       "25. 25.75\n",
       "26. 13.53\n",
       "27. 45.66\n",
       "28. 44.2\n",
       "29. 31.23\n",
       "30. 43.08\n",
       "31. 16.37\n",
       "32. 30.17\n",
       "33. 40.07\n",
       "34. 48.52\n",
       "35. 21.38\n",
       "36. 17.95\n",
       "37. 28.03\n",
       "38. 42.17\n",
       "39. 42.37\n",
       "40. 30.61\n",
       "41. 23.94\n",
       "42. 41.48\n",
       "43. 14.98\n",
       "44. 16.58\n",
       "45. 17.16\n",
       "46. 14.56\n",
       "47. 21.98\n",
       "48. 45.11\n",
       "49. 17.66\n",
       "50. 33.72\n",
       "51. 25.96\n",
       "52. 30.53\n",
       "53. 30.29\n",
       "54. 31.25\n",
       "55. 30.62\n",
       "56. 38.95\n",
       "57. 43.1\n",
       "58. 15.69\n",
       "59. 43.29\n",
       "60. 28.88\n",
       "61. 16.42\n",
       "62. 18.26\n",
       "63. 38.49\n",
       "64. 45.9\n",
       "65. 17.62\n",
       "66. 13.17\n",
       "67. 38.59\n",
       "68. 14.6\n",
       "69. 26.96\n",
       "70. 40.8\n",
       "71. 42.46\n",
       "72. 41.55\n",
       "73. 36.77\n",
       "74. 35.35\n",
       "75. 35.72\n",
       "76. 14.62\n",
       "77. 20.71\n",
       "78. 29.43\n",
       "79. 29.27\n",
       "80. 23.68\n",
       "81. 40.51\n",
       "82. 21.54\n",
       "83. 27.53\n",
       "84. 14.04\n",
       "85. 27.78\n",
       "86. 13.12\n",
       "87. 34.13\n",
       "88. 25.46\n",
       "89. 42.37\n",
       "90. 30.1\n",
       "91. 24.9\n",
       "92. 30.21\n",
       "93. 35.61\n",
       "94. 14.57\n",
       "95. 21.64\n",
       "96. 36.75\n",
       "97. 43.06\n",
       "98. 29.45\n",
       "99. 15.13\n",
       "100. 17.46\n",
       "101. 42.72\n",
       "102. 45.44\n",
       "103. 26.65\n",
       "104. 29.03\n",
       "105. 47.14\n",
       "106. 14.98\n",
       "107. 30.1\n",
       "108. 40.22\n",
       "109. 20.17\n",
       "110. 29.02\n",
       "111. 35.81\n",
       "112. 18.26\n",
       "113. 27.05\n",
       "114. 19.01\n",
       "115. 27.85\n",
       "116. 45.38\n",
       "117. 25.28\n",
       "118. 36.59\n",
       "119. 30.1\n",
       "120. 35.58\n",
       "121. 17.21\n",
       "122. 20.26\n",
       "123. 33.37\n",
       "124. 49.99\n",
       "125. 44.23\n",
       "126. 30.61\n",
       "127. 18.64\n",
       "128. 24.19\n",
       "129. 34.31\n",
       "130. 30.1\n",
       "131. 28.65\n",
       "132. 38.37\n",
       "133. 32.78\n",
       "134. 29.18\n",
       "135. 34.53\n",
       "136. 14.91\n",
       "137. 14.92\n",
       "138. 13.28\n",
       "139. 15.25\n",
       "140. 16.52\n",
       "141. 15.05\n",
       "142. 15.45\n",
       "143. 43.56\n",
       "144. 25.96\n",
       "145. 24.31\n",
       "146. 25.7\n",
       "147. 37.88\n",
       "148. 14.04\n",
       "149. 41.6\n",
       "150. 29.69\n",
       "151. 43.54\n",
       "152. 16.45\n",
       "153. 21.95\n",
       "154. 41.74\n",
       "155. 16.48\n",
       "156. 15\n",
       "157. 14.16\n",
       "158. 40.37\n",
       "159. 47.35\n",
       "160. 29.53\n",
       "161. 42.28\n",
       "162. 15.2\n",
       "163. 25.15\n",
       "164. 41.48\n",
       "165. 27.83\n",
       "166. 38.05\n",
       "167. 16.71\n",
       "168. 14.79\n",
       "169. 35.35\n",
       "170. 35.75\n",
       "171. 18.47\n",
       "172. 16.89\n",
       "173. 46.33\n",
       "174. 41.89\n",
       "175. 37.33\n",
       "176. 20.73\n",
       "177. 23.22\n",
       "178. 26\n",
       "179. 28.65\n",
       "180. 30.61\n",
       "181. 48.54\n",
       "182. 14.18\n",
       "183. 14.41\n",
       "184. 17.54\n",
       "185. 44.85\n",
       "186. 19.63\n",
       "187. 22.05\n",
       "188. 28.9\n",
       "189. 37.37\n",
       "190. 28.84\n",
       "191. 22.87\n",
       "192. 40.72\n",
       "193. 46.73\n",
       "194. 40.24\n",
       "\n",
       "\n"
      ],
      "text/plain": [
       "  [1] 47.42 21.33 27.42 15.20 47.58 25.96 24.42 20.34 18.95 14.51 22.25 21.62\n",
       " [13] 20.16 30.57 18.99 15.10 16.88 34.40 42.95 28.53 35.23 16.35 33.75 24.56\n",
       " [25] 25.75 13.53 45.66 44.20 31.23 43.08 16.37 30.17 40.07 48.52 21.38 17.95\n",
       " [37] 28.03 42.17 42.37 30.61 23.94 41.48 14.98 16.58 17.16 14.56 21.98 45.11\n",
       " [49] 17.66 33.72 25.96 30.53 30.29 31.25 30.62 38.95 43.10 15.69 43.29 28.88\n",
       " [61] 16.42 18.26 38.49 45.90 17.62 13.17 38.59 14.60 26.96 40.80 42.46 41.55\n",
       " [73] 36.77 35.35 35.72 14.62 20.71 29.43 29.27 23.68 40.51 21.54 27.53 14.04\n",
       " [85] 27.78 13.12 34.13 25.46 42.37 30.10 24.90 30.21 35.61 14.57 21.64 36.75\n",
       " [97] 43.06 29.45 15.13 17.46 42.72 45.44 26.65 29.03 47.14 14.98 30.10 40.22\n",
       "[109] 20.17 29.02 35.81 18.26 27.05 19.01 27.85 45.38 25.28 36.59 30.10 35.58\n",
       "[121] 17.21 20.26 33.37 49.99 44.23 30.61 18.64 24.19 34.31 30.10 28.65 38.37\n",
       "[133] 32.78 29.18 34.53 14.91 14.92 13.28 15.25 16.52 15.05 15.45 43.56 25.96\n",
       "[145] 24.31 25.70 37.88 14.04 41.60 29.69 43.54 16.45 21.95 41.74 16.48 15.00\n",
       "[157] 14.16 40.37 47.35 29.53 42.28 15.20 25.15 41.48 27.83 38.05 16.71 14.79\n",
       "[169] 35.35 35.75 18.47 16.89 46.33 41.89 37.33 20.73 23.22 26.00 28.65 30.61\n",
       "[181] 48.54 14.18 14.41 17.54 44.85 19.63 22.05 28.90 37.37 28.84 22.87 40.72\n",
       "[193] 46.73 40.24"
      ]
     },
     "metadata": {},
     "output_type": "display_data"
    }
   ],
   "source": [
    "WHO$Under15"
   ]
  },
  {
   "cell_type": "code",
   "execution_count": 39,
   "metadata": {},
   "outputs": [
    {
     "data": {
      "text/html": [
       "28.7324226804124"
      ],
      "text/latex": [
       "28.7324226804124"
      ],
      "text/markdown": [
       "28.7324226804124"
      ],
      "text/plain": [
       "[1] 28.73242"
      ]
     },
     "metadata": {},
     "output_type": "display_data"
    }
   ],
   "source": [
    "mean(WHO$Under15)"
   ]
  },
  {
   "cell_type": "code",
   "execution_count": 40,
   "metadata": {},
   "outputs": [
    {
     "data": {
      "text/html": [
       "10.5345733199238"
      ],
      "text/latex": [
       "10.5345733199238"
      ],
      "text/markdown": [
       "10.5345733199238"
      ],
      "text/plain": [
       "[1] 10.53457"
      ]
     },
     "metadata": {},
     "output_type": "display_data"
    }
   ],
   "source": [
    "sd(WHO$Under15)"
   ]
  },
  {
   "cell_type": "code",
   "execution_count": 41,
   "metadata": {},
   "outputs": [
    {
     "data": {
      "text/plain": [
       "   Min. 1st Qu.  Median    Mean 3rd Qu.    Max. \n",
       "  13.12   18.72   28.65   28.73   37.75   49.99 "
      ]
     },
     "metadata": {},
     "output_type": "display_data"
    }
   ],
   "source": [
    "summary(WHO$Under15)"
   ]
  },
  {
   "cell_type": "markdown",
   "metadata": {},
   "source": [
    "## Which min to figure out which country has less than 13.12"
   ]
  },
  {
   "cell_type": "code",
   "execution_count": 42,
   "metadata": {},
   "outputs": [
    {
     "data": {
      "text/html": [
       "86"
      ],
      "text/latex": [
       "86"
      ],
      "text/markdown": [
       "86"
      ],
      "text/plain": [
       "[1] 86"
      ]
     },
     "metadata": {},
     "output_type": "display_data"
    }
   ],
   "source": [
    "which.min(WHO$Under15)"
   ]
  },
  {
   "cell_type": "code",
   "execution_count": 43,
   "metadata": {},
   "outputs": [
    {
     "data": {
      "text/html": [
       "'Japan'"
      ],
      "text/latex": [
       "'Japan'"
      ],
      "text/markdown": [
       "'Japan'"
      ],
      "text/plain": [
       "[1] \"Japan\""
      ]
     },
     "metadata": {},
     "output_type": "display_data"
    }
   ],
   "source": [
    "WHO$Country[86]"
   ]
  },
  {
   "cell_type": "code",
   "execution_count": 44,
   "metadata": {},
   "outputs": [
    {
     "data": {
      "text/html": [
       "124"
      ],
      "text/latex": [
       "124"
      ],
      "text/markdown": [
       "124"
      ],
      "text/plain": [
       "[1] 124"
      ]
     },
     "metadata": {},
     "output_type": "display_data"
    }
   ],
   "source": [
    "which.max(WHO$Under15)"
   ]
  },
  {
   "cell_type": "code",
   "execution_count": 45,
   "metadata": {},
   "outputs": [
    {
     "data": {
      "text/html": [
       "'Niger'"
      ],
      "text/latex": [
       "'Niger'"
      ],
      "text/markdown": [
       "'Niger'"
      ],
      "text/plain": [
       "[1] \"Niger\""
      ]
     },
     "metadata": {},
     "output_type": "display_data"
    }
   ],
   "source": [
    "WHO$Country[124]"
   ]
  },
  {
   "cell_type": "markdown",
   "metadata": {},
   "source": [
    "## Create a scatter plot"
   ]
  },
  {
   "cell_type": "code",
   "execution_count": 46,
   "metadata": {},
   "outputs": [
    {
     "data": {
      "image/png": "[encoded data removed]",
      "text/plain": [
       "plot without title"
      ]
     },
     "metadata": {
      "image/png": {
       "height": 420,
       "width": 420
      }
     },
     "output_type": "display_data"
    }
   ],
   "source": [
    " plot(WHO$GNI, WHO$FertilityRate)"
   ]
  },
  {
   "cell_type": "markdown",
   "metadata": {},
   "source": [
    "## There are certain countries with a high GNI and Fertility use subset to figure out which ones they are. "
   ]
  },
  {
   "cell_type": "markdown",
   "metadata": {},
   "source": [
    "Note the use of the `&` is used to add another condition."
   ]
  },
  {
   "cell_type": "code",
   "execution_count": 48,
   "metadata": {},
   "outputs": [
    {
     "data": {
      "text/html": [
       "<table>\n",
       "<caption>A data.frame: 7 × 13</caption>\n",
       "<thead>\n",
       "\t<tr><th></th><th scope=col>Country</th><th scope=col>Region</th><th scope=col>Population</th><th scope=col>Under15</th><th scope=col>Over60</th><th scope=col>FertilityRate</th><th scope=col>LifeExpectancy</th><th scope=col>ChildMortality</th><th scope=col>CellularSubscribers</th><th scope=col>LiteracyRate</th><th scope=col>GNI</th><th scope=col>PrimarySchoolEnrollmentMale</th><th scope=col>PrimarySchoolEnrollmentFemale</th></tr>\n",
       "\t<tr><th></th><th scope=col>&lt;chr&gt;</th><th scope=col>&lt;chr&gt;</th><th scope=col>&lt;int&gt;</th><th scope=col>&lt;dbl&gt;</th><th scope=col>&lt;dbl&gt;</th><th scope=col>&lt;dbl&gt;</th><th scope=col>&lt;int&gt;</th><th scope=col>&lt;dbl&gt;</th><th scope=col>&lt;dbl&gt;</th><th scope=col>&lt;dbl&gt;</th><th scope=col>&lt;dbl&gt;</th><th scope=col>&lt;dbl&gt;</th><th scope=col>&lt;dbl&gt;</th></tr>\n",
       "</thead>\n",
       "<tbody>\n",
       "\t<tr><th scope=row>23</th><td>Botswana         </td><td>Africa               </td><td> 2004</td><td>33.75</td><td> 5.63</td><td>2.71</td><td>66</td><td> 53.3</td><td>142.82</td><td>84.5</td><td>14550</td><td>  NA</td><td>  NA</td></tr>\n",
       "\t<tr><th scope=row>56</th><td>Equatorial Guinea</td><td>Africa               </td><td>  736</td><td>38.95</td><td> 4.53</td><td>5.04</td><td>54</td><td>100.3</td><td> 59.15</td><td>93.9</td><td>25620</td><td>56.5</td><td>56.0</td></tr>\n",
       "\t<tr><th scope=row>63</th><td>Gabon            </td><td>Africa               </td><td> 1633</td><td>38.49</td><td> 7.38</td><td>4.18</td><td>62</td><td> 62.0</td><td>117.32</td><td>88.4</td><td>13740</td><td>  NA</td><td>  NA</td></tr>\n",
       "\t<tr><th scope=row>83</th><td>Israel           </td><td>Europe               </td><td> 7644</td><td>27.53</td><td>15.15</td><td>2.92</td><td>82</td><td>  4.2</td><td>121.66</td><td>  NA</td><td>27110</td><td>97.0</td><td>97.8</td></tr>\n",
       "\t<tr><th scope=row>88</th><td>Kazakhstan       </td><td>Europe               </td><td>16271</td><td>25.46</td><td>10.04</td><td>2.52</td><td>67</td><td> 18.7</td><td>155.74</td><td>99.7</td><td>11250</td><td>  NA</td><td>  NA</td></tr>\n",
       "\t<tr><th scope=row>131</th><td>Panama           </td><td>Americas             </td><td> 3802</td><td>28.65</td><td>10.13</td><td>2.52</td><td>77</td><td> 18.5</td><td>188.60</td><td>94.1</td><td>14510</td><td>99.1</td><td>98.2</td></tr>\n",
       "\t<tr><th scope=row>150</th><td>Saudi Arabia     </td><td>Eastern Mediterranean</td><td>28288</td><td>29.69</td><td> 4.59</td><td>2.76</td><td>76</td><td>  8.6</td><td>191.24</td><td>86.6</td><td>24700</td><td>96.7</td><td>96.5</td></tr>\n",
       "</tbody>\n",
       "</table>\n"
      ],
      "text/latex": [
       "A data.frame: 7 × 13\n",
       "\\begin{tabular}{r|lllllllllllll}\n",
       "  & Country & Region & Population & Under15 & Over60 & FertilityRate & LifeExpectancy & ChildMortality & CellularSubscribers & LiteracyRate & GNI & PrimarySchoolEnrollmentMale & PrimarySchoolEnrollmentFemale\\\\\n",
       "  & <chr> & <chr> & <int> & <dbl> & <dbl> & <dbl> & <int> & <dbl> & <dbl> & <dbl> & <dbl> & <dbl> & <dbl>\\\\\n",
       "\\hline\n",
       "\t23 & Botswana          & Africa                &  2004 & 33.75 &  5.63 & 2.71 & 66 &  53.3 & 142.82 & 84.5 & 14550 &   NA &   NA\\\\\n",
       "\t56 & Equatorial Guinea & Africa                &   736 & 38.95 &  4.53 & 5.04 & 54 & 100.3 &  59.15 & 93.9 & 25620 & 56.5 & 56.0\\\\\n",
       "\t63 & Gabon             & Africa                &  1633 & 38.49 &  7.38 & 4.18 & 62 &  62.0 & 117.32 & 88.4 & 13740 &   NA &   NA\\\\\n",
       "\t83 & Israel            & Europe                &  7644 & 27.53 & 15.15 & 2.92 & 82 &   4.2 & 121.66 &   NA & 27110 & 97.0 & 97.8\\\\\n",
       "\t88 & Kazakhstan        & Europe                & 16271 & 25.46 & 10.04 & 2.52 & 67 &  18.7 & 155.74 & 99.7 & 11250 &   NA &   NA\\\\\n",
       "\t131 & Panama            & Americas              &  3802 & 28.65 & 10.13 & 2.52 & 77 &  18.5 & 188.60 & 94.1 & 14510 & 99.1 & 98.2\\\\\n",
       "\t150 & Saudi Arabia      & Eastern Mediterranean & 28288 & 29.69 &  4.59 & 2.76 & 76 &   8.6 & 191.24 & 86.6 & 24700 & 96.7 & 96.5\\\\\n",
       "\\end{tabular}\n"
      ],
      "text/markdown": [
       "\n",
       "A data.frame: 7 × 13\n",
       "\n",
       "| <!--/--> | Country &lt;chr&gt; | Region &lt;chr&gt; | Population &lt;int&gt; | Under15 &lt;dbl&gt; | Over60 &lt;dbl&gt; | FertilityRate &lt;dbl&gt; | LifeExpectancy &lt;int&gt; | ChildMortality &lt;dbl&gt; | CellularSubscribers &lt;dbl&gt; | LiteracyRate &lt;dbl&gt; | GNI &lt;dbl&gt; | PrimarySchoolEnrollmentMale &lt;dbl&gt; | PrimarySchoolEnrollmentFemale &lt;dbl&gt; |\n",
       "|---|---|---|---|---|---|---|---|---|---|---|---|---|---|\n",
       "| 23 | Botswana          | Africa                |  2004 | 33.75 |  5.63 | 2.71 | 66 |  53.3 | 142.82 | 84.5 | 14550 |   NA |   NA |\n",
       "| 56 | Equatorial Guinea | Africa                |   736 | 38.95 |  4.53 | 5.04 | 54 | 100.3 |  59.15 | 93.9 | 25620 | 56.5 | 56.0 |\n",
       "| 63 | Gabon             | Africa                |  1633 | 38.49 |  7.38 | 4.18 | 62 |  62.0 | 117.32 | 88.4 | 13740 |   NA |   NA |\n",
       "| 83 | Israel            | Europe                |  7644 | 27.53 | 15.15 | 2.92 | 82 |   4.2 | 121.66 |   NA | 27110 | 97.0 | 97.8 |\n",
       "| 88 | Kazakhstan        | Europe                | 16271 | 25.46 | 10.04 | 2.52 | 67 |  18.7 | 155.74 | 99.7 | 11250 |   NA |   NA |\n",
       "| 131 | Panama            | Americas              |  3802 | 28.65 | 10.13 | 2.52 | 77 |  18.5 | 188.60 | 94.1 | 14510 | 99.1 | 98.2 |\n",
       "| 150 | Saudi Arabia      | Eastern Mediterranean | 28288 | 29.69 |  4.59 | 2.76 | 76 |   8.6 | 191.24 | 86.6 | 24700 | 96.7 | 96.5 |\n",
       "\n"
      ],
      "text/plain": [
       "    Country           Region                Population Under15 Over60\n",
       "23  Botswana          Africa                 2004      33.75    5.63 \n",
       "56  Equatorial Guinea Africa                  736      38.95    4.53 \n",
       "63  Gabon             Africa                 1633      38.49    7.38 \n",
       "83  Israel            Europe                 7644      27.53   15.15 \n",
       "88  Kazakhstan        Europe                16271      25.46   10.04 \n",
       "131 Panama            Americas               3802      28.65   10.13 \n",
       "150 Saudi Arabia      Eastern Mediterranean 28288      29.69    4.59 \n",
       "    FertilityRate LifeExpectancy ChildMortality CellularSubscribers\n",
       "23  2.71          66              53.3          142.82             \n",
       "56  5.04          54             100.3           59.15             \n",
       "63  4.18          62              62.0          117.32             \n",
       "83  2.92          82               4.2          121.66             \n",
       "88  2.52          67              18.7          155.74             \n",
       "131 2.52          77              18.5          188.60             \n",
       "150 2.76          76               8.6          191.24             \n",
       "    LiteracyRate GNI   PrimarySchoolEnrollmentMale\n",
       "23  84.5         14550   NA                       \n",
       "56  93.9         25620 56.5                       \n",
       "63  88.4         13740   NA                       \n",
       "83    NA         27110 97.0                       \n",
       "88  99.7         11250   NA                       \n",
       "131 94.1         14510 99.1                       \n",
       "150 86.6         24700 96.7                       \n",
       "    PrimarySchoolEnrollmentFemale\n",
       "23    NA                         \n",
       "56  56.0                         \n",
       "63    NA                         \n",
       "83  97.8                         \n",
       "88    NA                         \n",
       "131 98.2                         \n",
       "150 96.5                         "
      ]
     },
     "metadata": {},
     "output_type": "display_data"
    }
   ],
   "source": [
    "Outliers = subset(WHO, GNI > 10000 & FertilityRate > 2.5)\n",
    "Outliers"
   ]
  },
  {
   "cell_type": "markdown",
   "metadata": {},
   "source": [
    "# nrow number of rows "
   ]
  },
  {
   "cell_type": "code",
   "execution_count": 49,
   "metadata": {
    "scrolled": true
   },
   "outputs": [
    {
     "data": {
      "text/html": [
       "7"
      ],
      "text/latex": [
       "7"
      ],
      "text/markdown": [
       "7"
      ],
      "text/plain": [
       "[1] 7"
      ]
     },
     "metadata": {},
     "output_type": "display_data"
    }
   ],
   "source": [
    "nrow(Outliers)"
   ]
  },
  {
   "cell_type": "code",
   "execution_count": 50,
   "metadata": {},
   "outputs": [
    {
     "data": {
      "text/html": [
       "<table>\n",
       "<caption>A data.frame: 7 × 3</caption>\n",
       "<thead>\n",
       "\t<tr><th></th><th scope=col>Country</th><th scope=col>GNI</th><th scope=col>FertilityRate</th></tr>\n",
       "\t<tr><th></th><th scope=col>&lt;chr&gt;</th><th scope=col>&lt;dbl&gt;</th><th scope=col>&lt;dbl&gt;</th></tr>\n",
       "</thead>\n",
       "<tbody>\n",
       "\t<tr><th scope=row>23</th><td>Botswana         </td><td>14550</td><td>2.71</td></tr>\n",
       "\t<tr><th scope=row>56</th><td>Equatorial Guinea</td><td>25620</td><td>5.04</td></tr>\n",
       "\t<tr><th scope=row>63</th><td>Gabon            </td><td>13740</td><td>4.18</td></tr>\n",
       "\t<tr><th scope=row>83</th><td>Israel           </td><td>27110</td><td>2.92</td></tr>\n",
       "\t<tr><th scope=row>88</th><td>Kazakhstan       </td><td>11250</td><td>2.52</td></tr>\n",
       "\t<tr><th scope=row>131</th><td>Panama           </td><td>14510</td><td>2.52</td></tr>\n",
       "\t<tr><th scope=row>150</th><td>Saudi Arabia     </td><td>24700</td><td>2.76</td></tr>\n",
       "</tbody>\n",
       "</table>\n"
      ],
      "text/latex": [
       "A data.frame: 7 × 3\n",
       "\\begin{tabular}{r|lll}\n",
       "  & Country & GNI & FertilityRate\\\\\n",
       "  & <chr> & <dbl> & <dbl>\\\\\n",
       "\\hline\n",
       "\t23 & Botswana          & 14550 & 2.71\\\\\n",
       "\t56 & Equatorial Guinea & 25620 & 5.04\\\\\n",
       "\t63 & Gabon             & 13740 & 4.18\\\\\n",
       "\t83 & Israel            & 27110 & 2.92\\\\\n",
       "\t88 & Kazakhstan        & 11250 & 2.52\\\\\n",
       "\t131 & Panama            & 14510 & 2.52\\\\\n",
       "\t150 & Saudi Arabia      & 24700 & 2.76\\\\\n",
       "\\end{tabular}\n"
      ],
      "text/markdown": [
       "\n",
       "A data.frame: 7 × 3\n",
       "\n",
       "| <!--/--> | Country &lt;chr&gt; | GNI &lt;dbl&gt; | FertilityRate &lt;dbl&gt; |\n",
       "|---|---|---|---|\n",
       "| 23 | Botswana          | 14550 | 2.71 |\n",
       "| 56 | Equatorial Guinea | 25620 | 5.04 |\n",
       "| 63 | Gabon             | 13740 | 4.18 |\n",
       "| 83 | Israel            | 27110 | 2.92 |\n",
       "| 88 | Kazakhstan        | 11250 | 2.52 |\n",
       "| 131 | Panama            | 14510 | 2.52 |\n",
       "| 150 | Saudi Arabia      | 24700 | 2.76 |\n",
       "\n"
      ],
      "text/plain": [
       "    Country           GNI   FertilityRate\n",
       "23  Botswana          14550 2.71         \n",
       "56  Equatorial Guinea 25620 5.04         \n",
       "63  Gabon             13740 4.18         \n",
       "83  Israel            27110 2.92         \n",
       "88  Kazakhstan        11250 2.52         \n",
       "131 Panama            14510 2.52         \n",
       "150 Saudi Arabia      24700 2.76         "
      ]
     },
     "metadata": {},
     "output_type": "display_data"
    }
   ],
   "source": [
    "Outliers[c(\"Country\", \"GNI\", \"FertilityRate\")]"
   ]
  },
  {
   "cell_type": "code",
   "execution_count": 52,
   "metadata": {},
   "outputs": [
    {
     "data": {
      "text/html": [
       "11.1636597938144"
      ],
      "text/latex": [
       "11.1636597938144"
      ],
      "text/markdown": [
       "11.1636597938144"
      ],
      "text/plain": [
       "[1] 11.16366"
      ]
     },
     "metadata": {},
     "output_type": "display_data"
    }
   ],
   "source": [
    "mean(WHO$Over60)"
   ]
  },
  {
   "cell_type": "code",
   "execution_count": 54,
   "metadata": {
    "scrolled": true
   },
   "outputs": [
    {
     "data": {
      "image/png": "[encoded data removed]",
      "text/plain": [
       "plot without title"
      ]
     },
     "metadata": {
      "image/png": {
       "height": 420,
       "width": 420
      }
     },
     "output_type": "display_data"
    }
   ],
   "source": [
    " plot(WHO$Over60, WHO$Population)"
   ]
  },
  {
   "cell_type": "code",
   "execution_count": 57,
   "metadata": {
    "scrolled": false
   },
   "outputs": [
    {
     "data": {
      "text/html": [
       "<table>\n",
       "<caption>A data.frame: 2 × 13</caption>\n",
       "<thead>\n",
       "\t<tr><th></th><th scope=col>Country</th><th scope=col>Region</th><th scope=col>Population</th><th scope=col>Under15</th><th scope=col>Over60</th><th scope=col>FertilityRate</th><th scope=col>LifeExpectancy</th><th scope=col>ChildMortality</th><th scope=col>CellularSubscribers</th><th scope=col>LiteracyRate</th><th scope=col>GNI</th><th scope=col>PrimarySchoolEnrollmentMale</th><th scope=col>PrimarySchoolEnrollmentFemale</th></tr>\n",
       "\t<tr><th></th><th scope=col>&lt;chr&gt;</th><th scope=col>&lt;chr&gt;</th><th scope=col>&lt;int&gt;</th><th scope=col>&lt;dbl&gt;</th><th scope=col>&lt;dbl&gt;</th><th scope=col>&lt;dbl&gt;</th><th scope=col>&lt;int&gt;</th><th scope=col>&lt;dbl&gt;</th><th scope=col>&lt;dbl&gt;</th><th scope=col>&lt;dbl&gt;</th><th scope=col>&lt;dbl&gt;</th><th scope=col>&lt;dbl&gt;</th><th scope=col>&lt;dbl&gt;</th></tr>\n",
       "</thead>\n",
       "<tbody>\n",
       "\t<tr><th scope=row>138</th><td>Qatar               </td><td>Eastern Mediterranean</td><td>2051</td><td>13.28</td><td>1.73</td><td>2.06</td><td>82</td><td>7.4</td><td>123.11</td><td>96.3</td><td>86440</td><td>95.7</td><td>96.6</td></tr>\n",
       "\t<tr><th scope=row>183</th><td>United Arab Emirates</td><td>Eastern Mediterranean</td><td>9206</td><td>14.41</td><td>0.81</td><td>1.84</td><td>76</td><td>8.4</td><td>148.62</td><td>  NA</td><td>47890</td><td>  NA</td><td>  NA</td></tr>\n",
       "</tbody>\n",
       "</table>\n"
      ],
      "text/latex": [
       "A data.frame: 2 × 13\n",
       "\\begin{tabular}{r|lllllllllllll}\n",
       "  & Country & Region & Population & Under15 & Over60 & FertilityRate & LifeExpectancy & ChildMortality & CellularSubscribers & LiteracyRate & GNI & PrimarySchoolEnrollmentMale & PrimarySchoolEnrollmentFemale\\\\\n",
       "  & <chr> & <chr> & <int> & <dbl> & <dbl> & <dbl> & <int> & <dbl> & <dbl> & <dbl> & <dbl> & <dbl> & <dbl>\\\\\n",
       "\\hline\n",
       "\t138 & Qatar                & Eastern Mediterranean & 2051 & 13.28 & 1.73 & 2.06 & 82 & 7.4 & 123.11 & 96.3 & 86440 & 95.7 & 96.6\\\\\n",
       "\t183 & United Arab Emirates & Eastern Mediterranean & 9206 & 14.41 & 0.81 & 1.84 & 76 & 8.4 & 148.62 &   NA & 47890 &   NA &   NA\\\\\n",
       "\\end{tabular}\n"
      ],
      "text/markdown": [
       "\n",
       "A data.frame: 2 × 13\n",
       "\n",
       "| <!--/--> | Country &lt;chr&gt; | Region &lt;chr&gt; | Population &lt;int&gt; | Under15 &lt;dbl&gt; | Over60 &lt;dbl&gt; | FertilityRate &lt;dbl&gt; | LifeExpectancy &lt;int&gt; | ChildMortality &lt;dbl&gt; | CellularSubscribers &lt;dbl&gt; | LiteracyRate &lt;dbl&gt; | GNI &lt;dbl&gt; | PrimarySchoolEnrollmentMale &lt;dbl&gt; | PrimarySchoolEnrollmentFemale &lt;dbl&gt; |\n",
       "|---|---|---|---|---|---|---|---|---|---|---|---|---|---|\n",
       "| 138 | Qatar                | Eastern Mediterranean | 2051 | 13.28 | 1.73 | 2.06 | 82 | 7.4 | 123.11 | 96.3 | 86440 | 95.7 | 96.6 |\n",
       "| 183 | United Arab Emirates | Eastern Mediterranean | 9206 | 14.41 | 0.81 | 1.84 | 76 | 8.4 | 148.62 |   NA | 47890 |   NA |   NA |\n",
       "\n"
      ],
      "text/plain": [
       "    Country              Region                Population Under15 Over60\n",
       "138 Qatar                Eastern Mediterranean 2051       13.28   1.73  \n",
       "183 United Arab Emirates Eastern Mediterranean 9206       14.41   0.81  \n",
       "    FertilityRate LifeExpectancy ChildMortality CellularSubscribers\n",
       "138 2.06          82             7.4            123.11             \n",
       "183 1.84          76             8.4            148.62             \n",
       "    LiteracyRate GNI   PrimarySchoolEnrollmentMale\n",
       "138 96.3         86440 95.7                       \n",
       "183   NA         47890   NA                       \n",
       "    PrimarySchoolEnrollmentFemale\n",
       "138 96.6                         \n",
       "183   NA                         "
      ]
     },
     "metadata": {},
     "output_type": "display_data"
    }
   ],
   "source": [
    "subsetOfSmallestPopulationOver60 = subset(WHO, Population < 10000 & Over60 < 2)\n",
    "subsetOfSmallestPopulationOver60"
   ]
  },
  {
   "cell_type": "code",
   "execution_count": 58,
   "metadata": {},
   "outputs": [
    {
     "data": {
      "text/html": [
       "44"
      ],
      "text/latex": [
       "44"
      ],
      "text/markdown": [
       "44"
      ],
      "text/plain": [
       "[1] 44"
      ]
     },
     "metadata": {},
     "output_type": "display_data"
    }
   ],
   "source": [
    "which.max(WHO$LiteracyRate)"
   ]
  },
  {
   "cell_type": "code",
   "execution_count": 61,
   "metadata": {},
   "outputs": [
    {
     "data": {
      "text/html": [
       "'Cuba'"
      ],
      "text/latex": [
       "'Cuba'"
      ],
      "text/markdown": [
       "'Cuba'"
      ],
      "text/plain": [
       "[1] \"Cuba\""
      ]
     },
     "metadata": {},
     "output_type": "display_data"
    }
   ],
   "source": [
    "WHO$Country[44]"
   ]
  },
  {
   "cell_type": "markdown",
   "metadata": {},
   "source": [
    "---"
   ]
  },
  {
   "cell_type": "markdown",
   "metadata": {},
   "source": [
    "# Histograms hist"
   ]
  },
  {
   "cell_type": "code",
   "execution_count": 63,
   "metadata": {},
   "outputs": [
    {
     "data": {
      "image/png": "[encoded data removed]",
      "text/plain": [
       "Plot with title “Histogram of WHO$CellularSubscribers”"
      ]
     },
     "metadata": {
      "image/png": {
       "height": 420,
       "width": 420
      }
     },
     "output_type": "display_data"
    }
   ],
   "source": [
    "hist(WHO$CellularSubscribers)"
   ]
  },
  {
   "cell_type": "markdown",
   "metadata": {},
   "source": [
    "# boxplot Circles are outliers"
   ]
  },
  {
   "cell_type": "code",
   "execution_count": 64,
   "metadata": {},
   "outputs": [
    {
     "data": {
      "image/png": "[encoded data removed]",
      "text/plain": [
       "plot without title"
      ]
     },
     "metadata": {
      "image/png": {
       "height": 420,
       "width": 420
      }
     },
     "output_type": "display_data"
    }
   ],
   "source": [
    "boxplot(WHO$LifeExpectancy ~ WHO$Region)"
   ]
  },
  {
   "cell_type": "markdown",
   "metadata": {},
   "source": [
    " ![](https://www.simplypsychology.org/boxplot.jpg?ezimgfmt=rs:555x285/rscb20/ng:webp/ngcb20)"
   ]
  },
  {
   "cell_type": "markdown",
   "metadata": {},
   "source": [
    "## Analysis: americas has lowest IQR. Europe has Highest median life expectancy and eastern europe has the highest overall life expectancy "
   ]
  },
  {
   "cell_type": "code",
   "execution_count": null,
   "metadata": {},
   "outputs": [],
   "source": []
  },
  {
   "cell_type": "markdown",
   "metadata": {},
   "source": [
    "## Create labels for boxplots"
   ]
  },
  {
   "cell_type": "code",
   "execution_count": 68,
   "metadata": {},
   "outputs": [
    {
     "data": {
      "image/png": "[encoded data removed]",
      "text/plain": [
       "Plot with title “Life Expectancy of Countries by Region”"
      ]
     },
     "metadata": {
      "image/png": {
       "height": 420,
       "width": 420
      }
     },
     "output_type": "display_data"
    }
   ],
   "source": [
    "boxplot(WHO$LifeExpectancy ~ WHO$Region, xlab=\"\", ylab=\"Life Expectancy\", main=\"Life Expectancy of Countries by Region\")"
   ]
  },
  {
   "cell_type": "markdown",
   "metadata": {},
   "source": [
    "## Summary Tables"
   ]
  },
  {
   "cell_type": "code",
   "execution_count": 69,
   "metadata": {},
   "outputs": [
    {
     "data": {
      "text/html": [
       "<style>\n",
       ".dl-inline {width: auto; margin:0; padding: 0}\n",
       ".dl-inline>dt, .dl-inline>dd {float: none; width: auto; display: inline-block}\n",
       ".dl-inline>dt::after {content: \":\\0020\"; padding-right: .5ex}\n",
       ".dl-inline>dt:not(:first-of-type) {padding-left: .5ex}\n",
       "</style><dl class=dl-inline><dt>Africa</dt><dd>5.22065217391304</dd><dt>Americas</dt><dd>10.9437142857143</dd><dt>Eastern Mediterranean</dt><dd>5.62</dd><dt>Europe</dt><dd>19.7749056603774</dd><dt>South-East Asia</dt><dd>8.76909090909091</dd><dt>Western Pacific</dt><dd>10.162962962963</dd></dl>\n"
      ],
      "text/latex": [
       "\\begin{description*}\n",
       "\\item[Africa] 5.22065217391304\n",
       "\\item[Americas] 10.9437142857143\n",
       "\\item[Eastern Mediterranean] 5.62\n",
       "\\item[Europe] 19.7749056603774\n",
       "\\item[South-East Asia] 8.76909090909091\n",
       "\\item[Western Pacific] 10.162962962963\n",
       "\\end{description*}\n"
      ],
      "text/markdown": [
       "Africa\n",
       ":   5.22065217391304Americas\n",
       ":   10.9437142857143Eastern Mediterranean\n",
       ":   5.62Europe\n",
       ":   19.7749056603774South-East Asia\n",
       ":   8.76909090909091Western Pacific\n",
       ":   10.162962962963\n",
       "\n"
      ],
      "text/plain": [
       "               Africa              Americas Eastern Mediterranean \n",
       "             5.220652             10.943714              5.620000 \n",
       "               Europe       South-East Asia       Western Pacific \n",
       "            19.774906              8.769091             10.162963 "
      ]
     },
     "metadata": {},
     "output_type": "display_data"
    }
   ],
   "source": [
    "tapply(WHO$Over60, WHO$Region, mean)"
   ]
  },
  {
   "cell_type": "code",
   "execution_count": 70,
   "metadata": {},
   "outputs": [
    {
     "data": {
      "text/html": [
       "<style>\n",
       ".dl-inline {width: auto; margin:0; padding: 0}\n",
       ".dl-inline>dt, .dl-inline>dd {float: none; width: auto; display: inline-block}\n",
       ".dl-inline>dt::after {content: \":\\0020\"; padding-right: .5ex}\n",
       ".dl-inline>dt:not(:first-of-type) {padding-left: .5ex}\n",
       "</style><dl class=dl-inline><dt>Africa</dt><dd>&lt;NA&gt;</dd><dt>Americas</dt><dd>&lt;NA&gt;</dd><dt>Eastern Mediterranean</dt><dd>&lt;NA&gt;</dd><dt>Europe</dt><dd>&lt;NA&gt;</dd><dt>South-East Asia</dt><dd>&lt;NA&gt;</dd><dt>Western Pacific</dt><dd>&lt;NA&gt;</dd></dl>\n"
      ],
      "text/latex": [
       "\\begin{description*}\n",
       "\\item[Africa] <NA>\n",
       "\\item[Americas] <NA>\n",
       "\\item[Eastern Mediterranean] <NA>\n",
       "\\item[Europe] <NA>\n",
       "\\item[South-East Asia] <NA>\n",
       "\\item[Western Pacific] <NA>\n",
       "\\end{description*}\n"
      ],
      "text/markdown": [
       "Africa\n",
       ":   &lt;NA&gt;Americas\n",
       ":   &lt;NA&gt;Eastern Mediterranean\n",
       ":   &lt;NA&gt;Europe\n",
       ":   &lt;NA&gt;South-East Asia\n",
       ":   &lt;NA&gt;Western Pacific\n",
       ":   &lt;NA&gt;\n",
       "\n"
      ],
      "text/plain": [
       "               Africa              Americas Eastern Mediterranean \n",
       "                   NA                    NA                    NA \n",
       "               Europe       South-East Asia       Western Pacific \n",
       "                   NA                    NA                    NA "
      ]
     },
     "metadata": {},
     "output_type": "display_data"
    }
   ],
   "source": [
    "tapply(WHO$LiteracyRate, WHO$Region, min)"
   ]
  },
  {
   "cell_type": "markdown",
   "metadata": {},
   "source": [
    "### The above is an error because there are NA values in LiteracyRate.\n"
   ]
  },
  {
   "cell_type": "code",
   "execution_count": 71,
   "metadata": {},
   "outputs": [
    {
     "data": {
      "text/html": [
       "<style>\n",
       ".dl-inline {width: auto; margin:0; padding: 0}\n",
       ".dl-inline>dt, .dl-inline>dd {float: none; width: auto; display: inline-block}\n",
       ".dl-inline>dt::after {content: \":\\0020\"; padding-right: .5ex}\n",
       ".dl-inline>dt:not(:first-of-type) {padding-left: .5ex}\n",
       "</style><dl class=dl-inline><dt>Africa</dt><dd>31.1</dd><dt>Americas</dt><dd>75.2</dd><dt>Eastern Mediterranean</dt><dd>63.9</dd><dt>Europe</dt><dd>95.2</dd><dt>South-East Asia</dt><dd>56.8</dd><dt>Western Pacific</dt><dd>60.6</dd></dl>\n"
      ],
      "text/latex": [
       "\\begin{description*}\n",
       "\\item[Africa] 31.1\n",
       "\\item[Americas] 75.2\n",
       "\\item[Eastern Mediterranean] 63.9\n",
       "\\item[Europe] 95.2\n",
       "\\item[South-East Asia] 56.8\n",
       "\\item[Western Pacific] 60.6\n",
       "\\end{description*}\n"
      ],
      "text/markdown": [
       "Africa\n",
       ":   31.1Americas\n",
       ":   75.2Eastern Mediterranean\n",
       ":   63.9Europe\n",
       ":   95.2South-East Asia\n",
       ":   56.8Western Pacific\n",
       ":   60.6\n",
       "\n"
      ],
      "text/plain": [
       "               Africa              Americas Eastern Mediterranean \n",
       "                 31.1                  75.2                  63.9 \n",
       "               Europe       South-East Asia       Western Pacific \n",
       "                 95.2                  56.8                  60.6 "
      ]
     },
     "metadata": {},
     "output_type": "display_data"
    }
   ],
   "source": [
    "tapply(WHO$LiteracyRate, WHO$Region, min, na.rm=TRUE)"
   ]
  },
  {
   "cell_type": "markdown",
   "metadata": {},
   "source": [
    "The above remove the NA values from LiteracyRate"
   ]
  },
  {
   "cell_type": "markdown",
   "metadata": {},
   "source": [
    "# Quiz"
   ]
  },
  {
   "cell_type": "markdown",
   "metadata": {},
   "source": [
    "### Use the tapply function to find the average child mortality rate of countries in each region.\n"
   ]
  },
  {
   "cell_type": "code",
   "execution_count": 72,
   "metadata": {},
   "outputs": [
    {
     "data": {
      "text/html": [
       "<table>\n",
       "<caption>A data.frame: 194 × 13</caption>\n",
       "<thead>\n",
       "\t<tr><th scope=col>Country</th><th scope=col>Region</th><th scope=col>Population</th><th scope=col>Under15</th><th scope=col>Over60</th><th scope=col>FertilityRate</th><th scope=col>LifeExpectancy</th><th scope=col>ChildMortality</th><th scope=col>CellularSubscribers</th><th scope=col>LiteracyRate</th><th scope=col>GNI</th><th scope=col>PrimarySchoolEnrollmentMale</th><th scope=col>PrimarySchoolEnrollmentFemale</th></tr>\n",
       "\t<tr><th scope=col>&lt;chr&gt;</th><th scope=col>&lt;chr&gt;</th><th scope=col>&lt;int&gt;</th><th scope=col>&lt;dbl&gt;</th><th scope=col>&lt;dbl&gt;</th><th scope=col>&lt;dbl&gt;</th><th scope=col>&lt;int&gt;</th><th scope=col>&lt;dbl&gt;</th><th scope=col>&lt;dbl&gt;</th><th scope=col>&lt;dbl&gt;</th><th scope=col>&lt;dbl&gt;</th><th scope=col>&lt;dbl&gt;</th><th scope=col>&lt;dbl&gt;</th></tr>\n",
       "</thead>\n",
       "<tbody>\n",
       "\t<tr><td>Afghanistan                     </td><td>Eastern Mediterranean</td><td> 29825</td><td>47.42</td><td> 3.82</td><td>5.40</td><td>60</td><td> 98.5</td><td> 54.26</td><td>  NA</td><td> 1140</td><td>  NA</td><td>  NA</td></tr>\n",
       "\t<tr><td>Albania                         </td><td>Europe               </td><td>  3162</td><td>21.33</td><td>14.93</td><td>1.75</td><td>74</td><td> 16.7</td><td> 96.39</td><td>  NA</td><td> 8820</td><td>  NA</td><td>  NA</td></tr>\n",
       "\t<tr><td>Algeria                         </td><td>Africa               </td><td> 38482</td><td>27.42</td><td> 7.17</td><td>2.83</td><td>73</td><td> 20.0</td><td> 98.99</td><td>  NA</td><td> 8310</td><td>98.2</td><td>96.4</td></tr>\n",
       "\t<tr><td>Andorra                         </td><td>Europe               </td><td>    78</td><td>15.20</td><td>22.86</td><td>  NA</td><td>82</td><td>  3.2</td><td> 75.49</td><td>  NA</td><td>   NA</td><td>78.4</td><td>79.4</td></tr>\n",
       "\t<tr><td>Angola                          </td><td>Africa               </td><td> 20821</td><td>47.58</td><td> 3.84</td><td>6.10</td><td>51</td><td>163.5</td><td> 48.38</td><td>70.1</td><td> 5230</td><td>93.1</td><td>78.2</td></tr>\n",
       "\t<tr><td>Antigua and Barbuda             </td><td>Americas             </td><td>    89</td><td>25.96</td><td>12.35</td><td>2.12</td><td>75</td><td>  9.9</td><td>196.41</td><td>99.0</td><td>17900</td><td>91.1</td><td>84.5</td></tr>\n",
       "\t<tr><td>Argentina                       </td><td>Americas             </td><td> 41087</td><td>24.42</td><td>14.97</td><td>2.20</td><td>76</td><td> 14.2</td><td>134.92</td><td>97.8</td><td>17130</td><td>  NA</td><td>  NA</td></tr>\n",
       "\t<tr><td>Armenia                         </td><td>Europe               </td><td>  2969</td><td>20.34</td><td>14.06</td><td>1.74</td><td>71</td><td> 16.4</td><td>103.57</td><td>99.6</td><td> 6100</td><td>  NA</td><td>  NA</td></tr>\n",
       "\t<tr><td>Australia                       </td><td>Western Pacific      </td><td> 23050</td><td>18.95</td><td>19.46</td><td>1.89</td><td>82</td><td>  4.9</td><td>108.34</td><td>  NA</td><td>38110</td><td>96.9</td><td>97.5</td></tr>\n",
       "\t<tr><td>Austria                         </td><td>Europe               </td><td>  8464</td><td>14.51</td><td>23.52</td><td>1.44</td><td>81</td><td>  4.0</td><td>154.78</td><td>  NA</td><td>42050</td><td>  NA</td><td>  NA</td></tr>\n",
       "\t<tr><td>Azerbaijan                      </td><td>Europe               </td><td>  9309</td><td>22.25</td><td> 8.24</td><td>1.96</td><td>71</td><td> 35.2</td><td>108.75</td><td>  NA</td><td> 8960</td><td>85.3</td><td>84.1</td></tr>\n",
       "\t<tr><td>Bahamas                         </td><td>Americas             </td><td>   372</td><td>21.62</td><td>11.24</td><td>1.90</td><td>75</td><td> 16.9</td><td> 86.06</td><td>  NA</td><td>   NA</td><td>  NA</td><td>  NA</td></tr>\n",
       "\t<tr><td>Bahrain                         </td><td>Eastern Mediterranean</td><td>  1318</td><td>20.16</td><td> 3.38</td><td>2.12</td><td>79</td><td>  9.6</td><td>127.96</td><td>91.9</td><td>   NA</td><td>  NA</td><td>  NA</td></tr>\n",
       "\t<tr><td>Bangladesh                      </td><td>South-East Asia      </td><td>155000</td><td>30.57</td><td> 6.89</td><td>2.24</td><td>70</td><td> 40.9</td><td> 56.06</td><td>56.8</td><td> 1940</td><td>  NA</td><td>  NA</td></tr>\n",
       "\t<tr><td>Barbados                        </td><td>Americas             </td><td>   283</td><td>18.99</td><td>15.78</td><td>1.84</td><td>78</td><td> 18.4</td><td>127.01</td><td>  NA</td><td>   NA</td><td>  NA</td><td>  NA</td></tr>\n",
       "\t<tr><td>Belarus                         </td><td>Europe               </td><td>  9405</td><td>15.10</td><td>19.31</td><td>1.47</td><td>71</td><td>  5.2</td><td>111.88</td><td>  NA</td><td>14460</td><td>  NA</td><td>  NA</td></tr>\n",
       "\t<tr><td>Belgium                         </td><td>Europe               </td><td> 11060</td><td>16.88</td><td>23.81</td><td>1.85</td><td>80</td><td>  4.2</td><td>116.61</td><td>  NA</td><td>39190</td><td>98.9</td><td>99.2</td></tr>\n",
       "\t<tr><td>Belize                          </td><td>Americas             </td><td>   324</td><td>34.40</td><td> 5.74</td><td>2.76</td><td>74</td><td> 18.3</td><td> 69.96</td><td>  NA</td><td> 6090</td><td>  NA</td><td>  NA</td></tr>\n",
       "\t<tr><td>Benin                           </td><td>Africa               </td><td> 10051</td><td>42.95</td><td> 4.54</td><td>5.01</td><td>57</td><td> 89.5</td><td> 85.33</td><td>42.4</td><td> 1620</td><td>  NA</td><td>  NA</td></tr>\n",
       "\t<tr><td>Bhutan                          </td><td>South-East Asia      </td><td>   742</td><td>28.53</td><td> 6.90</td><td>2.32</td><td>67</td><td> 44.6</td><td> 65.58</td><td>  NA</td><td> 5570</td><td>88.3</td><td>91.5</td></tr>\n",
       "\t<tr><td>Bolivia (Plurinational State of)</td><td>Americas             </td><td> 10496</td><td>35.23</td><td> 7.28</td><td>3.31</td><td>67</td><td> 41.4</td><td> 82.82</td><td>  NA</td><td> 4890</td><td>91.2</td><td>91.5</td></tr>\n",
       "\t<tr><td>Bosnia and Herzegovina          </td><td>Europe               </td><td>  3834</td><td>16.35</td><td>20.52</td><td>1.26</td><td>76</td><td>  6.7</td><td> 84.52</td><td>97.9</td><td> 9190</td><td>86.5</td><td>88.4</td></tr>\n",
       "\t<tr><td>Botswana                        </td><td>Africa               </td><td>  2004</td><td>33.75</td><td> 5.63</td><td>2.71</td><td>66</td><td> 53.3</td><td>142.82</td><td>84.5</td><td>14550</td><td>  NA</td><td>  NA</td></tr>\n",
       "\t<tr><td>Brazil                          </td><td>Americas             </td><td>199000</td><td>24.56</td><td>10.81</td><td>1.82</td><td>74</td><td> 14.4</td><td>124.26</td><td>  NA</td><td>11420</td><td>  NA</td><td>  NA</td></tr>\n",
       "\t<tr><td>Brunei Darussalam               </td><td>Western Pacific      </td><td>   412</td><td>25.75</td><td> 7.03</td><td>2.03</td><td>77</td><td>  8.0</td><td>109.17</td><td>95.2</td><td>   NA</td><td>  NA</td><td>  NA</td></tr>\n",
       "\t<tr><td>Bulgaria                        </td><td>Europe               </td><td>  7278</td><td>13.53</td><td>26.11</td><td>1.51</td><td>74</td><td> 12.1</td><td>140.68</td><td>  NA</td><td>14160</td><td>99.3</td><td>99.7</td></tr>\n",
       "\t<tr><td>Burkina Faso                    </td><td>Africa               </td><td> 16460</td><td>45.66</td><td> 3.88</td><td>5.78</td><td>56</td><td>102.4</td><td> 45.27</td><td>  NA</td><td> 1300</td><td>60.7</td><td>55.9</td></tr>\n",
       "\t<tr><td>Burundi                         </td><td>Africa               </td><td>  9850</td><td>44.20</td><td> 3.87</td><td>6.21</td><td>53</td><td>104.3</td><td> 22.33</td><td>67.2</td><td>  610</td><td>  NA</td><td>  NA</td></tr>\n",
       "\t<tr><td>Cambodia                        </td><td>Western Pacific      </td><td> 14865</td><td>31.23</td><td> 7.67</td><td>2.93</td><td>65</td><td> 39.7</td><td> 96.17</td><td>  NA</td><td> 2230</td><td>96.4</td><td>95.4</td></tr>\n",
       "\t<tr><td>Cameroon                        </td><td>Africa               </td><td> 21700</td><td>43.08</td><td> 4.89</td><td>4.94</td><td>53</td><td> 94.9</td><td> 52.35</td><td>  NA</td><td> 2330</td><td>99.6</td><td>87.4</td></tr>\n",
       "\t<tr><td>⋮</td><td>⋮</td><td>⋮</td><td>⋮</td><td>⋮</td><td>⋮</td><td>⋮</td><td>⋮</td><td>⋮</td><td>⋮</td><td>⋮</td><td>⋮</td><td>⋮</td></tr>\n",
       "\t<tr><td>Suriname                                 </td><td>Americas             </td><td>   535</td><td>27.83</td><td> 9.55</td><td>2.32</td><td>72</td><td>20.8</td><td>178.88</td><td>94.7</td><td>   NA</td><td>  NA</td><td>  NA</td></tr>\n",
       "\t<tr><td>Swaziland                                </td><td>Africa               </td><td>  1231</td><td>38.05</td><td> 5.34</td><td>3.48</td><td>50</td><td>79.7</td><td> 63.70</td><td>87.4</td><td> 5930</td><td>  NA</td><td>  NA</td></tr>\n",
       "\t<tr><td>Sweden                                   </td><td>Europe               </td><td>  9511</td><td>16.71</td><td>25.32</td><td>1.93</td><td>82</td><td> 2.9</td><td>118.57</td><td>  NA</td><td>42200</td><td>99.7</td><td>99.0</td></tr>\n",
       "\t<tr><td>Switzerland                              </td><td>Europe               </td><td>  7997</td><td>14.79</td><td>23.25</td><td>1.51</td><td>83</td><td> 4.3</td><td>131.43</td><td>  NA</td><td>52570</td><td>98.9</td><td>99.5</td></tr>\n",
       "\t<tr><td>Syrian Arab Republic                     </td><td>Eastern Mediterranean</td><td> 21890</td><td>35.35</td><td> 6.09</td><td>3.04</td><td>75</td><td>15.1</td><td> 63.17</td><td>83.4</td><td>   NA</td><td>  NA</td><td>  NA</td></tr>\n",
       "\t<tr><td>Tajikistan                               </td><td>Europe               </td><td>  8009</td><td>35.75</td><td> 4.80</td><td>3.81</td><td>68</td><td>58.3</td><td> 90.64</td><td>99.7</td><td> 2300</td><td>99.5</td><td>96.0</td></tr>\n",
       "\t<tr><td>Thailand                                 </td><td>South-East Asia      </td><td> 66785</td><td>18.47</td><td>13.96</td><td>1.43</td><td>74</td><td>13.2</td><td>111.63</td><td>  NA</td><td> 8360</td><td>  NA</td><td>  NA</td></tr>\n",
       "\t<tr><td>The former Yugoslav Republic of Macedonia</td><td>Europe               </td><td>  2106</td><td>16.89</td><td>17.56</td><td>1.44</td><td>75</td><td> 7.4</td><td>107.24</td><td>97.3</td><td>11090</td><td>97.3</td><td>99.2</td></tr>\n",
       "\t<tr><td>Timor-Leste                              </td><td>South-East Asia      </td><td>  1114</td><td>46.33</td><td> 5.16</td><td>6.11</td><td>64</td><td>56.7</td><td> 53.23</td><td>58.3</td><td>   NA</td><td>86.2</td><td>85.6</td></tr>\n",
       "\t<tr><td>Togo                                     </td><td>Africa               </td><td>  6643</td><td>41.89</td><td> 4.44</td><td>4.75</td><td>56</td><td>95.5</td><td> 50.45</td><td>  NA</td><td> 1040</td><td>  NA</td><td>  NA</td></tr>\n",
       "\t<tr><td>Tonga                                    </td><td>Western Pacific      </td><td>   105</td><td>37.33</td><td> 7.96</td><td>3.86</td><td>72</td><td>12.8</td><td> 52.63</td><td>  NA</td><td> 5000</td><td>  NA</td><td>  NA</td></tr>\n",
       "\t<tr><td>Trinidad and Tobago                      </td><td>Americas             </td><td>  1337</td><td>20.73</td><td>13.18</td><td>1.80</td><td>71</td><td>20.7</td><td>135.64</td><td>98.8</td><td>   NA</td><td>97.7</td><td>97.0</td></tr>\n",
       "\t<tr><td>Tunisia                                  </td><td>Eastern Mediterranean</td><td> 10875</td><td>23.22</td><td>10.49</td><td>2.04</td><td>76</td><td>16.1</td><td>116.93</td><td>  NA</td><td> 9030</td><td>  NA</td><td>  NA</td></tr>\n",
       "\t<tr><td>Turkey                                   </td><td>Europe               </td><td> 73997</td><td>26.00</td><td>10.56</td><td>2.08</td><td>76</td><td>14.2</td><td> 88.70</td><td>  NA</td><td>16940</td><td>99.5</td><td>98.3</td></tr>\n",
       "\t<tr><td>Turkmenistan                             </td><td>Europe               </td><td>  5173</td><td>28.65</td><td> 6.30</td><td>2.38</td><td>63</td><td>52.8</td><td> 68.77</td><td>99.6</td><td> 8690</td><td>  NA</td><td>  NA</td></tr>\n",
       "\t<tr><td>Tuvalu                                   </td><td>Western Pacific      </td><td>    10</td><td>30.61</td><td> 9.07</td><td>  NA</td><td>64</td><td>29.7</td><td> 21.63</td><td>  NA</td><td>   NA</td><td>  NA</td><td>  NA</td></tr>\n",
       "\t<tr><td>Uganda                                   </td><td>Africa               </td><td> 36346</td><td>48.54</td><td> 3.72</td><td>6.06</td><td>56</td><td>68.9</td><td> 48.38</td><td>73.2</td><td> 1310</td><td>89.7</td><td>92.3</td></tr>\n",
       "\t<tr><td>Ukraine                                  </td><td>Europe               </td><td> 45530</td><td>14.18</td><td>20.76</td><td>1.45</td><td>71</td><td>10.7</td><td>122.98</td><td>99.7</td><td> 7040</td><td>90.8</td><td>91.5</td></tr>\n",
       "\t<tr><td>United Arab Emirates                     </td><td>Eastern Mediterranean</td><td>  9206</td><td>14.41</td><td> 0.81</td><td>1.84</td><td>76</td><td> 8.4</td><td>148.62</td><td>  NA</td><td>47890</td><td>  NA</td><td>  NA</td></tr>\n",
       "\t<tr><td>United Kingdom                           </td><td>Europe               </td><td> 62783</td><td>17.54</td><td>23.06</td><td>1.90</td><td>80</td><td> 4.8</td><td>130.75</td><td>  NA</td><td>36010</td><td>99.8</td><td>99.6</td></tr>\n",
       "\t<tr><td>United Republic of Tanzania              </td><td>Africa               </td><td> 47783</td><td>44.85</td><td> 4.89</td><td>5.36</td><td>59</td><td>54.0</td><td> 55.53</td><td>73.2</td><td> 1500</td><td>  NA</td><td>  NA</td></tr>\n",
       "\t<tr><td>United States of America                 </td><td>Americas             </td><td>318000</td><td>19.63</td><td>19.31</td><td>2.00</td><td>79</td><td> 7.1</td><td> 92.72</td><td>  NA</td><td>48820</td><td>95.4</td><td>96.1</td></tr>\n",
       "\t<tr><td>Uruguay                                  </td><td>Americas             </td><td>  3395</td><td>22.05</td><td>18.59</td><td>2.07</td><td>77</td><td> 7.2</td><td>140.75</td><td>98.1</td><td>14640</td><td>  NA</td><td>  NA</td></tr>\n",
       "\t<tr><td>Uzbekistan                               </td><td>Europe               </td><td> 28541</td><td>28.90</td><td> 6.38</td><td>2.38</td><td>68</td><td>39.6</td><td> 91.65</td><td>99.4</td><td> 3420</td><td>93.3</td><td>91.0</td></tr>\n",
       "\t<tr><td>Vanuatu                                  </td><td>Western Pacific      </td><td>   247</td><td>37.37</td><td> 6.02</td><td>3.46</td><td>72</td><td>17.9</td><td> 55.76</td><td>82.6</td><td> 4330</td><td>  NA</td><td>  NA</td></tr>\n",
       "\t<tr><td>Venezuela (Bolivarian Republic of)       </td><td>Americas             </td><td> 29955</td><td>28.84</td><td> 9.17</td><td>2.44</td><td>75</td><td>15.3</td><td> 97.78</td><td>  NA</td><td>12430</td><td>94.7</td><td>95.1</td></tr>\n",
       "\t<tr><td>Viet Nam                                 </td><td>Western Pacific      </td><td> 90796</td><td>22.87</td><td> 9.32</td><td>1.79</td><td>75</td><td>23.0</td><td>143.39</td><td>93.2</td><td> 3250</td><td>  NA</td><td>  NA</td></tr>\n",
       "\t<tr><td>Yemen                                    </td><td>Eastern Mediterranean</td><td> 23852</td><td>40.72</td><td> 4.54</td><td>4.35</td><td>64</td><td>60.0</td><td> 47.05</td><td>63.9</td><td> 2170</td><td>85.5</td><td>70.5</td></tr>\n",
       "\t<tr><td>Zambia                                   </td><td>Africa               </td><td> 14075</td><td>46.73</td><td> 3.95</td><td>5.77</td><td>55</td><td>88.5</td><td> 60.59</td><td>71.2</td><td> 1490</td><td>91.4</td><td>93.9</td></tr>\n",
       "\t<tr><td>Zimbabwe                                 </td><td>Africa               </td><td> 13724</td><td>40.24</td><td> 5.68</td><td>3.64</td><td>54</td><td>89.8</td><td> 72.13</td><td>92.2</td><td>   NA</td><td>  NA</td><td>  NA</td></tr>\n",
       "</tbody>\n",
       "</table>\n"
      ],
      "text/latex": [
       "A data.frame: 194 × 13\n",
       "\\begin{tabular}{lllllllllllll}\n",
       " Country & Region & Population & Under15 & Over60 & FertilityRate & LifeExpectancy & ChildMortality & CellularSubscribers & LiteracyRate & GNI & PrimarySchoolEnrollmentMale & PrimarySchoolEnrollmentFemale\\\\\n",
       " <chr> & <chr> & <int> & <dbl> & <dbl> & <dbl> & <int> & <dbl> & <dbl> & <dbl> & <dbl> & <dbl> & <dbl>\\\\\n",
       "\\hline\n",
       "\t Afghanistan                      & Eastern Mediterranean &  29825 & 47.42 &  3.82 & 5.40 & 60 &  98.5 &  54.26 &   NA &  1140 &   NA &   NA\\\\\n",
       "\t Albania                          & Europe                &   3162 & 21.33 & 14.93 & 1.75 & 74 &  16.7 &  96.39 &   NA &  8820 &   NA &   NA\\\\\n",
       "\t Algeria                          & Africa                &  38482 & 27.42 &  7.17 & 2.83 & 73 &  20.0 &  98.99 &   NA &  8310 & 98.2 & 96.4\\\\\n",
       "\t Andorra                          & Europe                &     78 & 15.20 & 22.86 &   NA & 82 &   3.2 &  75.49 &   NA &    NA & 78.4 & 79.4\\\\\n",
       "\t Angola                           & Africa                &  20821 & 47.58 &  3.84 & 6.10 & 51 & 163.5 &  48.38 & 70.1 &  5230 & 93.1 & 78.2\\\\\n",
       "\t Antigua and Barbuda              & Americas              &     89 & 25.96 & 12.35 & 2.12 & 75 &   9.9 & 196.41 & 99.0 & 17900 & 91.1 & 84.5\\\\\n",
       "\t Argentina                        & Americas              &  41087 & 24.42 & 14.97 & 2.20 & 76 &  14.2 & 134.92 & 97.8 & 17130 &   NA &   NA\\\\\n",
       "\t Armenia                          & Europe                &   2969 & 20.34 & 14.06 & 1.74 & 71 &  16.4 & 103.57 & 99.6 &  6100 &   NA &   NA\\\\\n",
       "\t Australia                        & Western Pacific       &  23050 & 18.95 & 19.46 & 1.89 & 82 &   4.9 & 108.34 &   NA & 38110 & 96.9 & 97.5\\\\\n",
       "\t Austria                          & Europe                &   8464 & 14.51 & 23.52 & 1.44 & 81 &   4.0 & 154.78 &   NA & 42050 &   NA &   NA\\\\\n",
       "\t Azerbaijan                       & Europe                &   9309 & 22.25 &  8.24 & 1.96 & 71 &  35.2 & 108.75 &   NA &  8960 & 85.3 & 84.1\\\\\n",
       "\t Bahamas                          & Americas              &    372 & 21.62 & 11.24 & 1.90 & 75 &  16.9 &  86.06 &   NA &    NA &   NA &   NA\\\\\n",
       "\t Bahrain                          & Eastern Mediterranean &   1318 & 20.16 &  3.38 & 2.12 & 79 &   9.6 & 127.96 & 91.9 &    NA &   NA &   NA\\\\\n",
       "\t Bangladesh                       & South-East Asia       & 155000 & 30.57 &  6.89 & 2.24 & 70 &  40.9 &  56.06 & 56.8 &  1940 &   NA &   NA\\\\\n",
       "\t Barbados                         & Americas              &    283 & 18.99 & 15.78 & 1.84 & 78 &  18.4 & 127.01 &   NA &    NA &   NA &   NA\\\\\n",
       "\t Belarus                          & Europe                &   9405 & 15.10 & 19.31 & 1.47 & 71 &   5.2 & 111.88 &   NA & 14460 &   NA &   NA\\\\\n",
       "\t Belgium                          & Europe                &  11060 & 16.88 & 23.81 & 1.85 & 80 &   4.2 & 116.61 &   NA & 39190 & 98.9 & 99.2\\\\\n",
       "\t Belize                           & Americas              &    324 & 34.40 &  5.74 & 2.76 & 74 &  18.3 &  69.96 &   NA &  6090 &   NA &   NA\\\\\n",
       "\t Benin                            & Africa                &  10051 & 42.95 &  4.54 & 5.01 & 57 &  89.5 &  85.33 & 42.4 &  1620 &   NA &   NA\\\\\n",
       "\t Bhutan                           & South-East Asia       &    742 & 28.53 &  6.90 & 2.32 & 67 &  44.6 &  65.58 &   NA &  5570 & 88.3 & 91.5\\\\\n",
       "\t Bolivia (Plurinational State of) & Americas              &  10496 & 35.23 &  7.28 & 3.31 & 67 &  41.4 &  82.82 &   NA &  4890 & 91.2 & 91.5\\\\\n",
       "\t Bosnia and Herzegovina           & Europe                &   3834 & 16.35 & 20.52 & 1.26 & 76 &   6.7 &  84.52 & 97.9 &  9190 & 86.5 & 88.4\\\\\n",
       "\t Botswana                         & Africa                &   2004 & 33.75 &  5.63 & 2.71 & 66 &  53.3 & 142.82 & 84.5 & 14550 &   NA &   NA\\\\\n",
       "\t Brazil                           & Americas              & 199000 & 24.56 & 10.81 & 1.82 & 74 &  14.4 & 124.26 &   NA & 11420 &   NA &   NA\\\\\n",
       "\t Brunei Darussalam                & Western Pacific       &    412 & 25.75 &  7.03 & 2.03 & 77 &   8.0 & 109.17 & 95.2 &    NA &   NA &   NA\\\\\n",
       "\t Bulgaria                         & Europe                &   7278 & 13.53 & 26.11 & 1.51 & 74 &  12.1 & 140.68 &   NA & 14160 & 99.3 & 99.7\\\\\n",
       "\t Burkina Faso                     & Africa                &  16460 & 45.66 &  3.88 & 5.78 & 56 & 102.4 &  45.27 &   NA &  1300 & 60.7 & 55.9\\\\\n",
       "\t Burundi                          & Africa                &   9850 & 44.20 &  3.87 & 6.21 & 53 & 104.3 &  22.33 & 67.2 &   610 &   NA &   NA\\\\\n",
       "\t Cambodia                         & Western Pacific       &  14865 & 31.23 &  7.67 & 2.93 & 65 &  39.7 &  96.17 &   NA &  2230 & 96.4 & 95.4\\\\\n",
       "\t Cameroon                         & Africa                &  21700 & 43.08 &  4.89 & 4.94 & 53 &  94.9 &  52.35 &   NA &  2330 & 99.6 & 87.4\\\\\n",
       "\t ⋮ & ⋮ & ⋮ & ⋮ & ⋮ & ⋮ & ⋮ & ⋮ & ⋮ & ⋮ & ⋮ & ⋮ & ⋮\\\\\n",
       "\t Suriname                                  & Americas              &    535 & 27.83 &  9.55 & 2.32 & 72 & 20.8 & 178.88 & 94.7 &    NA &   NA &   NA\\\\\n",
       "\t Swaziland                                 & Africa                &   1231 & 38.05 &  5.34 & 3.48 & 50 & 79.7 &  63.70 & 87.4 &  5930 &   NA &   NA\\\\\n",
       "\t Sweden                                    & Europe                &   9511 & 16.71 & 25.32 & 1.93 & 82 &  2.9 & 118.57 &   NA & 42200 & 99.7 & 99.0\\\\\n",
       "\t Switzerland                               & Europe                &   7997 & 14.79 & 23.25 & 1.51 & 83 &  4.3 & 131.43 &   NA & 52570 & 98.9 & 99.5\\\\\n",
       "\t Syrian Arab Republic                      & Eastern Mediterranean &  21890 & 35.35 &  6.09 & 3.04 & 75 & 15.1 &  63.17 & 83.4 &    NA &   NA &   NA\\\\\n",
       "\t Tajikistan                                & Europe                &   8009 & 35.75 &  4.80 & 3.81 & 68 & 58.3 &  90.64 & 99.7 &  2300 & 99.5 & 96.0\\\\\n",
       "\t Thailand                                  & South-East Asia       &  66785 & 18.47 & 13.96 & 1.43 & 74 & 13.2 & 111.63 &   NA &  8360 &   NA &   NA\\\\\n",
       "\t The former Yugoslav Republic of Macedonia & Europe                &   2106 & 16.89 & 17.56 & 1.44 & 75 &  7.4 & 107.24 & 97.3 & 11090 & 97.3 & 99.2\\\\\n",
       "\t Timor-Leste                               & South-East Asia       &   1114 & 46.33 &  5.16 & 6.11 & 64 & 56.7 &  53.23 & 58.3 &    NA & 86.2 & 85.6\\\\\n",
       "\t Togo                                      & Africa                &   6643 & 41.89 &  4.44 & 4.75 & 56 & 95.5 &  50.45 &   NA &  1040 &   NA &   NA\\\\\n",
       "\t Tonga                                     & Western Pacific       &    105 & 37.33 &  7.96 & 3.86 & 72 & 12.8 &  52.63 &   NA &  5000 &   NA &   NA\\\\\n",
       "\t Trinidad and Tobago                       & Americas              &   1337 & 20.73 & 13.18 & 1.80 & 71 & 20.7 & 135.64 & 98.8 &    NA & 97.7 & 97.0\\\\\n",
       "\t Tunisia                                   & Eastern Mediterranean &  10875 & 23.22 & 10.49 & 2.04 & 76 & 16.1 & 116.93 &   NA &  9030 &   NA &   NA\\\\\n",
       "\t Turkey                                    & Europe                &  73997 & 26.00 & 10.56 & 2.08 & 76 & 14.2 &  88.70 &   NA & 16940 & 99.5 & 98.3\\\\\n",
       "\t Turkmenistan                              & Europe                &   5173 & 28.65 &  6.30 & 2.38 & 63 & 52.8 &  68.77 & 99.6 &  8690 &   NA &   NA\\\\\n",
       "\t Tuvalu                                    & Western Pacific       &     10 & 30.61 &  9.07 &   NA & 64 & 29.7 &  21.63 &   NA &    NA &   NA &   NA\\\\\n",
       "\t Uganda                                    & Africa                &  36346 & 48.54 &  3.72 & 6.06 & 56 & 68.9 &  48.38 & 73.2 &  1310 & 89.7 & 92.3\\\\\n",
       "\t Ukraine                                   & Europe                &  45530 & 14.18 & 20.76 & 1.45 & 71 & 10.7 & 122.98 & 99.7 &  7040 & 90.8 & 91.5\\\\\n",
       "\t United Arab Emirates                      & Eastern Mediterranean &   9206 & 14.41 &  0.81 & 1.84 & 76 &  8.4 & 148.62 &   NA & 47890 &   NA &   NA\\\\\n",
       "\t United Kingdom                            & Europe                &  62783 & 17.54 & 23.06 & 1.90 & 80 &  4.8 & 130.75 &   NA & 36010 & 99.8 & 99.6\\\\\n",
       "\t United Republic of Tanzania               & Africa                &  47783 & 44.85 &  4.89 & 5.36 & 59 & 54.0 &  55.53 & 73.2 &  1500 &   NA &   NA\\\\\n",
       "\t United States of America                  & Americas              & 318000 & 19.63 & 19.31 & 2.00 & 79 &  7.1 &  92.72 &   NA & 48820 & 95.4 & 96.1\\\\\n",
       "\t Uruguay                                   & Americas              &   3395 & 22.05 & 18.59 & 2.07 & 77 &  7.2 & 140.75 & 98.1 & 14640 &   NA &   NA\\\\\n",
       "\t Uzbekistan                                & Europe                &  28541 & 28.90 &  6.38 & 2.38 & 68 & 39.6 &  91.65 & 99.4 &  3420 & 93.3 & 91.0\\\\\n",
       "\t Vanuatu                                   & Western Pacific       &    247 & 37.37 &  6.02 & 3.46 & 72 & 17.9 &  55.76 & 82.6 &  4330 &   NA &   NA\\\\\n",
       "\t Venezuela (Bolivarian Republic of)        & Americas              &  29955 & 28.84 &  9.17 & 2.44 & 75 & 15.3 &  97.78 &   NA & 12430 & 94.7 & 95.1\\\\\n",
       "\t Viet Nam                                  & Western Pacific       &  90796 & 22.87 &  9.32 & 1.79 & 75 & 23.0 & 143.39 & 93.2 &  3250 &   NA &   NA\\\\\n",
       "\t Yemen                                     & Eastern Mediterranean &  23852 & 40.72 &  4.54 & 4.35 & 64 & 60.0 &  47.05 & 63.9 &  2170 & 85.5 & 70.5\\\\\n",
       "\t Zambia                                    & Africa                &  14075 & 46.73 &  3.95 & 5.77 & 55 & 88.5 &  60.59 & 71.2 &  1490 & 91.4 & 93.9\\\\\n",
       "\t Zimbabwe                                  & Africa                &  13724 & 40.24 &  5.68 & 3.64 & 54 & 89.8 &  72.13 & 92.2 &    NA &   NA &   NA\\\\\n",
       "\\end{tabular}\n"
      ],
      "text/markdown": [
       "\n",
       "A data.frame: 194 × 13\n",
       "\n",
       "| Country &lt;chr&gt; | Region &lt;chr&gt; | Population &lt;int&gt; | Under15 &lt;dbl&gt; | Over60 &lt;dbl&gt; | FertilityRate &lt;dbl&gt; | LifeExpectancy &lt;int&gt; | ChildMortality &lt;dbl&gt; | CellularSubscribers &lt;dbl&gt; | LiteracyRate &lt;dbl&gt; | GNI &lt;dbl&gt; | PrimarySchoolEnrollmentMale &lt;dbl&gt; | PrimarySchoolEnrollmentFemale &lt;dbl&gt; |\n",
       "|---|---|---|---|---|---|---|---|---|---|---|---|---|\n",
       "| Afghanistan                      | Eastern Mediterranean |  29825 | 47.42 |  3.82 | 5.40 | 60 |  98.5 |  54.26 |   NA |  1140 |   NA |   NA |\n",
       "| Albania                          | Europe                |   3162 | 21.33 | 14.93 | 1.75 | 74 |  16.7 |  96.39 |   NA |  8820 |   NA |   NA |\n",
       "| Algeria                          | Africa                |  38482 | 27.42 |  7.17 | 2.83 | 73 |  20.0 |  98.99 |   NA |  8310 | 98.2 | 96.4 |\n",
       "| Andorra                          | Europe                |     78 | 15.20 | 22.86 |   NA | 82 |   3.2 |  75.49 |   NA |    NA | 78.4 | 79.4 |\n",
       "| Angola                           | Africa                |  20821 | 47.58 |  3.84 | 6.10 | 51 | 163.5 |  48.38 | 70.1 |  5230 | 93.1 | 78.2 |\n",
       "| Antigua and Barbuda              | Americas              |     89 | 25.96 | 12.35 | 2.12 | 75 |   9.9 | 196.41 | 99.0 | 17900 | 91.1 | 84.5 |\n",
       "| Argentina                        | Americas              |  41087 | 24.42 | 14.97 | 2.20 | 76 |  14.2 | 134.92 | 97.8 | 17130 |   NA |   NA |\n",
       "| Armenia                          | Europe                |   2969 | 20.34 | 14.06 | 1.74 | 71 |  16.4 | 103.57 | 99.6 |  6100 |   NA |   NA |\n",
       "| Australia                        | Western Pacific       |  23050 | 18.95 | 19.46 | 1.89 | 82 |   4.9 | 108.34 |   NA | 38110 | 96.9 | 97.5 |\n",
       "| Austria                          | Europe                |   8464 | 14.51 | 23.52 | 1.44 | 81 |   4.0 | 154.78 |   NA | 42050 |   NA |   NA |\n",
       "| Azerbaijan                       | Europe                |   9309 | 22.25 |  8.24 | 1.96 | 71 |  35.2 | 108.75 |   NA |  8960 | 85.3 | 84.1 |\n",
       "| Bahamas                          | Americas              |    372 | 21.62 | 11.24 | 1.90 | 75 |  16.9 |  86.06 |   NA |    NA |   NA |   NA |\n",
       "| Bahrain                          | Eastern Mediterranean |   1318 | 20.16 |  3.38 | 2.12 | 79 |   9.6 | 127.96 | 91.9 |    NA |   NA |   NA |\n",
       "| Bangladesh                       | South-East Asia       | 155000 | 30.57 |  6.89 | 2.24 | 70 |  40.9 |  56.06 | 56.8 |  1940 |   NA |   NA |\n",
       "| Barbados                         | Americas              |    283 | 18.99 | 15.78 | 1.84 | 78 |  18.4 | 127.01 |   NA |    NA |   NA |   NA |\n",
       "| Belarus                          | Europe                |   9405 | 15.10 | 19.31 | 1.47 | 71 |   5.2 | 111.88 |   NA | 14460 |   NA |   NA |\n",
       "| Belgium                          | Europe                |  11060 | 16.88 | 23.81 | 1.85 | 80 |   4.2 | 116.61 |   NA | 39190 | 98.9 | 99.2 |\n",
       "| Belize                           | Americas              |    324 | 34.40 |  5.74 | 2.76 | 74 |  18.3 |  69.96 |   NA |  6090 |   NA |   NA |\n",
       "| Benin                            | Africa                |  10051 | 42.95 |  4.54 | 5.01 | 57 |  89.5 |  85.33 | 42.4 |  1620 |   NA |   NA |\n",
       "| Bhutan                           | South-East Asia       |    742 | 28.53 |  6.90 | 2.32 | 67 |  44.6 |  65.58 |   NA |  5570 | 88.3 | 91.5 |\n",
       "| Bolivia (Plurinational State of) | Americas              |  10496 | 35.23 |  7.28 | 3.31 | 67 |  41.4 |  82.82 |   NA |  4890 | 91.2 | 91.5 |\n",
       "| Bosnia and Herzegovina           | Europe                |   3834 | 16.35 | 20.52 | 1.26 | 76 |   6.7 |  84.52 | 97.9 |  9190 | 86.5 | 88.4 |\n",
       "| Botswana                         | Africa                |   2004 | 33.75 |  5.63 | 2.71 | 66 |  53.3 | 142.82 | 84.5 | 14550 |   NA |   NA |\n",
       "| Brazil                           | Americas              | 199000 | 24.56 | 10.81 | 1.82 | 74 |  14.4 | 124.26 |   NA | 11420 |   NA |   NA |\n",
       "| Brunei Darussalam                | Western Pacific       |    412 | 25.75 |  7.03 | 2.03 | 77 |   8.0 | 109.17 | 95.2 |    NA |   NA |   NA |\n",
       "| Bulgaria                         | Europe                |   7278 | 13.53 | 26.11 | 1.51 | 74 |  12.1 | 140.68 |   NA | 14160 | 99.3 | 99.7 |\n",
       "| Burkina Faso                     | Africa                |  16460 | 45.66 |  3.88 | 5.78 | 56 | 102.4 |  45.27 |   NA |  1300 | 60.7 | 55.9 |\n",
       "| Burundi                          | Africa                |   9850 | 44.20 |  3.87 | 6.21 | 53 | 104.3 |  22.33 | 67.2 |   610 |   NA |   NA |\n",
       "| Cambodia                         | Western Pacific       |  14865 | 31.23 |  7.67 | 2.93 | 65 |  39.7 |  96.17 |   NA |  2230 | 96.4 | 95.4 |\n",
       "| Cameroon                         | Africa                |  21700 | 43.08 |  4.89 | 4.94 | 53 |  94.9 |  52.35 |   NA |  2330 | 99.6 | 87.4 |\n",
       "| ⋮ | ⋮ | ⋮ | ⋮ | ⋮ | ⋮ | ⋮ | ⋮ | ⋮ | ⋮ | ⋮ | ⋮ | ⋮ |\n",
       "| Suriname                                  | Americas              |    535 | 27.83 |  9.55 | 2.32 | 72 | 20.8 | 178.88 | 94.7 |    NA |   NA |   NA |\n",
       "| Swaziland                                 | Africa                |   1231 | 38.05 |  5.34 | 3.48 | 50 | 79.7 |  63.70 | 87.4 |  5930 |   NA |   NA |\n",
       "| Sweden                                    | Europe                |   9511 | 16.71 | 25.32 | 1.93 | 82 |  2.9 | 118.57 |   NA | 42200 | 99.7 | 99.0 |\n",
       "| Switzerland                               | Europe                |   7997 | 14.79 | 23.25 | 1.51 | 83 |  4.3 | 131.43 |   NA | 52570 | 98.9 | 99.5 |\n",
       "| Syrian Arab Republic                      | Eastern Mediterranean |  21890 | 35.35 |  6.09 | 3.04 | 75 | 15.1 |  63.17 | 83.4 |    NA |   NA |   NA |\n",
       "| Tajikistan                                | Europe                |   8009 | 35.75 |  4.80 | 3.81 | 68 | 58.3 |  90.64 | 99.7 |  2300 | 99.5 | 96.0 |\n",
       "| Thailand                                  | South-East Asia       |  66785 | 18.47 | 13.96 | 1.43 | 74 | 13.2 | 111.63 |   NA |  8360 |   NA |   NA |\n",
       "| The former Yugoslav Republic of Macedonia | Europe                |   2106 | 16.89 | 17.56 | 1.44 | 75 |  7.4 | 107.24 | 97.3 | 11090 | 97.3 | 99.2 |\n",
       "| Timor-Leste                               | South-East Asia       |   1114 | 46.33 |  5.16 | 6.11 | 64 | 56.7 |  53.23 | 58.3 |    NA | 86.2 | 85.6 |\n",
       "| Togo                                      | Africa                |   6643 | 41.89 |  4.44 | 4.75 | 56 | 95.5 |  50.45 |   NA |  1040 |   NA |   NA |\n",
       "| Tonga                                     | Western Pacific       |    105 | 37.33 |  7.96 | 3.86 | 72 | 12.8 |  52.63 |   NA |  5000 |   NA |   NA |\n",
       "| Trinidad and Tobago                       | Americas              |   1337 | 20.73 | 13.18 | 1.80 | 71 | 20.7 | 135.64 | 98.8 |    NA | 97.7 | 97.0 |\n",
       "| Tunisia                                   | Eastern Mediterranean |  10875 | 23.22 | 10.49 | 2.04 | 76 | 16.1 | 116.93 |   NA |  9030 |   NA |   NA |\n",
       "| Turkey                                    | Europe                |  73997 | 26.00 | 10.56 | 2.08 | 76 | 14.2 |  88.70 |   NA | 16940 | 99.5 | 98.3 |\n",
       "| Turkmenistan                              | Europe                |   5173 | 28.65 |  6.30 | 2.38 | 63 | 52.8 |  68.77 | 99.6 |  8690 |   NA |   NA |\n",
       "| Tuvalu                                    | Western Pacific       |     10 | 30.61 |  9.07 |   NA | 64 | 29.7 |  21.63 |   NA |    NA |   NA |   NA |\n",
       "| Uganda                                    | Africa                |  36346 | 48.54 |  3.72 | 6.06 | 56 | 68.9 |  48.38 | 73.2 |  1310 | 89.7 | 92.3 |\n",
       "| Ukraine                                   | Europe                |  45530 | 14.18 | 20.76 | 1.45 | 71 | 10.7 | 122.98 | 99.7 |  7040 | 90.8 | 91.5 |\n",
       "| United Arab Emirates                      | Eastern Mediterranean |   9206 | 14.41 |  0.81 | 1.84 | 76 |  8.4 | 148.62 |   NA | 47890 |   NA |   NA |\n",
       "| United Kingdom                            | Europe                |  62783 | 17.54 | 23.06 | 1.90 | 80 |  4.8 | 130.75 |   NA | 36010 | 99.8 | 99.6 |\n",
       "| United Republic of Tanzania               | Africa                |  47783 | 44.85 |  4.89 | 5.36 | 59 | 54.0 |  55.53 | 73.2 |  1500 |   NA |   NA |\n",
       "| United States of America                  | Americas              | 318000 | 19.63 | 19.31 | 2.00 | 79 |  7.1 |  92.72 |   NA | 48820 | 95.4 | 96.1 |\n",
       "| Uruguay                                   | Americas              |   3395 | 22.05 | 18.59 | 2.07 | 77 |  7.2 | 140.75 | 98.1 | 14640 |   NA |   NA |\n",
       "| Uzbekistan                                | Europe                |  28541 | 28.90 |  6.38 | 2.38 | 68 | 39.6 |  91.65 | 99.4 |  3420 | 93.3 | 91.0 |\n",
       "| Vanuatu                                   | Western Pacific       |    247 | 37.37 |  6.02 | 3.46 | 72 | 17.9 |  55.76 | 82.6 |  4330 |   NA |   NA |\n",
       "| Venezuela (Bolivarian Republic of)        | Americas              |  29955 | 28.84 |  9.17 | 2.44 | 75 | 15.3 |  97.78 |   NA | 12430 | 94.7 | 95.1 |\n",
       "| Viet Nam                                  | Western Pacific       |  90796 | 22.87 |  9.32 | 1.79 | 75 | 23.0 | 143.39 | 93.2 |  3250 |   NA |   NA |\n",
       "| Yemen                                     | Eastern Mediterranean |  23852 | 40.72 |  4.54 | 4.35 | 64 | 60.0 |  47.05 | 63.9 |  2170 | 85.5 | 70.5 |\n",
       "| Zambia                                    | Africa                |  14075 | 46.73 |  3.95 | 5.77 | 55 | 88.5 |  60.59 | 71.2 |  1490 | 91.4 | 93.9 |\n",
       "| Zimbabwe                                  | Africa                |  13724 | 40.24 |  5.68 | 3.64 | 54 | 89.8 |  72.13 | 92.2 |    NA |   NA |   NA |\n",
       "\n"
      ],
      "text/plain": [
       "    Country                                   Region                Population\n",
       "1   Afghanistan                               Eastern Mediterranean  29825    \n",
       "2   Albania                                   Europe                  3162    \n",
       "3   Algeria                                   Africa                 38482    \n",
       "4   Andorra                                   Europe                    78    \n",
       "5   Angola                                    Africa                 20821    \n",
       "6   Antigua and Barbuda                       Americas                  89    \n",
       "7   Argentina                                 Americas               41087    \n",
       "8   Armenia                                   Europe                  2969    \n",
       "9   Australia                                 Western Pacific        23050    \n",
       "10  Austria                                   Europe                  8464    \n",
       "11  Azerbaijan                                Europe                  9309    \n",
       "12  Bahamas                                   Americas                 372    \n",
       "13  Bahrain                                   Eastern Mediterranean   1318    \n",
       "14  Bangladesh                                South-East Asia       155000    \n",
       "15  Barbados                                  Americas                 283    \n",
       "16  Belarus                                   Europe                  9405    \n",
       "17  Belgium                                   Europe                 11060    \n",
       "18  Belize                                    Americas                 324    \n",
       "19  Benin                                     Africa                 10051    \n",
       "20  Bhutan                                    South-East Asia          742    \n",
       "21  Bolivia (Plurinational State of)          Americas               10496    \n",
       "22  Bosnia and Herzegovina                    Europe                  3834    \n",
       "23  Botswana                                  Africa                  2004    \n",
       "24  Brazil                                    Americas              199000    \n",
       "25  Brunei Darussalam                         Western Pacific          412    \n",
       "26  Bulgaria                                  Europe                  7278    \n",
       "27  Burkina Faso                              Africa                 16460    \n",
       "28  Burundi                                   Africa                  9850    \n",
       "29  Cambodia                                  Western Pacific        14865    \n",
       "30  Cameroon                                  Africa                 21700    \n",
       "⋮   ⋮                                         ⋮                     ⋮         \n",
       "165 Suriname                                  Americas                 535    \n",
       "166 Swaziland                                 Africa                  1231    \n",
       "167 Sweden                                    Europe                  9511    \n",
       "168 Switzerland                               Europe                  7997    \n",
       "169 Syrian Arab Republic                      Eastern Mediterranean  21890    \n",
       "170 Tajikistan                                Europe                  8009    \n",
       "171 Thailand                                  South-East Asia        66785    \n",
       "172 The former Yugoslav Republic of Macedonia Europe                  2106    \n",
       "173 Timor-Leste                               South-East Asia         1114    \n",
       "174 Togo                                      Africa                  6643    \n",
       "175 Tonga                                     Western Pacific          105    \n",
       "176 Trinidad and Tobago                       Americas                1337    \n",
       "177 Tunisia                                   Eastern Mediterranean  10875    \n",
       "178 Turkey                                    Europe                 73997    \n",
       "179 Turkmenistan                              Europe                  5173    \n",
       "180 Tuvalu                                    Western Pacific           10    \n",
       "181 Uganda                                    Africa                 36346    \n",
       "182 Ukraine                                   Europe                 45530    \n",
       "183 United Arab Emirates                      Eastern Mediterranean   9206    \n",
       "184 United Kingdom                            Europe                 62783    \n",
       "185 United Republic of Tanzania               Africa                 47783    \n",
       "186 United States of America                  Americas              318000    \n",
       "187 Uruguay                                   Americas                3395    \n",
       "188 Uzbekistan                                Europe                 28541    \n",
       "189 Vanuatu                                   Western Pacific          247    \n",
       "190 Venezuela (Bolivarian Republic of)        Americas               29955    \n",
       "191 Viet Nam                                  Western Pacific        90796    \n",
       "192 Yemen                                     Eastern Mediterranean  23852    \n",
       "193 Zambia                                    Africa                 14075    \n",
       "194 Zimbabwe                                  Africa                 13724    \n",
       "    Under15 Over60 FertilityRate LifeExpectancy ChildMortality\n",
       "1   47.42    3.82  5.40          60              98.5         \n",
       "2   21.33   14.93  1.75          74              16.7         \n",
       "3   27.42    7.17  2.83          73              20.0         \n",
       "4   15.20   22.86    NA          82               3.2         \n",
       "5   47.58    3.84  6.10          51             163.5         \n",
       "6   25.96   12.35  2.12          75               9.9         \n",
       "7   24.42   14.97  2.20          76              14.2         \n",
       "8   20.34   14.06  1.74          71              16.4         \n",
       "9   18.95   19.46  1.89          82               4.9         \n",
       "10  14.51   23.52  1.44          81               4.0         \n",
       "11  22.25    8.24  1.96          71              35.2         \n",
       "12  21.62   11.24  1.90          75              16.9         \n",
       "13  20.16    3.38  2.12          79               9.6         \n",
       "14  30.57    6.89  2.24          70              40.9         \n",
       "15  18.99   15.78  1.84          78              18.4         \n",
       "16  15.10   19.31  1.47          71               5.2         \n",
       "17  16.88   23.81  1.85          80               4.2         \n",
       "18  34.40    5.74  2.76          74              18.3         \n",
       "19  42.95    4.54  5.01          57              89.5         \n",
       "20  28.53    6.90  2.32          67              44.6         \n",
       "21  35.23    7.28  3.31          67              41.4         \n",
       "22  16.35   20.52  1.26          76               6.7         \n",
       "23  33.75    5.63  2.71          66              53.3         \n",
       "24  24.56   10.81  1.82          74              14.4         \n",
       "25  25.75    7.03  2.03          77               8.0         \n",
       "26  13.53   26.11  1.51          74              12.1         \n",
       "27  45.66    3.88  5.78          56             102.4         \n",
       "28  44.20    3.87  6.21          53             104.3         \n",
       "29  31.23    7.67  2.93          65              39.7         \n",
       "30  43.08    4.89  4.94          53              94.9         \n",
       "⋮   ⋮       ⋮      ⋮             ⋮              ⋮             \n",
       "165 27.83    9.55  2.32          72             20.8          \n",
       "166 38.05    5.34  3.48          50             79.7          \n",
       "167 16.71   25.32  1.93          82              2.9          \n",
       "168 14.79   23.25  1.51          83              4.3          \n",
       "169 35.35    6.09  3.04          75             15.1          \n",
       "170 35.75    4.80  3.81          68             58.3          \n",
       "171 18.47   13.96  1.43          74             13.2          \n",
       "172 16.89   17.56  1.44          75              7.4          \n",
       "173 46.33    5.16  6.11          64             56.7          \n",
       "174 41.89    4.44  4.75          56             95.5          \n",
       "175 37.33    7.96  3.86          72             12.8          \n",
       "176 20.73   13.18  1.80          71             20.7          \n",
       "177 23.22   10.49  2.04          76             16.1          \n",
       "178 26.00   10.56  2.08          76             14.2          \n",
       "179 28.65    6.30  2.38          63             52.8          \n",
       "180 30.61    9.07    NA          64             29.7          \n",
       "181 48.54    3.72  6.06          56             68.9          \n",
       "182 14.18   20.76  1.45          71             10.7          \n",
       "183 14.41    0.81  1.84          76              8.4          \n",
       "184 17.54   23.06  1.90          80              4.8          \n",
       "185 44.85    4.89  5.36          59             54.0          \n",
       "186 19.63   19.31  2.00          79              7.1          \n",
       "187 22.05   18.59  2.07          77              7.2          \n",
       "188 28.90    6.38  2.38          68             39.6          \n",
       "189 37.37    6.02  3.46          72             17.9          \n",
       "190 28.84    9.17  2.44          75             15.3          \n",
       "191 22.87    9.32  1.79          75             23.0          \n",
       "192 40.72    4.54  4.35          64             60.0          \n",
       "193 46.73    3.95  5.77          55             88.5          \n",
       "194 40.24    5.68  3.64          54             89.8          \n",
       "    CellularSubscribers LiteracyRate GNI   PrimarySchoolEnrollmentMale\n",
       "1    54.26                NA          1140   NA                       \n",
       "2    96.39                NA          8820   NA                       \n",
       "3    98.99                NA          8310 98.2                       \n",
       "4    75.49                NA            NA 78.4                       \n",
       "5    48.38              70.1          5230 93.1                       \n",
       "6   196.41              99.0         17900 91.1                       \n",
       "7   134.92              97.8         17130   NA                       \n",
       "8   103.57              99.6          6100   NA                       \n",
       "9   108.34                NA         38110 96.9                       \n",
       "10  154.78                NA         42050   NA                       \n",
       "11  108.75                NA          8960 85.3                       \n",
       "12   86.06                NA            NA   NA                       \n",
       "13  127.96              91.9            NA   NA                       \n",
       "14   56.06              56.8          1940   NA                       \n",
       "15  127.01                NA            NA   NA                       \n",
       "16  111.88                NA         14460   NA                       \n",
       "17  116.61                NA         39190 98.9                       \n",
       "18   69.96                NA          6090   NA                       \n",
       "19   85.33              42.4          1620   NA                       \n",
       "20   65.58                NA          5570 88.3                       \n",
       "21   82.82                NA          4890 91.2                       \n",
       "22   84.52              97.9          9190 86.5                       \n",
       "23  142.82              84.5         14550   NA                       \n",
       "24  124.26                NA         11420   NA                       \n",
       "25  109.17              95.2            NA   NA                       \n",
       "26  140.68                NA         14160 99.3                       \n",
       "27   45.27                NA          1300 60.7                       \n",
       "28   22.33              67.2           610   NA                       \n",
       "29   96.17                NA          2230 96.4                       \n",
       "30   52.35                NA          2330 99.6                       \n",
       "⋮   ⋮                   ⋮            ⋮     ⋮                          \n",
       "165 178.88              94.7            NA   NA                       \n",
       "166  63.70              87.4          5930   NA                       \n",
       "167 118.57                NA         42200 99.7                       \n",
       "168 131.43                NA         52570 98.9                       \n",
       "169  63.17              83.4            NA   NA                       \n",
       "170  90.64              99.7          2300 99.5                       \n",
       "171 111.63                NA          8360   NA                       \n",
       "172 107.24              97.3         11090 97.3                       \n",
       "173  53.23              58.3            NA 86.2                       \n",
       "174  50.45                NA          1040   NA                       \n",
       "175  52.63                NA          5000   NA                       \n",
       "176 135.64              98.8            NA 97.7                       \n",
       "177 116.93                NA          9030   NA                       \n",
       "178  88.70                NA         16940 99.5                       \n",
       "179  68.77              99.6          8690   NA                       \n",
       "180  21.63                NA            NA   NA                       \n",
       "181  48.38              73.2          1310 89.7                       \n",
       "182 122.98              99.7          7040 90.8                       \n",
       "183 148.62                NA         47890   NA                       \n",
       "184 130.75                NA         36010 99.8                       \n",
       "185  55.53              73.2          1500   NA                       \n",
       "186  92.72                NA         48820 95.4                       \n",
       "187 140.75              98.1         14640   NA                       \n",
       "188  91.65              99.4          3420 93.3                       \n",
       "189  55.76              82.6          4330   NA                       \n",
       "190  97.78                NA         12430 94.7                       \n",
       "191 143.39              93.2          3250   NA                       \n",
       "192  47.05              63.9          2170 85.5                       \n",
       "193  60.59              71.2          1490 91.4                       \n",
       "194  72.13              92.2            NA   NA                       \n",
       "    PrimarySchoolEnrollmentFemale\n",
       "1     NA                         \n",
       "2     NA                         \n",
       "3   96.4                         \n",
       "4   79.4                         \n",
       "5   78.2                         \n",
       "6   84.5                         \n",
       "7     NA                         \n",
       "8     NA                         \n",
       "9   97.5                         \n",
       "10    NA                         \n",
       "11  84.1                         \n",
       "12    NA                         \n",
       "13    NA                         \n",
       "14    NA                         \n",
       "15    NA                         \n",
       "16    NA                         \n",
       "17  99.2                         \n",
       "18    NA                         \n",
       "19    NA                         \n",
       "20  91.5                         \n",
       "21  91.5                         \n",
       "22  88.4                         \n",
       "23    NA                         \n",
       "24    NA                         \n",
       "25    NA                         \n",
       "26  99.7                         \n",
       "27  55.9                         \n",
       "28    NA                         \n",
       "29  95.4                         \n",
       "30  87.4                         \n",
       "⋮   ⋮                            \n",
       "165   NA                         \n",
       "166   NA                         \n",
       "167 99.0                         \n",
       "168 99.5                         \n",
       "169   NA                         \n",
       "170 96.0                         \n",
       "171   NA                         \n",
       "172 99.2                         \n",
       "173 85.6                         \n",
       "174   NA                         \n",
       "175   NA                         \n",
       "176 97.0                         \n",
       "177   NA                         \n",
       "178 98.3                         \n",
       "179   NA                         \n",
       "180   NA                         \n",
       "181 92.3                         \n",
       "182 91.5                         \n",
       "183   NA                         \n",
       "184 99.6                         \n",
       "185   NA                         \n",
       "186 96.1                         \n",
       "187   NA                         \n",
       "188 91.0                         \n",
       "189   NA                         \n",
       "190 95.1                         \n",
       "191   NA                         \n",
       "192 70.5                         \n",
       "193 93.9                         \n",
       "194   NA                         "
      ]
     },
     "metadata": {},
     "output_type": "display_data"
    }
   ],
   "source": [
    "WHO"
   ]
  },
  {
   "cell_type": "code",
   "execution_count": 74,
   "metadata": {},
   "outputs": [
    {
     "data": {
      "text/html": [
       "10.0509433962264"
      ],
      "text/latex": [
       "10.0509433962264"
      ],
      "text/markdown": [
       "10.0509433962264"
      ],
      "text/plain": [
       "[1] 10.05094"
      ]
     },
     "metadata": {},
     "output_type": "display_data"
    }
   ],
   "source": [
    "min(tapply(WHO$ChildMortality,WHO$Region, mean))"
   ]
  },
  {
   "cell_type": "code",
   "execution_count": 75,
   "metadata": {},
   "outputs": [
    {
     "data": {
      "text/html": [
       "<style>\n",
       ".dl-inline {width: auto; margin:0; padding: 0}\n",
       ".dl-inline>dt, .dl-inline>dd {float: none; width: auto; display: inline-block}\n",
       ".dl-inline>dt::after {content: \":\\0020\"; padding-right: .5ex}\n",
       ".dl-inline>dt:not(:first-of-type) {padding-left: .5ex}\n",
       "</style><dl class=dl-inline><dt>Africa</dt><dd>84.0369565217391</dd><dt>Americas</dt><dd>19.3228571428571</dd><dt>Eastern Mediterranean</dt><dd>40.25</dd><dt>Europe</dt><dd>10.0509433962264</dd><dt>South-East Asia</dt><dd>35.0454545454545</dd><dt>Western Pacific</dt><dd>24.7111111111111</dd></dl>\n"
      ],
      "text/latex": [
       "\\begin{description*}\n",
       "\\item[Africa] 84.0369565217391\n",
       "\\item[Americas] 19.3228571428571\n",
       "\\item[Eastern Mediterranean] 40.25\n",
       "\\item[Europe] 10.0509433962264\n",
       "\\item[South-East Asia] 35.0454545454545\n",
       "\\item[Western Pacific] 24.7111111111111\n",
       "\\end{description*}\n"
      ],
      "text/markdown": [
       "Africa\n",
       ":   84.0369565217391Americas\n",
       ":   19.3228571428571Eastern Mediterranean\n",
       ":   40.25Europe\n",
       ":   10.0509433962264South-East Asia\n",
       ":   35.0454545454545Western Pacific\n",
       ":   24.7111111111111\n",
       "\n"
      ],
      "text/plain": [
       "               Africa              Americas Eastern Mediterranean \n",
       "             84.03696              19.32286              40.25000 \n",
       "               Europe       South-East Asia       Western Pacific \n",
       "             10.05094              35.04545              24.71111 "
      ]
     },
     "metadata": {},
     "output_type": "display_data"
    }
   ],
   "source": [
    "tapply(WHO$ChildMortality,WHO$Region, mean)"
   ]
  },
  {
   "cell_type": "markdown",
   "metadata": {},
   "source": [
    "---"
   ]
  },
  {
   "cell_type": "markdown",
   "metadata": {},
   "source": [
    "copy and paste commands into R script files.\n",
    "\n",
    "```\n",
    "# are comments\n",
    "```\n",
    "\n"
   ]
  },
  {
   "cell_type": "markdown",
   "metadata": {},
   "source": [
    "---"
   ]
  },
  {
   "cell_type": "markdown",
   "metadata": {},
   "source": [
    "# Recitation"
   ]
  },
  {
   "cell_type": "code",
   "execution_count": 79,
   "metadata": {},
   "outputs": [],
   "source": [
    "USDA = read.csv(\"USDA.csv\")"
   ]
  },
  {
   "cell_type": "code",
   "execution_count": 81,
   "metadata": {},
   "outputs": [
    {
     "name": "stdout",
     "output_type": "stream",
     "text": [
      "'data.frame':\t7058 obs. of  16 variables:\n",
      " $ ID          : int  1001 1002 1003 1004 1005 1006 1007 1008 1009 1010 ...\n",
      " $ Description : chr  \"BUTTER,WITH SALT\" \"BUTTER,WHIPPED,WITH SALT\" \"BUTTER OIL,ANHYDROUS\" \"CHEESE,BLUE\" ...\n",
      " $ Calories    : int  717 717 876 353 371 334 300 376 403 387 ...\n",
      " $ Protein     : num  0.85 0.85 0.28 21.4 23.24 ...\n",
      " $ TotalFat    : num  81.1 81.1 99.5 28.7 29.7 ...\n",
      " $ Carbohydrate: num  0.06 0.06 0 2.34 2.79 0.45 0.46 3.06 1.28 4.78 ...\n",
      " $ Sodium      : int  714 827 2 1395 560 629 842 690 621 700 ...\n",
      " $ SaturatedFat: num  51.4 50.5 61.9 18.7 18.8 ...\n",
      " $ Cholesterol : int  215 219 256 75 94 100 72 93 105 103 ...\n",
      " $ Sugar       : num  0.06 0.06 0 0.5 0.51 0.45 0.46 NA 0.52 NA ...\n",
      " $ Calcium     : int  24 24 4 528 674 184 388 673 721 643 ...\n",
      " $ Iron        : num  0.02 0.16 0 0.31 0.43 0.5 0.33 0.64 0.68 0.21 ...\n",
      " $ Potassium   : int  24 26 5 256 136 152 187 93 98 95 ...\n",
      " $ VitaminC    : num  0 0 0 0 0 0 0 0 0 0 ...\n",
      " $ VitaminE    : num  2.32 2.32 2.8 0.25 0.26 0.24 0.21 NA 0.29 NA ...\n",
      " $ VitaminD    : num  1.5 1.5 1.8 0.5 0.5 0.5 0.4 NA 0.6 NA ...\n"
     ]
    }
   ],
   "source": [
    "str(USDA)"
   ]
  },
  {
   "cell_type": "code",
   "execution_count": 82,
   "metadata": {},
   "outputs": [
    {
     "data": {
      "text/plain": [
       "       ID        Description           Calories        Protein     \n",
       " Min.   : 1001   Length:7058        Min.   :  0.0   Min.   : 0.00  \n",
       " 1st Qu.: 8387   Class :character   1st Qu.: 85.0   1st Qu.: 2.29  \n",
       " Median :13294   Mode  :character   Median :181.0   Median : 8.20  \n",
       " Mean   :14260                      Mean   :219.7   Mean   :11.71  \n",
       " 3rd Qu.:18337                      3rd Qu.:331.0   3rd Qu.:20.43  \n",
       " Max.   :93600                      Max.   :902.0   Max.   :88.32  \n",
       "                                    NA's   :1       NA's   :1      \n",
       "    TotalFat       Carbohydrate        Sodium         SaturatedFat   \n",
       " Min.   :  0.00   Min.   :  0.00   Min.   :    0.0   Min.   : 0.000  \n",
       " 1st Qu.:  0.72   1st Qu.:  0.00   1st Qu.:   37.0   1st Qu.: 0.172  \n",
       " Median :  4.37   Median :  7.13   Median :   79.0   Median : 1.256  \n",
       " Mean   : 10.32   Mean   : 20.70   Mean   :  322.1   Mean   : 3.452  \n",
       " 3rd Qu.: 12.70   3rd Qu.: 28.17   3rd Qu.:  386.0   3rd Qu.: 4.028  \n",
       " Max.   :100.00   Max.   :100.00   Max.   :38758.0   Max.   :95.600  \n",
       " NA's   :1        NA's   :1        NA's   :84        NA's   :301     \n",
       "  Cholesterol          Sugar           Calcium             Iron        \n",
       " Min.   :   0.00   Min.   : 0.000   Min.   :   0.00   Min.   :  0.000  \n",
       " 1st Qu.:   0.00   1st Qu.: 0.000   1st Qu.:   9.00   1st Qu.:  0.520  \n",
       " Median :   3.00   Median : 1.395   Median :  19.00   Median :  1.330  \n",
       " Mean   :  41.55   Mean   : 8.257   Mean   :  73.53   Mean   :  2.828  \n",
       " 3rd Qu.:  69.00   3rd Qu.: 7.875   3rd Qu.:  56.00   3rd Qu.:  2.620  \n",
       " Max.   :3100.00   Max.   :99.800   Max.   :7364.00   Max.   :123.600  \n",
       " NA's   :288       NA's   :1910     NA's   :136       NA's   :123      \n",
       "   Potassium          VitaminC           VitaminE          VitaminD       \n",
       " Min.   :    0.0   Min.   :   0.000   Min.   :  0.000   Min.   :  0.0000  \n",
       " 1st Qu.:  135.0   1st Qu.:   0.000   1st Qu.:  0.120   1st Qu.:  0.0000  \n",
       " Median :  250.0   Median :   0.000   Median :  0.270   Median :  0.0000  \n",
       " Mean   :  301.4   Mean   :   9.436   Mean   :  1.488   Mean   :  0.5769  \n",
       " 3rd Qu.:  348.0   3rd Qu.:   3.100   3rd Qu.:  0.710   3rd Qu.:  0.1000  \n",
       " Max.   :16500.0   Max.   :2400.000   Max.   :149.400   Max.   :250.0000  \n",
       " NA's   :409       NA's   :332        NA's   :2720      NA's   :2834      "
      ]
     },
     "metadata": {},
     "output_type": "display_data"
    }
   ],
   "source": [
    "summary(USDA)"
   ]
  },
  {
   "cell_type": "code",
   "execution_count": 84,
   "metadata": {},
   "outputs": [
    {
     "data": {
      "text/html": [
       "<style>\n",
       ".list-inline {list-style: none; margin:0; padding: 0}\n",
       ".list-inline>li {display: inline-block}\n",
       ".list-inline>li:not(:last-child)::after {content: \"\\00b7\"; padding: 0 .5ex}\n",
       "</style>\n",
       "<ol class=list-inline><li>714</li><li>827</li><li>2</li><li>1395</li><li>560</li><li>629</li><li>842</li><li>690</li><li>621</li><li>700</li><li>604</li><li>364</li><li>344</li><li>330</li><li>330</li><li>406</li><li>321</li><li>965</li><li>1116</li><li>800</li><li>600</li><li>819</li><li>336</li><li>800</li><li>536</li><li>627</li><li>415</li><li>619</li><li>652</li><li>628</li><li>334</li><li>1529</li><li>1602</li><li>534</li><li>876</li><li>84</li><li>125</li><li>1200</li><li>1809</li><li>192</li><li>753</li><li>1671</li><li>1428</li><li>1370</li><li>966</li><li>1284</li><li>1552</li><li>1625</li><li>41</li><li>40</li><li>34</li><li>38</li><li>8</li><li>89</li><li>80</li><li>54</li><li>48</li><li>57</li><li>57</li><li>79</li><li>79</li><li>181</li><li>122</li><li>66</li><li>62</li><li>25</li><li>102</li><li>78</li><li>43</li><li>49</li><li>47</li><li>52</li><li>59</li><li>44</li><li>52</li><li>58</li><li>42</li><li>53</li><li>59</li><li>105</li><li>3</li><li>371</li><li>535</li><li>549</li><li>2280</li><li>517</li><li>127</li><li>106</li><li>115</li><li>60</li><li>66</li><li>61</li><li>44</li><li>50</li><li>17</li><li>52</li><li>44</li><li>111</li><li>95</li><li>48</li><li>968</li><li>54</li><li>1079</li><li>46</li><li>70</li><li>77</li><li>66</li><li>53</li><li>58</li><li>65</li><li>142</li><li>166</li><li>48</li><li>67</li><li>67</li><li>207</li><li>124</li><li>155</li><li>297</li><li>145</li><li>523</li><li>548</li><li>1156</li><li>1238</li><li>135</li><li>146</li><li>138</li><li>141</li><li>151</li><li>800</li><li>11</li><li>1696</li><li>42</li><li>59</li><li>106</li><li>535</li><li>549</li><li>346</li><li>515</li><li>368</li><li>3780</li><li>685</li><li>132</li><li>493</li><li>1131</li><li>655</li><li>617</li><li>612</li><li>21</li><li>133</li><li>158</li><li>1280</li><li>47</li><li>44</li><li>70</li><li>71</li><li>141</li><li>725</li><li>59</li><li>1150</li><li>702</li><li>135</li><li>1638</li><li>1705</li><li>1298</li><li>1499</li><li>1586</li><li>59</li><li>72</li><li>52</li><li>45</li><li>55</li><li>45</li><li>100</li><li>72</li><li>66</li><li>58</li><li>1529</li><li>80</li><li>196</li><li>876</li><li>776</li><li>576</li><li>43</li><li>371</li><li>106</li><li>1587</li><li>53</li><li>58</li><li>58</li><li>58</li><li>66</li><li>59</li><li>135</li><li>329</li><li>250</li><li>129</li><li>199</li><li>1808</li><li>751</li><li>⋯</li><li>229</li><li>1103</li><li>193</li><li>1074</li><li>60</li><li>213</li><li>4</li><li>581</li><li>939</li><li>564</li><li>897</li><li>932</li><li>1180</li><li>838</li><li>878</li><li>773</li><li>1041</li><li>140</li><li>2</li><li>266</li><li>231</li><li>81</li><li>63</li><li>63</li><li>1257</li><li>105</li><li>689</li><li>814</li><li>788</li><li>168</li><li>1745</li><li>71</li><li>1528</li><li>45</li><li>1600</li><li>0</li><li>220</li><li>500</li><li>387</li><li>444</li><li>957</li><li>542</li><li>1587</li><li>3</li><li>314</li><li>1020</li><li>271</li><li>2</li><li>152</li><li>983</li><li>634</li><li>0</li><li>52</li><li>203</li><li>389</li><li>600</li><li>743</li><li>28</li><li>607</li><li>1209</li><li>710</li><li>867</li><li>208</li><li>939</li><li>1148</li><li>21</li><li>0</li><li>156</li><li>33</li><li>7</li><li>0</li><li>112</li><li>7</li><li>101</li><li>780</li><li>12</li><li>251</li><li>805</li><li>725</li><li>4</li><li>2</li><li>709</li><li>490</li><li>471</li><li>711</li><li>550</li><li>490</li><li>630</li><li>400</li><li>550</li><li>789</li><li>277</li><li>717</li><li>1674</li><li>626</li><li>7</li><li>428</li><li>385</li><li>1770</li><li>1200</li><li>1120</li><li>12</li><li>11</li><li>213</li><li>50</li><li>509</li><li>717</li><li>58</li><li>106</li><li>95</li><li>403</li><li>470</li><li>1430</li><li>505</li><li>1345</li><li>52</li><li>43</li><li>162</li><li>57</li><li>685</li><li>20</li><li>33</li><li>5</li><li>26</li><li>969</li><li>969</li><li>969</li><li>837</li><li>905</li><li>63</li><li>500</li><li>14</li><li>8</li><li>308</li><li>13</li><li>110</li><li>15</li><li>70</li><li>996</li><li>996</li><li>91</li><li>1030</li><li>1430</li><li>2</li><li>682</li><li>29</li><li>14</li><li>996</li><li>996</li><li>14</li><li>3</li><li>403</li><li>7</li><li>819</li><li>5</li><li>14</li><li>2962</li><li>400</li><li>707</li><li>15</li><li>1</li><li>42</li><li>35</li><li>2</li><li>5</li><li>380</li><li>9690</li><li>92</li><li>311</li><li>12</li><li>10</li><li>95</li><li>57</li><li>55</li><li>856</li><li>499</li><li>490</li><li>35</li><li>260</li><li>167</li><li>16</li><li>486</li><li>711</li><li>0</li><li>2</li><li>1297</li><li>1435</li><li>2838</li><li>2</li><li>12</li><li>0</li><li>3326</li><li>1765</li><li>4250</li><li>29</li><li>58</li><li>4450</li><li>667</li><li>70</li><li>68</li></ol>\n"
      ],
      "text/latex": [
       "\\begin{enumerate*}\n",
       "\\item 714\n",
       "\\item 827\n",
       "\\item 2\n",
       "\\item 1395\n",
       "\\item 560\n",
       "\\item 629\n",
       "\\item 842\n",
       "\\item 690\n",
       "\\item 621\n",
       "\\item 700\n",
       "\\item 604\n",
       "\\item 364\n",
       "\\item 344\n",
       "\\item 330\n",
       "\\item 330\n",
       "\\item 406\n",
       "\\item 321\n",
       "\\item 965\n",
       "\\item 1116\n",
       "\\item 800\n",
       "\\item 600\n",
       "\\item 819\n",
       "\\item 336\n",
       "\\item 800\n",
       "\\item 536\n",
       "\\item 627\n",
       "\\item 415\n",
       "\\item 619\n",
       "\\item 652\n",
       "\\item 628\n",
       "\\item 334\n",
       "\\item 1529\n",
       "\\item 1602\n",
       "\\item 534\n",
       "\\item 876\n",
       "\\item 84\n",
       "\\item 125\n",
       "\\item 1200\n",
       "\\item 1809\n",
       "\\item 192\n",
       "\\item 753\n",
       "\\item 1671\n",
       "\\item 1428\n",
       "\\item 1370\n",
       "\\item 966\n",
       "\\item 1284\n",
       "\\item 1552\n",
       "\\item 1625\n",
       "\\item 41\n",
       "\\item 40\n",
       "\\item 34\n",
       "\\item 38\n",
       "\\item 8\n",
       "\\item 89\n",
       "\\item 80\n",
       "\\item 54\n",
       "\\item 48\n",
       "\\item 57\n",
       "\\item 57\n",
       "\\item 79\n",
       "\\item 79\n",
       "\\item 181\n",
       "\\item 122\n",
       "\\item 66\n",
       "\\item 62\n",
       "\\item 25\n",
       "\\item 102\n",
       "\\item 78\n",
       "\\item 43\n",
       "\\item 49\n",
       "\\item 47\n",
       "\\item 52\n",
       "\\item 59\n",
       "\\item 44\n",
       "\\item 52\n",
       "\\item 58\n",
       "\\item 42\n",
       "\\item 53\n",
       "\\item 59\n",
       "\\item 105\n",
       "\\item 3\n",
       "\\item 371\n",
       "\\item 535\n",
       "\\item 549\n",
       "\\item 2280\n",
       "\\item 517\n",
       "\\item 127\n",
       "\\item 106\n",
       "\\item 115\n",
       "\\item 60\n",
       "\\item 66\n",
       "\\item 61\n",
       "\\item 44\n",
       "\\item 50\n",
       "\\item 17\n",
       "\\item 52\n",
       "\\item 44\n",
       "\\item 111\n",
       "\\item 95\n",
       "\\item 48\n",
       "\\item 968\n",
       "\\item 54\n",
       "\\item 1079\n",
       "\\item 46\n",
       "\\item 70\n",
       "\\item 77\n",
       "\\item 66\n",
       "\\item 53\n",
       "\\item 58\n",
       "\\item 65\n",
       "\\item 142\n",
       "\\item 166\n",
       "\\item 48\n",
       "\\item 67\n",
       "\\item 67\n",
       "\\item 207\n",
       "\\item 124\n",
       "\\item 155\n",
       "\\item 297\n",
       "\\item 145\n",
       "\\item 523\n",
       "\\item 548\n",
       "\\item 1156\n",
       "\\item 1238\n",
       "\\item 135\n",
       "\\item 146\n",
       "\\item 138\n",
       "\\item 141\n",
       "\\item 151\n",
       "\\item 800\n",
       "\\item 11\n",
       "\\item 1696\n",
       "\\item 42\n",
       "\\item 59\n",
       "\\item 106\n",
       "\\item 535\n",
       "\\item 549\n",
       "\\item 346\n",
       "\\item 515\n",
       "\\item 368\n",
       "\\item 3780\n",
       "\\item 685\n",
       "\\item 132\n",
       "\\item 493\n",
       "\\item 1131\n",
       "\\item 655\n",
       "\\item 617\n",
       "\\item 612\n",
       "\\item 21\n",
       "\\item 133\n",
       "\\item 158\n",
       "\\item 1280\n",
       "\\item 47\n",
       "\\item 44\n",
       "\\item 70\n",
       "\\item 71\n",
       "\\item 141\n",
       "\\item 725\n",
       "\\item 59\n",
       "\\item 1150\n",
       "\\item 702\n",
       "\\item 135\n",
       "\\item 1638\n",
       "\\item 1705\n",
       "\\item 1298\n",
       "\\item 1499\n",
       "\\item 1586\n",
       "\\item 59\n",
       "\\item 72\n",
       "\\item 52\n",
       "\\item 45\n",
       "\\item 55\n",
       "\\item 45\n",
       "\\item 100\n",
       "\\item 72\n",
       "\\item 66\n",
       "\\item 58\n",
       "\\item 1529\n",
       "\\item 80\n",
       "\\item 196\n",
       "\\item 876\n",
       "\\item 776\n",
       "\\item 576\n",
       "\\item 43\n",
       "\\item 371\n",
       "\\item 106\n",
       "\\item 1587\n",
       "\\item 53\n",
       "\\item 58\n",
       "\\item 58\n",
       "\\item 58\n",
       "\\item 66\n",
       "\\item 59\n",
       "\\item 135\n",
       "\\item 329\n",
       "\\item 250\n",
       "\\item 129\n",
       "\\item 199\n",
       "\\item 1808\n",
       "\\item 751\n",
       "\\item ⋯\n",
       "\\item 229\n",
       "\\item 1103\n",
       "\\item 193\n",
       "\\item 1074\n",
       "\\item 60\n",
       "\\item 213\n",
       "\\item 4\n",
       "\\item 581\n",
       "\\item 939\n",
       "\\item 564\n",
       "\\item 897\n",
       "\\item 932\n",
       "\\item 1180\n",
       "\\item 838\n",
       "\\item 878\n",
       "\\item 773\n",
       "\\item 1041\n",
       "\\item 140\n",
       "\\item 2\n",
       "\\item 266\n",
       "\\item 231\n",
       "\\item 81\n",
       "\\item 63\n",
       "\\item 63\n",
       "\\item 1257\n",
       "\\item 105\n",
       "\\item 689\n",
       "\\item 814\n",
       "\\item 788\n",
       "\\item 168\n",
       "\\item 1745\n",
       "\\item 71\n",
       "\\item 1528\n",
       "\\item 45\n",
       "\\item 1600\n",
       "\\item 0\n",
       "\\item 220\n",
       "\\item 500\n",
       "\\item 387\n",
       "\\item 444\n",
       "\\item 957\n",
       "\\item 542\n",
       "\\item 1587\n",
       "\\item 3\n",
       "\\item 314\n",
       "\\item 1020\n",
       "\\item 271\n",
       "\\item 2\n",
       "\\item 152\n",
       "\\item 983\n",
       "\\item 634\n",
       "\\item 0\n",
       "\\item 52\n",
       "\\item 203\n",
       "\\item 389\n",
       "\\item 600\n",
       "\\item 743\n",
       "\\item 28\n",
       "\\item 607\n",
       "\\item 1209\n",
       "\\item 710\n",
       "\\item 867\n",
       "\\item 208\n",
       "\\item 939\n",
       "\\item 1148\n",
       "\\item 21\n",
       "\\item 0\n",
       "\\item 156\n",
       "\\item 33\n",
       "\\item 7\n",
       "\\item 0\n",
       "\\item 112\n",
       "\\item 7\n",
       "\\item 101\n",
       "\\item 780\n",
       "\\item 12\n",
       "\\item 251\n",
       "\\item 805\n",
       "\\item 725\n",
       "\\item 4\n",
       "\\item 2\n",
       "\\item 709\n",
       "\\item 490\n",
       "\\item 471\n",
       "\\item 711\n",
       "\\item 550\n",
       "\\item 490\n",
       "\\item 630\n",
       "\\item 400\n",
       "\\item 550\n",
       "\\item 789\n",
       "\\item 277\n",
       "\\item 717\n",
       "\\item 1674\n",
       "\\item 626\n",
       "\\item 7\n",
       "\\item 428\n",
       "\\item 385\n",
       "\\item 1770\n",
       "\\item 1200\n",
       "\\item 1120\n",
       "\\item 12\n",
       "\\item 11\n",
       "\\item 213\n",
       "\\item 50\n",
       "\\item 509\n",
       "\\item 717\n",
       "\\item 58\n",
       "\\item 106\n",
       "\\item 95\n",
       "\\item 403\n",
       "\\item 470\n",
       "\\item 1430\n",
       "\\item 505\n",
       "\\item 1345\n",
       "\\item 52\n",
       "\\item 43\n",
       "\\item 162\n",
       "\\item 57\n",
       "\\item 685\n",
       "\\item 20\n",
       "\\item 33\n",
       "\\item 5\n",
       "\\item 26\n",
       "\\item 969\n",
       "\\item 969\n",
       "\\item 969\n",
       "\\item 837\n",
       "\\item 905\n",
       "\\item 63\n",
       "\\item 500\n",
       "\\item 14\n",
       "\\item 8\n",
       "\\item 308\n",
       "\\item 13\n",
       "\\item 110\n",
       "\\item 15\n",
       "\\item 70\n",
       "\\item 996\n",
       "\\item 996\n",
       "\\item 91\n",
       "\\item 1030\n",
       "\\item 1430\n",
       "\\item 2\n",
       "\\item 682\n",
       "\\item 29\n",
       "\\item 14\n",
       "\\item 996\n",
       "\\item 996\n",
       "\\item 14\n",
       "\\item 3\n",
       "\\item 403\n",
       "\\item 7\n",
       "\\item 819\n",
       "\\item 5\n",
       "\\item 14\n",
       "\\item 2962\n",
       "\\item 400\n",
       "\\item 707\n",
       "\\item 15\n",
       "\\item 1\n",
       "\\item 42\n",
       "\\item 35\n",
       "\\item 2\n",
       "\\item 5\n",
       "\\item 380\n",
       "\\item 9690\n",
       "\\item 92\n",
       "\\item 311\n",
       "\\item 12\n",
       "\\item 10\n",
       "\\item 95\n",
       "\\item 57\n",
       "\\item 55\n",
       "\\item 856\n",
       "\\item 499\n",
       "\\item 490\n",
       "\\item 35\n",
       "\\item 260\n",
       "\\item 167\n",
       "\\item 16\n",
       "\\item 486\n",
       "\\item 711\n",
       "\\item 0\n",
       "\\item 2\n",
       "\\item 1297\n",
       "\\item 1435\n",
       "\\item 2838\n",
       "\\item 2\n",
       "\\item 12\n",
       "\\item 0\n",
       "\\item 3326\n",
       "\\item 1765\n",
       "\\item 4250\n",
       "\\item 29\n",
       "\\item 58\n",
       "\\item 4450\n",
       "\\item 667\n",
       "\\item 70\n",
       "\\item 68\n",
       "\\end{enumerate*}\n"
      ],
      "text/markdown": [
       "1. 714\n",
       "2. 827\n",
       "3. 2\n",
       "4. 1395\n",
       "5. 560\n",
       "6. 629\n",
       "7. 842\n",
       "8. 690\n",
       "9. 621\n",
       "10. 700\n",
       "11. 604\n",
       "12. 364\n",
       "13. 344\n",
       "14. 330\n",
       "15. 330\n",
       "16. 406\n",
       "17. 321\n",
       "18. 965\n",
       "19. 1116\n",
       "20. 800\n",
       "21. 600\n",
       "22. 819\n",
       "23. 336\n",
       "24. 800\n",
       "25. 536\n",
       "26. 627\n",
       "27. 415\n",
       "28. 619\n",
       "29. 652\n",
       "30. 628\n",
       "31. 334\n",
       "32. 1529\n",
       "33. 1602\n",
       "34. 534\n",
       "35. 876\n",
       "36. 84\n",
       "37. 125\n",
       "38. 1200\n",
       "39. 1809\n",
       "40. 192\n",
       "41. 753\n",
       "42. 1671\n",
       "43. 1428\n",
       "44. 1370\n",
       "45. 966\n",
       "46. 1284\n",
       "47. 1552\n",
       "48. 1625\n",
       "49. 41\n",
       "50. 40\n",
       "51. 34\n",
       "52. 38\n",
       "53. 8\n",
       "54. 89\n",
       "55. 80\n",
       "56. 54\n",
       "57. 48\n",
       "58. 57\n",
       "59. 57\n",
       "60. 79\n",
       "61. 79\n",
       "62. 181\n",
       "63. 122\n",
       "64. 66\n",
       "65. 62\n",
       "66. 25\n",
       "67. 102\n",
       "68. 78\n",
       "69. 43\n",
       "70. 49\n",
       "71. 47\n",
       "72. 52\n",
       "73. 59\n",
       "74. 44\n",
       "75. 52\n",
       "76. 58\n",
       "77. 42\n",
       "78. 53\n",
       "79. 59\n",
       "80. 105\n",
       "81. 3\n",
       "82. 371\n",
       "83. 535\n",
       "84. 549\n",
       "85. 2280\n",
       "86. 517\n",
       "87. 127\n",
       "88. 106\n",
       "89. 115\n",
       "90. 60\n",
       "91. 66\n",
       "92. 61\n",
       "93. 44\n",
       "94. 50\n",
       "95. 17\n",
       "96. 52\n",
       "97. 44\n",
       "98. 111\n",
       "99. 95\n",
       "100. 48\n",
       "101. 968\n",
       "102. 54\n",
       "103. 1079\n",
       "104. 46\n",
       "105. 70\n",
       "106. 77\n",
       "107. 66\n",
       "108. 53\n",
       "109. 58\n",
       "110. 65\n",
       "111. 142\n",
       "112. 166\n",
       "113. 48\n",
       "114. 67\n",
       "115. 67\n",
       "116. 207\n",
       "117. 124\n",
       "118. 155\n",
       "119. 297\n",
       "120. 145\n",
       "121. 523\n",
       "122. 548\n",
       "123. 1156\n",
       "124. 1238\n",
       "125. 135\n",
       "126. 146\n",
       "127. 138\n",
       "128. 141\n",
       "129. 151\n",
       "130. 800\n",
       "131. 11\n",
       "132. 1696\n",
       "133. 42\n",
       "134. 59\n",
       "135. 106\n",
       "136. 535\n",
       "137. 549\n",
       "138. 346\n",
       "139. 515\n",
       "140. 368\n",
       "141. 3780\n",
       "142. 685\n",
       "143. 132\n",
       "144. 493\n",
       "145. 1131\n",
       "146. 655\n",
       "147. 617\n",
       "148. 612\n",
       "149. 21\n",
       "150. 133\n",
       "151. 158\n",
       "152. 1280\n",
       "153. 47\n",
       "154. 44\n",
       "155. 70\n",
       "156. 71\n",
       "157. 141\n",
       "158. 725\n",
       "159. 59\n",
       "160. 1150\n",
       "161. 702\n",
       "162. 135\n",
       "163. 1638\n",
       "164. 1705\n",
       "165. 1298\n",
       "166. 1499\n",
       "167. 1586\n",
       "168. 59\n",
       "169. 72\n",
       "170. 52\n",
       "171. 45\n",
       "172. 55\n",
       "173. 45\n",
       "174. 100\n",
       "175. 72\n",
       "176. 66\n",
       "177. 58\n",
       "178. 1529\n",
       "179. 80\n",
       "180. 196\n",
       "181. 876\n",
       "182. 776\n",
       "183. 576\n",
       "184. 43\n",
       "185. 371\n",
       "186. 106\n",
       "187. 1587\n",
       "188. 53\n",
       "189. 58\n",
       "190. 58\n",
       "191. 58\n",
       "192. 66\n",
       "193. 59\n",
       "194. 135\n",
       "195. 329\n",
       "196. 250\n",
       "197. 129\n",
       "198. 199\n",
       "199. 1808\n",
       "200. 751\n",
       "201. ⋯\n",
       "202. 229\n",
       "203. 1103\n",
       "204. 193\n",
       "205. 1074\n",
       "206. 60\n",
       "207. 213\n",
       "208. 4\n",
       "209. 581\n",
       "210. 939\n",
       "211. 564\n",
       "212. 897\n",
       "213. 932\n",
       "214. 1180\n",
       "215. 838\n",
       "216. 878\n",
       "217. 773\n",
       "218. 1041\n",
       "219. 140\n",
       "220. 2\n",
       "221. 266\n",
       "222. 231\n",
       "223. 81\n",
       "224. 63\n",
       "225. 63\n",
       "226. 1257\n",
       "227. 105\n",
       "228. 689\n",
       "229. 814\n",
       "230. 788\n",
       "231. 168\n",
       "232. 1745\n",
       "233. 71\n",
       "234. 1528\n",
       "235. 45\n",
       "236. 1600\n",
       "237. 0\n",
       "238. 220\n",
       "239. 500\n",
       "240. 387\n",
       "241. 444\n",
       "242. 957\n",
       "243. 542\n",
       "244. 1587\n",
       "245. 3\n",
       "246. 314\n",
       "247. 1020\n",
       "248. 271\n",
       "249. 2\n",
       "250. 152\n",
       "251. 983\n",
       "252. 634\n",
       "253. 0\n",
       "254. 52\n",
       "255. 203\n",
       "256. 389\n",
       "257. 600\n",
       "258. 743\n",
       "259. 28\n",
       "260. 607\n",
       "261. 1209\n",
       "262. 710\n",
       "263. 867\n",
       "264. 208\n",
       "265. 939\n",
       "266. 1148\n",
       "267. 21\n",
       "268. 0\n",
       "269. 156\n",
       "270. 33\n",
       "271. 7\n",
       "272. 0\n",
       "273. 112\n",
       "274. 7\n",
       "275. 101\n",
       "276. 780\n",
       "277. 12\n",
       "278. 251\n",
       "279. 805\n",
       "280. 725\n",
       "281. 4\n",
       "282. 2\n",
       "283. 709\n",
       "284. 490\n",
       "285. 471\n",
       "286. 711\n",
       "287. 550\n",
       "288. 490\n",
       "289. 630\n",
       "290. 400\n",
       "291. 550\n",
       "292. 789\n",
       "293. 277\n",
       "294. 717\n",
       "295. 1674\n",
       "296. 626\n",
       "297. 7\n",
       "298. 428\n",
       "299. 385\n",
       "300. 1770\n",
       "301. 1200\n",
       "302. 1120\n",
       "303. 12\n",
       "304. 11\n",
       "305. 213\n",
       "306. 50\n",
       "307. 509\n",
       "308. 717\n",
       "309. 58\n",
       "310. 106\n",
       "311. 95\n",
       "312. 403\n",
       "313. 470\n",
       "314. 1430\n",
       "315. 505\n",
       "316. 1345\n",
       "317. 52\n",
       "318. 43\n",
       "319. 162\n",
       "320. 57\n",
       "321. 685\n",
       "322. 20\n",
       "323. 33\n",
       "324. 5\n",
       "325. 26\n",
       "326. 969\n",
       "327. 969\n",
       "328. 969\n",
       "329. 837\n",
       "330. 905\n",
       "331. 63\n",
       "332. 500\n",
       "333. 14\n",
       "334. 8\n",
       "335. 308\n",
       "336. 13\n",
       "337. 110\n",
       "338. 15\n",
       "339. 70\n",
       "340. 996\n",
       "341. 996\n",
       "342. 91\n",
       "343. 1030\n",
       "344. 1430\n",
       "345. 2\n",
       "346. 682\n",
       "347. 29\n",
       "348. 14\n",
       "349. 996\n",
       "350. 996\n",
       "351. 14\n",
       "352. 3\n",
       "353. 403\n",
       "354. 7\n",
       "355. 819\n",
       "356. 5\n",
       "357. 14\n",
       "358. 2962\n",
       "359. 400\n",
       "360. 707\n",
       "361. 15\n",
       "362. 1\n",
       "363. 42\n",
       "364. 35\n",
       "365. 2\n",
       "366. 5\n",
       "367. 380\n",
       "368. 9690\n",
       "369. 92\n",
       "370. 311\n",
       "371. 12\n",
       "372. 10\n",
       "373. 95\n",
       "374. 57\n",
       "375. 55\n",
       "376. 856\n",
       "377. 499\n",
       "378. 490\n",
       "379. 35\n",
       "380. 260\n",
       "381. 167\n",
       "382. 16\n",
       "383. 486\n",
       "384. 711\n",
       "385. 0\n",
       "386. 2\n",
       "387. 1297\n",
       "388. 1435\n",
       "389. 2838\n",
       "390. 2\n",
       "391. 12\n",
       "392. 0\n",
       "393. 3326\n",
       "394. 1765\n",
       "395. 4250\n",
       "396. 29\n",
       "397. 58\n",
       "398. 4450\n",
       "399. 667\n",
       "400. 70\n",
       "401. 68\n",
       "\n",
       "\n"
      ],
      "text/plain": [
       "   [1]   714   827     2  1395   560   629   842   690   621   700   604   364\n",
       "  [13]   344   330   330   406   321   965  1116   800   600   819   336   800\n",
       "  [25]   536   627   415   619   652   628   334  1529  1602   534   876    84\n",
       "  [37]   125  1200  1809   192   753  1671  1428  1370   966  1284  1552  1625\n",
       "  [49]    41    40    34    38     8    89    80    54    48    57    57    79\n",
       "  [61]    79   181   122    66    62    25   102    78    43    49    47    52\n",
       "  [73]    59    44    52    58    42    53    59   105     3   371   535   549\n",
       "  [85]  2280   517   127   106   115    60    66    61    44    50    17    52\n",
       "  [97]    44   111    95    48   968    54  1079    46    70    77    66    53\n",
       " [109]    58    65   142   166    48    67    67   207   124   155   297   145\n",
       " [121]   523   548  1156  1238   135   146   138   141   151   800    11  1696\n",
       " [133]    42    59   106   535   549   346   515   368  3780   685   132   493\n",
       " [145]  1131   655   617   612    21   133   158  1280    47    44    70    71\n",
       " [157]   141   725    59  1150   702   135  1638  1705  1298  1499  1586    59\n",
       " [169]    72    52    45    55    45   100    72    66    58  1529    80   196\n",
       " [181]   876   776   576    43   371   106  1587    53    58    58    58    66\n",
       " [193]    59   135   329   250   129   199  1808   751   704   105    66    81\n",
       " [205]    61    68   129   162    94   146   164   110    92    92   696  1272\n",
       " [217]  1671  1284  3663    77    16    76    23    17    18   160    83  1640\n",
       " [229]    10   277   211    35   168    52    20   208    88    67    60    27\n",
       " [241]    80    77    13    16    73    25    68   452    20    30     5    26\n",
       " [253]    27    52    50   148    11    24    62    55    38     4    61  1135\n",
       " [265] 38758     5     9     9     4     3     2  2964   314    26    31    30\n",
       " [277]   344     8    23  8068    14   227   260    52   173    36    36    25\n",
       " [289]     0     0   633   750   788  1133  1000   863   711   838  1074   868\n",
       " [301]   955   568   568   497   504   353  1000     0     0     0     0     0\n",
       " [313]     0     0     2     0     0     0   943  1018   836   589   658   734\n",
       " [325]     1     0    30    30    30    30   658   853     0     0     0     0\n",
       " [337]     0     0     0     0     0     0     0     0     0     0     0     0\n",
       " [349]     0     0     0  1041     0     0     0     0     0     0     0     0\n",
       " [361]     0     0     0     0     0     0     0     0     0     0     0     0\n",
       " [373]     0     0     0     0   633     0     0     0     0     0     0     0\n",
       " [385]     0     0     0   786   450    36   545   150   751   657   785   615\n",
       " [397]   700     4     2    28     2   833   590   630   654   700   646   580\n",
       " [409]   733     0   788  1129   897  1094  1120   673     0     0     0     0\n",
       " [421]     0     0     0     0     0     0     0     0   864     6     6     6\n",
       " [433]     5     6     7     6     6     0   879     0     0   886     0     0\n",
       " [445]   646   580   755   829   729     0    59   536   714     0   900   670\n",
       " [457]  1102   848   589   751   657   785   785   785     2     2     0     0\n",
       " [469]     0     0     0   650   788  1265  1004     6    70   284    86    79\n",
       " [481]    66    70   292    84    82    67    77    91    86    70    63   581\n",
       " [493]    53    65    56    77   113    67    69    56    74    48    71    76\n",
       " [505]    65   287    77    75    63    73   295    89    87    70    68    81\n",
       " [517]    77    65    85    97    93    74    32    64   317    90    87    64\n",
       " [529]    82    99    96    67    63   275    76    71    62   116    79    74\n",
       " [541]    63   104   269    89   114    76   112    96   118    80    84   279\n",
       " [553]    88    98    73    96    96    99    78    64   276    82    52    81\n",
       " [565]    99    64    77   288    88    86    71    89    95    87    75    73\n",
       " [577]   320    77    82    67    81    91    92    73    69    71    68    73\n",
       " [589]    75    75    77    60    51    51    95    95    71    67    71    73\n",
       " [601]    79    78    77    56    53    58   101    95    47    50    45    49\n",
       " [613]    77    55    63    59    74    65   140    56    57    73    70    87\n",
       " [625]    76   140    67    69    40    37    33    45    53    51    55    54\n",
       " [637]    51    55    67    67    65    68    70    70    36    53    87    64\n",
       " [649]    72    67    94    90    71    56    93    56    59    63    71    76\n",
       " [661]    63    64    77    79    66    73    59    63    74    77    55    61\n",
       " [673]    61    65    58    66    61    67    35    61    50    57    66    76\n",
       " [685]    52    56    69    79    60    70    65    73    48    53    49    52\n",
       " [697]    69    80    71    81    56    73    65    78    63    63    61    64\n",
       " [709]    66    67    32    44    55    58    67    72    60    60    74    75\n",
       " [721]    61    69    55    58    70    73    51    56    70    72    68    72\n",
       " [733]    73    74    40    60    63    67    75    80    67    68    80    82\n",
       " [745]    71    77    63    67    77    80    60    66   503   697   467   850\n",
       " [757]   554   567   397   437   678   680   838    40    51    40    48    58\n",
       " [769]    78    61    64    68    63   482   615   837   323    84   105   110\n",
       " [781]   108   559   557   424   518   532   457   446   451    60    75    67\n",
       " [793]   271   251   256   661   341   417   381   337   725   584   347   411\n",
       " [805]   345   610   799   632   909    56    65   120    53   150    90   110\n",
       " [817]   102   118   100   150    58    72    80    75    72    83    76    73\n",
       " [829]    90    70    72    83    81    72    86    67    80    81    77    92\n",
       " [841]    51    61    59    69    90    91    54    85    81   117    77    75\n",
       " [853]    51    85   111    76   661   970   706   709   831   400   372   653\n",
       " [865]   516   693   618   621   661   354   702   693   306   706   370   484\n",
       " [877]   347   733   788   417   457   325   516   653   506  1558   303   532\n",
       " [889]   524   288   516   603   573   702   773   732   637   381   740   680\n",
       " [901]   301   630   778   484   381   716   685   621   690   816   731   706\n",
       " [913]   635   391   650   739   359   672   338   706   515 26000 24000  8408\n",
       " [925] 23875 24000   381   706   694  8031   653  6722  4957  3712   460  3833\n",
       " [937]    50 11588   560   672  4843   424  4152   570  6580  4186  5356   577\n",
       " [949]  4392  5730  3643  1164  1145   590   651   706   709   661   847   538\n",
       " [961]   185   685   377   600   328   354   373  2643   633   198   143   156\n",
       " [973]  1615  2733   215   430  7851   501   383   231  1778   187   166   196\n",
       " [985]   366   331   420   416   565   272   406   524   387   524   387   362\n",
       " [997]   385   387   387   362   354   369   369   369   408   384   369   362\n",
       "[1009]   273   384   376   376   288   354   369   288   336   408   367   363\n",
       "[1021]   335   322   318   405   347   425   352   355   359   327   230   354\n",
       "[1033]   184   347   484   690   669   195   181   195   508   322   458   525\n",
       "[1045]   525   475   483   475   433   458   508   424   525   407   542   450\n",
       "[1057]   605   516   702   645   702   387   645   484   694   702   629   381\n",
       "[1069]   444   381   381   611   637   516   524   381   442   210   381   680\n",
       "[1081]   706   516   698   381   516   516   722   778   694   710   381   516\n",
       "[1093]   706   377   698   664   659   322   343   367   376   363   376   363\n",
       "[1105]   363   359   351   347   325   347   355   347   359   402   487   363\n",
       "[1117]   349   167   437   167   381   254   388   305   306   318   322   347\n",
       "[1129]   391   290   349   380   355   238   331   392   388   327   226   339\n",
       "[1141]   254   353   264   327   346   327   363   359   327   331   254   322\n",
       "[1153]   365   318   397   423   380   314   407   336   398   385   238   355\n",
       "[1165]   415   391   339   363   318   424   367   376   319   359   334   376\n",
       "[1177]   338    47   349   253   350   382   260   401   326    46   454   388\n",
       "[1189]    20  1325   403   346   475   355   356   132   312   327   306   322\n",
       "[1201]   359   335   322   331   196   196   355   196   196   196   196   229\n",
       "[1213]   196   196   335   196   196   167   196   196   196   196   196   194\n",
       "[1225]   196   386   196   327   196   196   181   196   424   190   196   196\n",
       "[1237]  2036   661   292   292   321   292   292   308   282   292   305   285\n",
       "[1249]   719   844   867   625   656   688   781   813   719   234   400   167\n",
       "[1261]  3202   299   339   364   361   343   736   707   732   788   729   555\n",
       "[1273]   192   376   301   828   419   369   357    22  5053  5203  4090  2590\n",
       "[1285]    25    25   318    33    10   173   194    20   612    30   980  1338\n",
       "[1297]    20    35   133    30    18    25 17152   435  1067  2002  2071   409\n",
       "[1309]   587   325   331   331   325   325   331   325   362   376   390   458\n",
       "[1321]   559   441  1334   732  1240  1297   680   497  1080   960  1184  1071\n",
       "[1333]   846  1160  1112  1082  1059   722  1235   953  1055  1037  1120   844\n",
       "[1345]  1078  1365  1203  1304  1245   830  1320   731   904   930  1374  1225\n",
       "[1357]   860  1329  1117   820  1289   772  1293  1246  1484   981   386   697\n",
       "[1369]   697  1523  1653  1304   876  1225  1127  1164   636   749   805   617\n",
       "[1381]   653  1140  1449  1004  2260  2010  1013   827   911  1272  1173  1300\n",
       "[1393]  1015  1114   928   586   969  1322  1207  1182  1220  1033  1179  1151\n",
       "[1405]   977  1117   827  1159  1118  1438  1242  1167  1249  1242  1348  1248\n",
       "[1417]  1214  1084  1073  1105  1226  1184  1318  1275   836  1309  1095  1231\n",
       "[1429]  1826  1976   821  1007   967  1046  1022  1036  1424  1430  1095   988\n",
       "[1441]  1025  1025   927  1079  1143   974  1036  1039  1142  1188  1196  1070\n",
       "[1453]  1136  1213  1077   966   919  1180  1192  1177  1201  1288  1127   679\n",
       "[1465]  1004  1018   946  1162  1342   954  1431  1096  1056  1381  1369  1032\n",
       "[1477]  1858   994   796   540   880   946   507  1330  1032    60   700   724\n",
       "[1489]   623   570  1540   848   848  1483   585   827  1420   848    72   982\n",
       "[1501]  1010  1890   928  1034   928   936   732  1040  1087  1200   883   716\n",
       "[1513]  1055   900   816     3   936   807  1160  1200   852  1013  1090   659\n",
       "[1525]   922   752   910   593   652   876   665  1120  1240   258   634   459\n",
       "[1537]   676   754   725   742   571   424   633   577   868   774   723    10\n",
       "[1549]   309   763   715   732   458    10   371   630   774    25   507   431\n",
       "[1561]   571   541   825   633   513   630   417    50   625   690   740   425\n",
       "[1573]   424   889   561     5   658   387   462   186    94   853   714   633\n",
       "[1585]   563   416   102   638   871     4    11   719   552   704     1     2\n",
       "[1597]  1050   188  1679  1219     6     1     7     6   124    18    15     4\n",
       "[1609]   850   170   680   161    18    17     5    10    19     4     6     4\n",
       "[1621]   278    49   453   482   135   599   485   151    11     2     6     1\n",
       "[1633]   667   475    13     2     2     0     5     6     2     4     3     4\n",
       "[1645]     1     2     1   223     2   223     2   223     2   223   173   129\n",
       "[1657]   151     3   126    76    10   108    71    82   238   233   225   188\n",
       "[1669]   219   491    19   374   586     3   207   670   450   479   612    33\n",
       "[1681]   345   341   364   648    54   465   234  1310   533   499   516     2\n",
       "[1693]     5     7     3     3   630    46    55   614   509   350   194   698\n",
       "[1705]   434     3    70   475    36   699   751   469   527   383   607   576\n",
       "[1717]   593   556   701   576   515   376   633   459   240   309   554    53\n",
       "[1729]   449   409   491   640   236   432   700     2     2     2     3   550\n",
       "[1741]     5   574   766   733   909   464   897   774   632   419   823   473\n",
       "[1753]   509   825   953     6     4     6   238   383   394   613    13   190\n",
       "[1765]   253    10     8   204   165   587   805   418     3   573   493   523\n",
       "[1777]   538   700   590   457   206   485  1764  1557  1518  1930     3     8\n",
       "[1789]   472     1   233     3   625   570   380   759   241   900    10   576\n",
       "[1801]   466    10    10   700     5   455   461   517    18   630   418   527\n",
       "[1813]   813  1070   710   816   795   850   319     3     3   571   600   726\n",
       "[1825]   386   472   234   456   456   303   246     3     0   568   229   476\n",
       "[1837]   500   560   488   724   567   279    49   261   249   247   252   268\n",
       "[1849]   215   448   251   231   328    34    45     7     4     4   714     4\n",
       "[1861]   490   607   500   579   328   524   235   385   244   242    12   570\n",
       "[1873]   629   738   605   451     2   438   383   195   276   649   471   415\n",
       "[1885]   227   380   375   423   298   449   437   377   494   464   520    10\n",
       "[1897]     5   443   659   627    17   364   382   725   719   725    47   477\n",
       "[1909]   637   548   372   345   304   521   572   478   492   760     4   559\n",
       "[1921]   672   580   597     7     3     1     0     1     1     3     3   124\n",
       "[1933]    26    87    20    19     3     3     4    25     7     2     2     1\n",
       "[1945]     3    11     4     2     4     4    11    13    13     5    10     4\n",
       "[1957]     3     4     3     7     8     2     1     3     1     1     3     1\n",
       "[1969]     1     3     3     1     1     3     1     2     2     3     7     3\n",
       "[1981]     7     7     7     7     1     0     1     3     3     3     3     1\n",
       "[1993]     1     2     3    29    32     2     1     8     4     2     6     1\n",
       "[2005]     1     1     1     1    10     4     4     4     4     6     6     6\n",
       "[2017]     3     5     6     6     5     1     2     0     0     1     0     0\n",
       "[2029]     0     0     2     7     2     1     2     3     1     1     1     5\n",
       "[2041]     2     2     6     5     5     7     2    NA     2    37     4     2\n",
       "[2053]    14     3     9     3    10     2     1    21     1     6     2     2\n",
       "[2065]    16     1     3     1     0    48     1    15     1     7    16     9\n",
       "[2077]    18    31     4    18     3    10     0     1   735   735  1556     0\n",
       "[2089]     0     1     0     2     1     4     2     2     2     3     1     3\n",
       "[2101]     3     2     5     6     1     1     3     1     8     9     5    28\n",
       "[2113]     6     6     0     3     4     5     5     6     8     4    10     4\n",
       "[2125]     7     2     2     6     7     1     2     4     2     5     5     5\n",
       "[2137]     6     3     3     4     1     2     1     1     1     1     1     1\n",
       "[2149]     1     2     2     3     1     3     4     5     0     1     1    20\n",
       "[2161]    19    19     3     5     3     5     2     2     1     2     4     1\n",
       "[2173]     4    12    11    28    11     1     3     1     4     2     1     6\n",
       "[2185]     0    12     7    14     1     4     2     1     3     9    28     2\n",
       "[2197]     1     4     3     0     6     3     1     1     4     3     6     5\n",
       "[2209]    19     5     4     2    28     3     1     7     4     2    25     7\n",
       "[2221]    11     1     2    23    98    20     4     1     1     5     6     1\n",
       "[2233]     8     7     5     7     7     4     5     9     7     5     3     2\n",
       "[2245]     6     8     3     4     2     4   125    42    59    57    11    32\n",
       "[2257]    47    56    47    60    55    64    73    77    76    80    84    81\n",
       "[2269]    90    84    50    48    62    59    52    50    64    58    69    69\n",
       "[2281]    74    76    73    70    76    78    55    73    55    83    58    75\n",
       "[2293]    56    86    56    70    55    91    60    72    57    95    57    58\n",
       "[2305]    86    57    59    58    89    59    53    57    48    66    44    46\n",
       "[2317]    49    67    45    47    65    68    76    75    84    96    70    90\n",
       "[2329]   100    80    61    58    69    67    65    60    74    88    81    93\n",
       "[2341]    55   120    91    24    18   191   167   132    56    35    25   121\n",
       "[2353]    80     5    87    49   153    81    50    44    42    98   107    75\n",
       "[2365]    88   110   109   833  2310   987  2099  1409  1546   560  1203  1500\n",
       "[2377]  1255  1135  1240   941  2695  1386  1088  1063  1269  1284  1187  1516\n",
       "[2389]  1327   213  1424   505   624  1072  1231  1250   973    73    63    25\n",
       "[2401]    99    88    85    94    84    87  1278  1385  1276  1068    86    55\n",
       "[2413]    57    87    94    42    40    62    50    48    45    41    65    52\n",
       "[2425]    50    63    58    52    67    60    91    63    56    65    66    63\n",
       "[2437]    56    66    66    52    56    73    64    57    65    47    49    54\n",
       "[2449]    55    54    57  1155    76  1210    58  1038   413   594   590   378\n",
       "[2461]   358  1016   209   205  2193  2073  2428    40    27  1150  1170  1060\n",
       "[2473]  1374  1237  1390  1335  1310   861   820   835   986  1267  1223  1193\n",
       "[2485]  1141  1045  1163  1180  1098  1040  1090  1070  1160  1090   893   809\n",
       "[2497]   861   895   677   616  1050   870  1096   881   839   779   838  1308\n",
       "[2509]  1099   936   990  1126  1011   964  1069  1101   988  1309  1212  1181\n",
       "[2521]  1181   945  1188  1389  1335   841   801   821  1160   977  1179   826\n",
       "[2533]   846   737   828   846   810   816   852   760   744    91    81   231\n",
       "[2545]   243   154   165   237   232   226   234   239   230   155   151   722\n",
       "[2557]    76    73    54    54    53    50    43    50    69    68    67    94\n",
       "[2569]    89    84    91    89    88    65    68    58    58    84    72    58\n",
       "[2581]    64    67    58    81    70     6    20    21    22    18    94    60\n",
       "[2593]    47    53     2    14   284   287     8     3    11    13     5     6\n",
       "[2605]     4     4     7     6     7     8    17   252    58    69    52    29\n",
       "[2617]     6    10     9    13    14    92    83   334     6     1   192   246\n",
       "[2629]   373     3     1     3     3    78    77   143   194   226   241    50\n",
       "[2641]    41    33    41    24    11    17    24    33    56    25    21    10\n",
       "[2653]    15     5     4     7     4     4    18     8    27    28    28    24\n",
       "[2665]    65    34     9     9   170   176    69    58   240   242    68    59\n",
       "[2677]    14    30    15    24    18   100    61    80    91    11   213   179\n",
       "[2689]     2     1     2    45    50     3   118    53    23    20    16    48\n",
       "[2701]    50    46    15     1   195   186   285   272   163     3     1     5\n",
       "[2713]     4     4   347     4     4     4     6     5     4     3     4     4\n",
       "[2725]     7     6    14     8     2     2    76    44     2     1     6     6\n",
       "[2737]    22    17    13     2     2     3    21     9     9     2     2     4\n",
       "[2749]     9    70     8    11    43    23    15    15    15     9     9    21\n",
       "[2761]    20    21    11    43    29    20    10    11    10     5     8    10\n",
       "[2773]    28    40    45    25    13    12     5     2    12   425     9     6\n",
       "[2785]     5    13     4    25    16    29    25    21    14   130   107     8\n",
       "[2797]     6     3     3     4     3    21   371    12    12    12    10     8\n",
       "[2809]    16    15    17     8   246   375    56    10    10     4     4     4\n",
       "[2821]     5     5     3   185   273   254   231   108    72    20     3   260\n",
       "[2833]    79    68   442    61    37  1173     3     2  1369     5     4    17\n",
       "[2845]     5     5    12    23    18     6     5    16    18    14     7    12\n",
       "[2857]   358   391    10     5    21     4    14     5     7    16   342   333\n",
       "[2869]   335   433   217   219   104   164    67   257    82   172  2095   439\n",
       "[2881]  1578   341    22    34    77   101   322   400    33    43   457   480\n",
       "[2893]    25    20   332   388    32    45   490   613    49   317   373    55\n",
       "[2905]   529     5     6    11     8     1     1     5   208    45    44    39\n",
       "[2917]    21    13   278    20    20    20    16   661     9    67   233    48\n",
       "[2929]    15    11    15    14    14    10    14    79    70   319   322    74\n",
       "[2941]    97     2     1     5     5     6     1     1     8     3     2     2\n",
       "[2953]   374     3     4     3     4     4     2     2     7     8     5    17\n",
       "[2965]    18     4    17   245   221    45    45   113   122     9    13    55\n",
       "[2977]    36    27    53    75     6     8    11    15     3     2     1     2\n",
       "[2989]    50    54    13     5    11   143   221   401   269    59    28   134\n",
       "[3001]   524   452   551   543   546    15     5    67    16    25    36    40\n",
       "[3013]    29   277    12    15    18    19   198   224   149    47    35    24\n",
       "[3025]    14     8    41   111   107     4     4     9    35     9     8     4\n",
       "[3037]     4   162   264    80    88    70     4     3    12    42    43    70\n",
       "[3049]    45    35   391   140  1671   193    16    59     2     1     4     1\n",
       "[3061]    44    39   472   153    51    66   282   302   566    70   455   102\n",
       "[3073]    98  1048   872     7   217   764    10     8     6    12   275   132\n",
       "[3085]    42    23    26   118   257   254   296   289   240    26   240   249\n",
       "[3097]   242   240   243   253     4   265   289   246   250   319   287     6\n",
       "[3109]   239     3   239    14   259    14     2     3   245     9   245   285\n",
       "[3121]    21   477   324   277    27    27    27   262   260   260   257   259\n",
       "[3133]   240   240    18    18   255   244   260   270   245   412   302    34\n",
       "[3145]    42   295   242   254   297   327   415   237   289   252   286   253\n",
       "[3157]    12     3     3   245   240   240   241   239   242   244   280   239\n",
       "[3169]   238   257   245   279   238   247   259   251   281   257   265   246\n",
       "[3181]   281   238   240   252   261   250   343   241   239   239   248   244\n",
       "[3193]   246   240   241   239     9     2   323   239     4   304   273     9\n",
       "[3205]  1173     4   238     2   238   240   240   254    10   241   257   240\n",
       "[3217]   250   241   244   243   252   256   281    32    23   433   335   237\n",
       "[3229]   241   242   244   280   249   254   252   250   306    75   322   237\n",
       "[3241]   237   242   237   239   238   237   240   239   240   238   244   241\n",
       "[3253]   254   253   281   358   249   246   263   244   251   238   238   290\n",
       "[3265]   247    10    10   790   399   286   272   265   251   255   271   343\n",
       "[3277]   240   244   242   240    15     3   253   213    12   323   285     3\n",
       "[3289]   272     3     3     5   245     5     4   240  1369     5     4   240\n",
       "[3301]    21   247   246   250   239   246   248   241   263   332   193   251\n",
       "[3313]     2   317  1114   875    11   457  1208    14  1091   811    18    18\n",
       "[3325]    18    20     3     2    22     1   247   266    52  1096    27    78\n",
       "[3337]   426    91    21    20    23    23   259     7    11     6    25     9\n",
       "[3349]  2853    13    10    43     3   397     1    89   527    43    34    55\n",
       "[3361]    18    35   384    17    21    17     1     1     0     9    25    23\n",
       "[3373]    31    53    16    35    35    37     5     7    18     3     3    11\n",
       "[3385]    11    39    41    39    39     9     3     3     3     3     3     0\n",
       "[3397]     0     0     1    19     3     1     9    38     3     1    16    13\n",
       "[3409]    12    15     3     5     2     4     3     2    37    37    27    20\n",
       "[3421]    37   285    20    37     4    36    15    13   105     0     0     0\n",
       "[3433]     7    13   307     1     5     4    12     5    11   505     0     1\n",
       "[3445]     1     3     2    72     1     6     2     2    28    25    18   115\n",
       "[3457]     2    12    41     1    99    34    12    37   262    92     7    74\n",
       "[3469]    47    91    47    14     5    19     1   130    30   256   588   410\n",
       "[3481]   410   613   331   339   339   640   308   614   265   669   273   306\n",
       "[3493]   383   393   428  2541   215    35    55    59    59    26    23    79\n",
       "[3505]    68    49    54    70    53    57    72    56    56    53    63    60\n",
       "[3517]    49    50    65    58    64    64    52   187    63    64    52    65\n",
       "[3529]    81    80    77   126   158   108    98    59   182    94    69    79\n",
       "[3541]    77   198   101    57    67    60    85    57     7    96   116    69\n",
       "[3553]    65    97    68    52   955  2253  1217  1134  1006    81  2790    73\n",
       "[3565]    73  1322    74   885    77  1131  1258    76  1439    62    62    63\n",
       "[3577]    66    66    66    65    70    54    54    68    77    47    48    54\n",
       "[3589]    55    61    64    71    63    67    64    65    73    73    73    56\n",
       "[3601]    64    64    61    69    69    44    36    42    35    45    37    44\n",
       "[3613]    36    43    36    46    38    38    37    39    38    38    39    35\n",
       "[3625]    35    35    36    36    36    45    45    45    45    45    45    56\n",
       "[3637]    55    58    59    59    59    59    56    61    60    59    62    61\n",
       "[3649]    58    63    64    63    66    65    65    65    69    69    69    67\n",
       "[3661]    67    68    75    71    71    71    56    55    51    58    63    42\n",
       "[3673]    43    42    96    73    92    81    67    77    87    85    89    83\n",
       "[3685]    82    87    83    82    85    85    73    74    71    84    81    80\n",
       "[3697]    82    58    63    57    62    58    63    54    63    69    64    59\n",
       "[3709]    48    72    69    62    50    63    49    62    50    68    65    67\n",
       "[3721]    64    69    66    80    79    81    55    63    64    54    63    64\n",
       "[3733]    55    64    65    53    62    65    55    64    64    54    63    63\n",
       "[3745]    56    64    65    53    62    64    49    53    63    48    49    63\n",
       "[3757]    49    58    64    53    63    65    88    82    54    62    54    62\n",
       "[3769]    56    43    35    53    42    34    60    43    35    58    37    55\n",
       "[3781]    37    62    37    58    63    58    63    58    64    81    65    60\n",
       "[3793]    45    41    57    45    40    68    63    45    41    51    61    86\n",
       "[3805]    80    52    64    53    66    52    54    51    52    52    57    53\n",
       "[3817]    64    50    54    57    50    52    65    50    57    57    49    59\n",
       "[3829]    55    52    56    51    54    71    53    57    74    74    68    68\n",
       "[3841]    56    58    57    59    56    53    52    50    51    56    53    41\n",
       "[3853]    73    68    68    68    42    42    54    54    85    85    86    79\n",
       "[3865]    67    76    70    94    75    75    75    82    55    73     4     4\n",
       "[3877]    40     5     3    71     6    57   274    47    44   102    61     5\n",
       "[3889]     1     2     1     1     0     9     5    29    29    20     4    NA\n",
       "[3901]    NA    NA    NA    NA    NA    NA    NA     5    NA    NA    NA    NA\n",
       "[3913]   131    NA    NA    21    NA    21    NA    NA    NA    12    NA    NA\n",
       "[3925]    NA     7    21    NA    NA    15     6    10     9     4     4     4\n",
       "[3937]     4    12     6    NA    10    38    12    39    13    NA    NA     5\n",
       "[3949]    16   103    46   210    58    72    47   362   504    73   800   876\n",
       "[3961]   850     2    14    37   500     2    14    37     4    23     4   277\n",
       "[3973]     7   317   180   557    83     5     2     2     3     2     3    55\n",
       "[3985]     3     4    10    38     8     5    16     9    51     6    10     4\n",
       "[3997]     7     4   130    13     3    13   259    72   405    79   594    87\n",
       "[4009]   190    60     3     2    14     3    97    81    38    48     3    72\n",
       "[4021]     3   412     5    72     4    55     5     2   412     6     1    35\n",
       "[4033]     1     1    72     4    10     5    17     5    81     4     5     8\n",
       "[4045]    92     8    49   659    61    24    10    26    10    83     3     4\n",
       "[4057]     4     0     0     0    54     0     1     1     1    63    39    22\n",
       "[4069]    13     4    21    33    20     1     1     8     9    16   653     7\n",
       "[4081]     4     4     0     1     5     1     1    88     7     2   136    50\n",
       "[4093]     0    42     3     4     3     0     5    14    13    13    15    21\n",
       "[4105]    21    14    16    21    21    21    21    21    28    28    33    28\n",
       "[4117]   126    27    35    75    31    17    52     3    54    14    49    29\n",
       "[4129]     2     8    14    39    12    14    45    36    36    25    61     3\n",
       "[4141]     8     0   104  3668    70    69    60    97    89    49    63    43\n",
       "[4153]   280  1500    55   481    54    78   218  7027   303    56   348    31\n",
       "[4165]    88    75    51    65   421   296   363   524    53    53   213   261\n",
       "[4177]   763    68    82    80    90   115   870   918    74   135    59    90\n",
       "[4189]    83   379   158    86    59    66    72    18    65    71   287   347\n",
       "[4201]    61    62    79    39    49    51    86   333   419    65    76    74\n",
       "[4213]    89    91    72    56   737    44   784    47    50   487    46    53\n",
       "[4225]    75   403   112   134   408   505   414    42    68    87    58    51\n",
       "[4237]    79   122    71    73    60    77    64    57    29    54    69   739\n",
       "[4249]    40    80   143    81    97    53    59    52    31    56    39    50\n",
       "[4261]   354   338    37   396   377    45   402   150    51  1019    72   132\n",
       "[4273]    85    39   836  1072   841   293   395   395   330   295   539    58\n",
       "[4285]    94   423   486   566   344   947   777   705   177   301   591   601\n",
       "[4297]   364  1202   112   215   372   286   369   230    85   417   166   112\n",
       "[4309]   106   392   464   795    44   306   206   412  2000    75    75    75\n",
       "[4321]    50    50    50    50    90    88    77   124   114   372    40   113\n",
       "[4333]    96   103    95   173    76   203   110    92    23    65   110    78\n",
       "[4345]   117    72    56    60    64    90    54    74    65    37    51   103\n",
       "[4357]    67    47    54   192    65   109    50   378   691   227   744   460\n",
       "[4369]   212    69    50    98   119    59    61    47    52    51    61    62\n",
       "[4381]    97   132   178   163    58   153   173   167   433   381    52    56\n",
       "[4393]   386   378     5     8   218    83   422   343   475   430   414   334\n",
       "[4405]   437     5     1     9     3   384     6     1   332    18     6    14\n",
       "[4417]     2     4    24     1   296    11     4    12     2   256    13     5\n",
       "[4429]     5     0   448     8     2    12     1   268    12     2    12     5\n",
       "[4441]    16     6     5    13     5   453    35    24     7   278   522    58\n",
       "[4453]    19    16     4   299   350    21     7     6     2    18     2   336\n",
       "[4465]    13     3    15     4    30    10    15     2    10    38     7    15\n",
       "[4477]     2    18   751   420   679    22   433     1   772    10   433   486\n",
       "[4489]   459   180     1    17     5   449  1465    10   888     2     1   163\n",
       "[4501]     2  3728     7     9    13    12    20     9     3    51     3  1005\n",
       "[4513]  5637  5586  5689    12     8     6    16     9  2873    17     5    38\n",
       "[4525]    13   242   294    47     7   231   239   569   447   540    78   420\n",
       "[4537]   366    64   379     5    36    63    53   476    53   430   438   375\n",
       "[4549]    14  1188    40   362   338   575   492   492     4     4     2    66\n",
       "[4561]    66    49    37    50    48    46    63    37    57    57    49    39\n",
       "[4573]    41    49    39    41    49    39    39    35    58    61    41    41\n",
       "[4585]    41    13    12    13    15    15    15    12    15    15    15    67\n",
       "[4597]    67    67     4    79     7     4    28    26    23     2    34    33\n",
       "[4609]   244   237   239   237   242   238   238   240   238   208   241   237\n",
       "[4621]   238   238   212   238   241   242   241   243   246   212   255   240\n",
       "[4633]   243   238   238   239   240   246   238   243   238     6     6     6\n",
       "[4645]     6     6    17    17   356   241   237     4    13    12     9    18\n",
       "[4657]     3   900   900    50    50  3333    14     7     6    16  2873   241\n",
       "[4669]   249   472   481   443   471   222   508   613   401   453   456   344\n",
       "[4681]   401   416   612   313   480   532   708   460   417   451   530   642\n",
       "[4693]   452   758   671   517   819   667   859   651  1463   717   632  1463\n",
       "[4705]   670   422   501   725   346   389   758   702   835   682   714   666\n",
       "[4717]   678   597   758   545   695   564   385   441   363   479   581   671\n",
       "[4729]   565   705   386   695   695   387   530   656   519   549   574  1078\n",
       "[4741]   609   551   208   192   429   194   567    58    72    66    76    31\n",
       "[4753]    58    72    72    79    74    56    66    62    68    57    65    61\n",
       "[4765]    66    56    68    64    71    56    77    64    68    84    66    56\n",
       "[4777]    76    73    72    85    81    61    75    78    66    70    79    83\n",
       "[4789]    68    60    72    77    65    69    76    82    67    62    75    82\n",
       "[4801]    66    70    79    88    68    65    70    76    39    46    46    50\n",
       "[4813]    22    35    45    47    50    49    40    43    44    45    37    49\n",
       "[4825]    45    55    40    43    52    48    41    51    47    56    82    87\n",
       "[4837]    86    89    26    57    63    67   454    76    68    64    67   455\n",
       "[4849]    77    68    85    80    93    91    84    96    89    95    92    95\n",
       "[4861]    99    97    91    95    96    92    97    97    83    87    90    86\n",
       "[4873]    90    91    95    98   100    97   101   102    76    79    83    80\n",
       "[4885]    81    85    83    93    82    83    51    54    NA    71    76    70\n",
       "[4897]    51    59    78    82    54    57    NA    60    53    56    57    60\n",
       "[4909]    51    54    58    61    82    86    53    55    65    69    82    95\n",
       "[4921]    58    41    47    37    50    45    79   103   119   112   134   157\n",
       "[4933]   127   156   176    89    63    77    58   156   151   178   110    70\n",
       "[4945]    56   124    77    78    85   157    84   108    56    59    75    52\n",
       "[4957]    67    68    84    58    97    58    67    59    78    67    82    64\n",
       "[4969]    59    81    59    72    72    72    57    67    58    65    56    68\n",
       "[4981]    59    78    64    58    77    74    63    74    82    66    61    72\n",
       "[4993]    78    65    63    75    83    67    41    46    45    47    41    44\n",
       "[5005]    39    50    42    44    42    52    51    48    59    49    71    65\n",
       "[5017]    64    66    68    84    93    85    94    74    76    83    80    33\n",
       "[5029]    51    96    93   106   100    73    70    81    72    75    67    81\n",
       "[5041]    69    70    78    80    83    59    64    64    66    61    65    64\n",
       "[5053]    66    70    78    75    80    68    77    81    82    76    85    88\n",
       "[5065]    91    72    73    83    78    78    88    90    94    66    73    53\n",
       "[5077]    57    62    52    41    47    79    85    54    51    50    75    78\n",
       "[5089]    57    52    57    45   517   480   505   433   346   590   942  1276\n",
       "[5101]   955   987  1000   999  1080   580   670   302   631   817   778   658\n",
       "[5113]   538   412   540   513   720   398   584   420   457   407   448   470\n",
       "[5125]   651   536   532   478   671   738   313   424   573   418   388   513\n",
       "[5137]   332   453   303   660   725   519   611   486   553   491   592   336\n",
       "[5149]   359   472   583   732   657  1405   524  1283   455   488   567   893\n",
       "[5161]   825   596   813   657   656   665   664   687   657   482   303   690\n",
       "[5173]   290   209   232   503   326   351   350   274   558   477   257   147\n",
       "[5185]   168   459   383   349   473   294   327   538   415   336   397   436\n",
       "[5197]   368   338    83    94   406   243   406   412     9   281   357   422\n",
       "[5209]   468   103   349   253   388   306   973   913   453     0    21     2\n",
       "[5221]   598   899   837   592   253  1044   557   887  1116   865   888   901\n",
       "[5233]   918   913   807   704    16   347   274   361   698  1089   371   322\n",
       "[5245]   354   298   557   326   402   397   427   345   309   316   240   337\n",
       "[5257]   362   477   334   453   277   369   382   415   364   396   495   256\n",
       "[5269]   251   548   247   795   430   393   700   495   505  1082   628  1089\n",
       "[5281]   505   439   412   767   456  1419   572   571   753   729   409   467\n",
       "[5293]   542   249   483   906   536   459   413   650   485   401   507   500\n",
       "[5305]   458   442   544   157   357   304   765   832   389   424   334    45\n",
       "[5317]   686   638   511   572 10600  7893    90 27360    52    30    51  1759\n",
       "[5329]   598   341   601   478   621   509   527   522   415   672   560   285\n",
       "[5341]   515   482   730   534   534   534  1111   536   390    27   351   400\n",
       "[5353]   665   657   351   315   147    19   198   766   216   190   186   371\n",
       "[5365]   354    30   354   458   354   342   464   464   464   576   906    15\n",
       "[5377]    11   478   341   413   604   219   716   301   334   350   320   380\n",
       "[5389]   350   423   320   440   441   333   320   410   355   325   311   419\n",
       "[5401]   478   350   387   508   359   284   442   559   591   306   274   290\n",
       "[5413]   385   308   270   200   331   384   449   605   377   577   394   339\n",
       "[5425]   561   471   404   334   377   406   760  1532  1680   357   386   590\n",
       "[5437]   223   457  1295   898   659   528   882   891   304   577   292  1034\n",
       "[5449]  1059   773  2182   345   300   488   672   174   878  1410  1360   621\n",
       "[5461]   710   663   682   566   312   354   413   330   503   353   472   393\n",
       "[5473]   409   745   866   543   657   510   390   228   515   357   445   231\n",
       "[5485]   665  1148   752   544   305  1167  1214   478   439   265   742   375\n",
       "[5497]   750   561   471   534   724   645   476   283   479   686   240  2081\n",
       "[5509]   545   763  1022   952   950   910   635   278   403   317   294   256\n",
       "[5521]   344   278   278   409   282   251   200   193   328   413   741     8\n",
       "[5533]  1058   288   295   206   889  1818   750   549   411   541  1357   569\n",
       "[5545]  1553   203   326   116   227   421   615   519   229    10   121   787\n",
       "[5557]    44   142   261   295   230   391   107   245   122    44    12    24\n",
       "[5569]    88    11    16    26    52    89   250    90    74    61    61    28\n",
       "[5581]   195   101    53    80    70    46   225    11    45    39   118    47\n",
       "[5593]    42    36    44    38    50    54   196   230   287    98    71   170\n",
       "[5605]    80   195   193    38    79   296   164   284     3    41    41    36\n",
       "[5617]   178    82    64    74    86   167   317    21    68     2    50    61\n",
       "[5629]   145    41   203   150    68   156   445    33   357   194   188     1\n",
       "[5641]   167   239     2    68   194   198   226   299     1     6    21    19\n",
       "[5653]    61   281    84     0   466    75   862    48   196    46    38   152\n",
       "[5665]  1429   284   351   432   353    98   102   246   123   366   108   477\n",
       "[5677]   120   142  1441   286   268    87   635   156   109   121   159    52\n",
       "[5689]    46    48     5   145   163    70    51     6    46 26050   183   195\n",
       "[5701]   191   184   113   112   191   187   110    74   179   141    76   124\n",
       "[5713]   245    13   234   156    39   264    64   330    63     4   273   246\n",
       "[5725]    96     4    75    25   317    76    60    36   111   317    70    22\n",
       "[5737]     4     7   136    87    15   358     4    32    30    79   156    56\n",
       "[5749]    37   224   146   172     2   200    47     2    18    89  1499   290\n",
       "[5761]   788   158  1040   246   682   162     7     8    40  1332   267   506\n",
       "[5773]    63    28     1     2     0    11   100   346   155    62     2    35\n",
       "[5785]    12     8   189    61   104    71    15   349    80    42    42    15\n",
       "[5797]    14    15   114   163     6    85    52   135    34    35    98     6\n",
       "[5809]   600   634   234   179   316   254  1531  2667   132   388   480   600\n",
       "[5821]   167   252   633   110  1488   488   283   458   492   554  1003   419\n",
       "[5833]   847    24   286   643   351   291   246   283   602   429   342    11\n",
       "[5845]   491  2751   158  1499   788   849     8   754    40    61    28   896\n",
       "[5857]   763     4   884   594     8     8  1715   289   289    26     4     4\n",
       "[5869]     4    29    10    27     8    15    13   708    13    20    20   131\n",
       "[5881]    97     0   102    94    10   120    71    73    73    69    67   164\n",
       "[5893]    87    66    72    68   160   159   191   188   191    86    41     6\n",
       "[5905]    75    75    77   321     9    48    76    24    10    20    23    11\n",
       "[5917]     2     3   572   264     4     6     2    12     9     3     1    11\n",
       "[5929]     4    11    17     5    35     7     5     5     1     5    35     7\n",
       "[5941]  1247  1319  1348     9    10     5   210     5     2     4     1     5\n",
       "[5953]     7     5     2     4     1     5     1     2     2    10     4     1\n",
       "[5965]     0     1     0     7     5  1866   568     5     5     0     2     2\n",
       "[5977]     2     2     1     6     1     5     2     2     2     2     2     2\n",
       "[5989]     2     2    12     2     2  1270     2     2   677    16     7     3\n",
       "[6001]     8     3     0    26     6    27     6    83    74     6     1     8\n",
       "[6013]     5    43     6     8     3    21     5    72    12   439   792    60\n",
       "[6025]  1840   161   378     6     1     8     5     8     3    36    14     2\n",
       "[6037]     4    11    19   182    19     7     6     6     8     5    12     8\n",
       "[6049]     8     5   165     5     5     5    35   131     7  1247  1319  1348\n",
       "[6061]   210   382     2     1    21     5     6     1     7     5     1     2\n",
       "[6073]     2     1     0     1     0     1     2     6   165   131     7     5\n",
       "[6085]   382     2     8     2     2     2     2     2     2     2     2     2\n",
       "[6097]     2     2     2     4     4     3   672   819   532   306   290   328\n",
       "[6109]   342    54    75   860   630   605    49    33   546   587   560   525\n",
       "[6121]   531   525   427   395   671   520   457   426   302   212   238   350\n",
       "[6133]   365   346   504   306   354   616   449   388   380   291   412   284\n",
       "[6145]   389   406   272   181   280   335   409   377   238   238   353   238\n",
       "[6157]   433   238   238   238   988   520   741   830   830   922   741   879\n",
       "[6169]   460   401   525   560   561   352   326   333   682   336   448   494\n",
       "[6181]   557   225   238   385   290   329   666   628   563   583   280    72\n",
       "[6193]    53    64    54    64    54    66    55    66    62    55    57    52\n",
       "[6205]    59    60    60    61    59    58    62    74    78    75    76    54\n",
       "[6217]    51    53    53    63    57    62    60    58    59    61    54    60\n",
       "[6229]    60    74    77    54    52    62    58    58    81    93    85    69\n",
       "[6241]    70    69    81    82    82    75    74    75    70    73    70    60\n",
       "[6253]    63    61    67    70    68    83    76    81    67    68    65    80\n",
       "[6265]    81    79    65    66    65    62    59    68    76    76    77    73\n",
       "[6277]    73    73    76    75    76    74    70    76    75    76    65    64\n",
       "[6289]    66    67    66    69    80    82    76    70    70    71    78    75\n",
       "[6301]    85    61    60    62    65    65    66    77    76    77    71    71\n",
       "[6313]    70    66    66    68    69    70    60    59    64    65    63    56\n",
       "[6325]    56    55    67    67    67    56    54    59    63    66    64    67\n",
       "[6337]    62    66    71    67    71    68    70    65    59    56    60    56\n",
       "[6349]    59    55    68    60    68    61    68    59    60    59    60    62\n",
       "[6361]    64    63    56    57    55    54    54    54    52    51    54    50\n",
       "[6373]    50    50    63    63    61    64    65    65    85    70    70    69\n",
       "[6385]    65    65    63    58    58    58    52    51    52    63    61    64\n",
       "[6397]    53    53    52    57    65    62    61    65    55    61    52    63\n",
       "[6409]    63    64    61    62    61    60    66    58    59    60    55    56\n",
       "[6421]    57    65    57    66    66    56    86    87    76    87    88    82\n",
       "[6433]    56    56    85    54    55    81    89    87    82    80    81    76\n",
       "[6445]    92    94    81    91    93    80    88    89    83    66    95    66\n",
       "[6457]    55    74    57    71    68    64    74    71    68    60    73    68\n",
       "[6469]    68    67    71    72    67    67    75    92    72    71    67    71\n",
       "[6481]    67    66    65    71    85    58    66    68    75    87    61    66\n",
       "[6493]    72    79    89    64    67    75    83    91    67    67    78    87\n",
       "[6505]    93    70    55    55    56    57    66    62    62    62    38    39\n",
       "[6517]    43    46    59    54    74    60    38    56    60    56    56    74\n",
       "[6529]    37    45    61    57    42    61    61    56    74    75    56    53\n",
       "[6541]    57    57    56    36    39    42    45    57    57    57    58    58\n",
       "[6553]    59    61    60    77    76    57    55    62    64    62    62    68\n",
       "[6565]    54    54    54    58    54    54    52    58    57    59    55    53\n",
       "[6577]    61    58    46    NA   627   884     7     8   462   418   333   268\n",
       "[6589]   318   341   260    35   423   771   238   383   146   260   253   386\n",
       "[6601]   467   705   690   842   771   202   305   246   450   321   293   486\n",
       "[6613]   312   167   854   486   367   966   400    75   225   233   195   296\n",
       "[6625]   195   313   414   271   286   269   370   376   406   331   331   196\n",
       "[6637]   167   167   167   327   327   571   643   381   381   167   167   196\n",
       "[6649]   196   195   239   216   363   314   253   469   719   594   594   635\n",
       "[6661]   277   387  1200   343   194   186   175   455   600  1647   667   371\n",
       "[6673]   983   824   280    58   198   280   198   173   198   198    58   198\n",
       "[6685]  1000   333   148    58   198    21    95   656    NA    NA   220    NA\n",
       "[6697]    78    NA    NA     0     6    NA    NA    NA    NA    NA    72    NA\n",
       "[6709]    NA    NA    NA    26    NA    NA    50    61    NA    61    NA    10\n",
       "[6721]    59    NA   222    65    NA    70    NA    NA    NA    NA    NA     0\n",
       "[6733]    NA    NA    NA    NA    NA    NA    NA   693    NA    NA    NA   110\n",
       "[6745]    NA    30    NA    NA   132    NA    NA    NA    NA    NA    NA    NA\n",
       "[6757]    NA    NA    NA    51    NA    NA    NA     8     7    11    15    13\n",
       "[6769]     4     4     4    20    NA   126   135    79    58    60    59    48\n",
       "[6781]    14     6     0   390   160   390   950    52   120   200   600   460\n",
       "[6793]   870    52    57   190    56    49    43   130    41    43    50     2\n",
       "[6805]  2850   118   130     4   420   671   511   810    86    51    14    13\n",
       "[6817]    14   109     7     4     4    NA     5     4     4     4     5     4\n",
       "[6829]     4   310    45    24    88   231   115    62    80    NA    25     2\n",
       "[6841]    60    10    45   298    27   663     9    27   404     0   104   711\n",
       "[6853]   670  1038  1108  2285    97    72   229  1103   193  1074    60   213\n",
       "[6865]     4   581   939   564   897   932  1180   838   878   773  1041   140\n",
       "[6877]     2   266   231    81    63    63  1257   105   689   814   788   168\n",
       "[6889]  1745    71  1528    45  1600     0   220   500   387   444   957   542\n",
       "[6901]  1587     3   314  1020   271     2   152   983   634     0    52   203\n",
       "[6913]   389   600   743    28   607  1209   710   867   208   939  1148    21\n",
       "[6925]     0   156    33     7     0   112     7   101   780    12   251   805\n",
       "[6937]   725     4     2   709   490   471   711   550   490   630   400   550\n",
       "[6949]   789   277   717  1674   626     7   428   385  1770  1200  1120    12\n",
       "[6961]    11   213    50   509   717    58   106    95   403   470  1430   505\n",
       "[6973]  1345    52    43   162    57   685    20    33     5    26   969   969\n",
       "[6985]   969   837   905    63   500    14     8   308    13   110    15    70\n",
       "[6997]   996   996    91  1030  1430     2   682    29    14   996   996    14\n",
       "[7009]     3   403     7   819     5    14  2962   400   707    15     1    42\n",
       "[7021]    35     2     5   380  9690    92   311    12    10    95    57    55\n",
       "[7033]   856   499   490    35   260   167    16   486   711     0     2  1297\n",
       "[7045]  1435  2838     2    12     0  3326  1765  4250    29    58  4450   667\n",
       "[7057]    70    68"
      ]
     },
     "metadata": {},
     "output_type": "display_data"
    }
   ],
   "source": [
    "USDA$Sodium"
   ]
  },
  {
   "cell_type": "code",
   "execution_count": 85,
   "metadata": {},
   "outputs": [
    {
     "data": {
      "text/html": [
       "265"
      ],
      "text/latex": [
       "265"
      ],
      "text/markdown": [
       "265"
      ],
      "text/plain": [
       "[1] 265"
      ]
     },
     "metadata": {},
     "output_type": "display_data"
    }
   ],
   "source": [
    "which.max(USDA$Sodium)"
   ]
  },
  {
   "cell_type": "code",
   "execution_count": 86,
   "metadata": {},
   "outputs": [
    {
     "data": {
      "text/html": [
       "<style>\n",
       ".list-inline {list-style: none; margin:0; padding: 0}\n",
       ".list-inline>li {display: inline-block}\n",
       ".list-inline>li:not(:last-child)::after {content: \"\\00b7\"; padding: 0 .5ex}\n",
       "</style>\n",
       "<ol class=list-inline><li>'ID'</li><li>'Description'</li><li>'Calories'</li><li>'Protein'</li><li>'TotalFat'</li><li>'Carbohydrate'</li><li>'Sodium'</li><li>'SaturatedFat'</li><li>'Cholesterol'</li><li>'Sugar'</li><li>'Calcium'</li><li>'Iron'</li><li>'Potassium'</li><li>'VitaminC'</li><li>'VitaminE'</li><li>'VitaminD'</li></ol>\n"
      ],
      "text/latex": [
       "\\begin{enumerate*}\n",
       "\\item 'ID'\n",
       "\\item 'Description'\n",
       "\\item 'Calories'\n",
       "\\item 'Protein'\n",
       "\\item 'TotalFat'\n",
       "\\item 'Carbohydrate'\n",
       "\\item 'Sodium'\n",
       "\\item 'SaturatedFat'\n",
       "\\item 'Cholesterol'\n",
       "\\item 'Sugar'\n",
       "\\item 'Calcium'\n",
       "\\item 'Iron'\n",
       "\\item 'Potassium'\n",
       "\\item 'VitaminC'\n",
       "\\item 'VitaminE'\n",
       "\\item 'VitaminD'\n",
       "\\end{enumerate*}\n"
      ],
      "text/markdown": [
       "1. 'ID'\n",
       "2. 'Description'\n",
       "3. 'Calories'\n",
       "4. 'Protein'\n",
       "5. 'TotalFat'\n",
       "6. 'Carbohydrate'\n",
       "7. 'Sodium'\n",
       "8. 'SaturatedFat'\n",
       "9. 'Cholesterol'\n",
       "10. 'Sugar'\n",
       "11. 'Calcium'\n",
       "12. 'Iron'\n",
       "13. 'Potassium'\n",
       "14. 'VitaminC'\n",
       "15. 'VitaminE'\n",
       "16. 'VitaminD'\n",
       "\n",
       "\n"
      ],
      "text/plain": [
       " [1] \"ID\"           \"Description\"  \"Calories\"     \"Protein\"      \"TotalFat\"    \n",
       " [6] \"Carbohydrate\" \"Sodium\"       \"SaturatedFat\" \"Cholesterol\"  \"Sugar\"       \n",
       "[11] \"Calcium\"      \"Iron\"         \"Potassium\"    \"VitaminC\"     \"VitaminE\"    \n",
       "[16] \"VitaminD\"    "
      ]
     },
     "metadata": {},
     "output_type": "display_data"
    }
   ],
   "source": [
    "names(USDA)"
   ]
  },
  {
   "cell_type": "code",
   "execution_count": 87,
   "metadata": {},
   "outputs": [
    {
     "data": {
      "text/html": [
       "'SALT,TABLE'"
      ],
      "text/latex": [
       "'SALT,TABLE'"
      ],
      "text/markdown": [
       "'SALT,TABLE'"
      ],
      "text/plain": [
       "[1] \"SALT,TABLE\""
      ]
     },
     "metadata": {},
     "output_type": "display_data"
    }
   ],
   "source": [
    "USDA$Description[265]"
   ]
  },
  {
   "cell_type": "code",
   "execution_count": 89,
   "metadata": {},
   "outputs": [
    {
     "data": {
      "text/html": [
       "<table>\n",
       "<caption>A data.frame: 10 × 16</caption>\n",
       "<thead>\n",
       "\t<tr><th></th><th scope=col>ID</th><th scope=col>Description</th><th scope=col>Calories</th><th scope=col>Protein</th><th scope=col>TotalFat</th><th scope=col>Carbohydrate</th><th scope=col>Sodium</th><th scope=col>SaturatedFat</th><th scope=col>Cholesterol</th><th scope=col>Sugar</th><th scope=col>Calcium</th><th scope=col>Iron</th><th scope=col>Potassium</th><th scope=col>VitaminC</th><th scope=col>VitaminE</th><th scope=col>VitaminD</th></tr>\n",
       "\t<tr><th></th><th scope=col>&lt;int&gt;</th><th scope=col>&lt;chr&gt;</th><th scope=col>&lt;int&gt;</th><th scope=col>&lt;dbl&gt;</th><th scope=col>&lt;dbl&gt;</th><th scope=col>&lt;dbl&gt;</th><th scope=col>&lt;int&gt;</th><th scope=col>&lt;dbl&gt;</th><th scope=col>&lt;int&gt;</th><th scope=col>&lt;dbl&gt;</th><th scope=col>&lt;int&gt;</th><th scope=col>&lt;dbl&gt;</th><th scope=col>&lt;int&gt;</th><th scope=col>&lt;dbl&gt;</th><th scope=col>&lt;dbl&gt;</th><th scope=col>&lt;dbl&gt;</th></tr>\n",
       "</thead>\n",
       "<tbody>\n",
       "\t<tr><th scope=row>265</th><td> 2047</td><td>SALT,TABLE                                             </td><td>  0</td><td> 0.00</td><td> 0.00</td><td> 0.00</td><td>38758</td><td>0.000</td><td> 0</td><td> 0.00</td><td>  24</td><td> 0.33</td><td>  8</td><td>0.0</td><td>0.00</td><td> 0</td></tr>\n",
       "\t<tr><th scope=row>922</th><td> 6075</td><td>SOUP,BF BROTH OR BOUILLON,PDR,DRY                      </td><td>213</td><td>15.97</td><td> 8.89</td><td>17.40</td><td>26000</td><td>4.320</td><td>10</td><td>16.71</td><td>  60</td><td> 1.00</td><td>446</td><td>0.0</td><td>2.17</td><td> 0</td></tr>\n",
       "\t<tr><th scope=row>923</th><td> 6076</td><td>SOUP,BEEF BROTH,CUBED,DRY                              </td><td>170</td><td>17.30</td><td> 4.00</td><td>16.10</td><td>24000</td><td>1.990</td><td> 4</td><td>14.51</td><td>  60</td><td> 2.23</td><td>403</td><td>0.0</td><td>0.00</td><td> 0</td></tr>\n",
       "\t<tr><th scope=row>925</th><td> 6080</td><td>SOUP,CHICK BROTH OR BOUILLON,DRY                       </td><td>267</td><td>16.66</td><td>13.88</td><td>18.01</td><td>23875</td><td>3.430</td><td>13</td><td>17.36</td><td> 187</td><td> 1.03</td><td>309</td><td>1.1</td><td>0.46</td><td> 0</td></tr>\n",
       "\t<tr><th scope=row>926</th><td> 6081</td><td>SOUP,CHICK BROTH CUBES,DRY                             </td><td>198</td><td>14.60</td><td> 4.70</td><td>23.50</td><td>24000</td><td>1.200</td><td>13</td><td> 0.00</td><td> 190</td><td> 1.87</td><td>374</td><td>1.0</td><td>0.09</td><td>NA</td></tr>\n",
       "\t<tr><th scope=row>938</th><td> 6115</td><td>GRAVY,AU JUS,DRY                                       </td><td>313</td><td> 9.20</td><td> 9.63</td><td>47.49</td><td>11588</td><td>2.026</td><td> 4</td><td>   NA</td><td> 140</td><td> 9.30</td><td>279</td><td>1.0</td><td>  NA</td><td>NA</td></tr>\n",
       "\t<tr><th scope=row>1303</th><td> 6979</td><td>ADOBO FRESCO                                           </td><td>271</td><td> 2.00</td><td>20.90</td><td>18.60</td><td>17152</td><td>2.910</td><td> 0</td><td> 2.03</td><td> 123</td><td> 3.20</td><td>187</td><td>5.8</td><td>2.69</td><td> 0</td></tr>\n",
       "\t<tr><th scope=row>5321</th><td>18369</td><td>LEAVENING AGENTS,BAKING PDR,DOUBLE-ACTING,NA AL SULFATE</td><td> 53</td><td> 0.00</td><td> 0.00</td><td>27.70</td><td>10600</td><td>0.000</td><td> 0</td><td> 0.00</td><td>5876</td><td>11.02</td><td> 20</td><td>0.0</td><td>0.00</td><td> 0</td></tr>\n",
       "\t<tr><th scope=row>5324</th><td>18372</td><td>LEAVENING AGENTS,BAKING SODA                           </td><td>  0</td><td> 0.00</td><td> 0.00</td><td> 0.00</td><td>27360</td><td>0.000</td><td> 0</td><td> 0.00</td><td>   0</td><td> 0.00</td><td>  0</td><td>0.0</td><td>0.00</td><td> 0</td></tr>\n",
       "\t<tr><th scope=row>5698</th><td>19225</td><td>DESSERTS,RENNIN,TABLETS,UNSWTND                        </td><td> 84</td><td> 1.00</td><td> 0.10</td><td>19.80</td><td>26050</td><td>0.041</td><td> 0</td><td>   NA</td><td>3733</td><td> 7.07</td><td>292</td><td>0.0</td><td>  NA</td><td>NA</td></tr>\n",
       "</tbody>\n",
       "</table>\n"
      ],
      "text/latex": [
       "A data.frame: 10 × 16\n",
       "\\begin{tabular}{r|llllllllllllllll}\n",
       "  & ID & Description & Calories & Protein & TotalFat & Carbohydrate & Sodium & SaturatedFat & Cholesterol & Sugar & Calcium & Iron & Potassium & VitaminC & VitaminE & VitaminD\\\\\n",
       "  & <int> & <chr> & <int> & <dbl> & <dbl> & <dbl> & <int> & <dbl> & <int> & <dbl> & <int> & <dbl> & <int> & <dbl> & <dbl> & <dbl>\\\\\n",
       "\\hline\n",
       "\t265 &  2047 & SALT,TABLE                                              &   0 &  0.00 &  0.00 &  0.00 & 38758 & 0.000 &  0 &  0.00 &   24 &  0.33 &   8 & 0.0 & 0.00 &  0\\\\\n",
       "\t922 &  6075 & SOUP,BF BROTH OR BOUILLON,PDR,DRY                       & 213 & 15.97 &  8.89 & 17.40 & 26000 & 4.320 & 10 & 16.71 &   60 &  1.00 & 446 & 0.0 & 2.17 &  0\\\\\n",
       "\t923 &  6076 & SOUP,BEEF BROTH,CUBED,DRY                               & 170 & 17.30 &  4.00 & 16.10 & 24000 & 1.990 &  4 & 14.51 &   60 &  2.23 & 403 & 0.0 & 0.00 &  0\\\\\n",
       "\t925 &  6080 & SOUP,CHICK BROTH OR BOUILLON,DRY                        & 267 & 16.66 & 13.88 & 18.01 & 23875 & 3.430 & 13 & 17.36 &  187 &  1.03 & 309 & 1.1 & 0.46 &  0\\\\\n",
       "\t926 &  6081 & SOUP,CHICK BROTH CUBES,DRY                              & 198 & 14.60 &  4.70 & 23.50 & 24000 & 1.200 & 13 &  0.00 &  190 &  1.87 & 374 & 1.0 & 0.09 & NA\\\\\n",
       "\t938 &  6115 & GRAVY,AU JUS,DRY                                        & 313 &  9.20 &  9.63 & 47.49 & 11588 & 2.026 &  4 &    NA &  140 &  9.30 & 279 & 1.0 &   NA & NA\\\\\n",
       "\t1303 &  6979 & ADOBO FRESCO                                            & 271 &  2.00 & 20.90 & 18.60 & 17152 & 2.910 &  0 &  2.03 &  123 &  3.20 & 187 & 5.8 & 2.69 &  0\\\\\n",
       "\t5321 & 18369 & LEAVENING AGENTS,BAKING PDR,DOUBLE-ACTING,NA AL SULFATE &  53 &  0.00 &  0.00 & 27.70 & 10600 & 0.000 &  0 &  0.00 & 5876 & 11.02 &  20 & 0.0 & 0.00 &  0\\\\\n",
       "\t5324 & 18372 & LEAVENING AGENTS,BAKING SODA                            &   0 &  0.00 &  0.00 &  0.00 & 27360 & 0.000 &  0 &  0.00 &    0 &  0.00 &   0 & 0.0 & 0.00 &  0\\\\\n",
       "\t5698 & 19225 & DESSERTS,RENNIN,TABLETS,UNSWTND                         &  84 &  1.00 &  0.10 & 19.80 & 26050 & 0.041 &  0 &    NA & 3733 &  7.07 & 292 & 0.0 &   NA & NA\\\\\n",
       "\\end{tabular}\n"
      ],
      "text/markdown": [
       "\n",
       "A data.frame: 10 × 16\n",
       "\n",
       "| <!--/--> | ID &lt;int&gt; | Description &lt;chr&gt; | Calories &lt;int&gt; | Protein &lt;dbl&gt; | TotalFat &lt;dbl&gt; | Carbohydrate &lt;dbl&gt; | Sodium &lt;int&gt; | SaturatedFat &lt;dbl&gt; | Cholesterol &lt;int&gt; | Sugar &lt;dbl&gt; | Calcium &lt;int&gt; | Iron &lt;dbl&gt; | Potassium &lt;int&gt; | VitaminC &lt;dbl&gt; | VitaminE &lt;dbl&gt; | VitaminD &lt;dbl&gt; |\n",
       "|---|---|---|---|---|---|---|---|---|---|---|---|---|---|---|---|---|\n",
       "| 265 |  2047 | SALT,TABLE                                              |   0 |  0.00 |  0.00 |  0.00 | 38758 | 0.000 |  0 |  0.00 |   24 |  0.33 |   8 | 0.0 | 0.00 |  0 |\n",
       "| 922 |  6075 | SOUP,BF BROTH OR BOUILLON,PDR,DRY                       | 213 | 15.97 |  8.89 | 17.40 | 26000 | 4.320 | 10 | 16.71 |   60 |  1.00 | 446 | 0.0 | 2.17 |  0 |\n",
       "| 923 |  6076 | SOUP,BEEF BROTH,CUBED,DRY                               | 170 | 17.30 |  4.00 | 16.10 | 24000 | 1.990 |  4 | 14.51 |   60 |  2.23 | 403 | 0.0 | 0.00 |  0 |\n",
       "| 925 |  6080 | SOUP,CHICK BROTH OR BOUILLON,DRY                        | 267 | 16.66 | 13.88 | 18.01 | 23875 | 3.430 | 13 | 17.36 |  187 |  1.03 | 309 | 1.1 | 0.46 |  0 |\n",
       "| 926 |  6081 | SOUP,CHICK BROTH CUBES,DRY                              | 198 | 14.60 |  4.70 | 23.50 | 24000 | 1.200 | 13 |  0.00 |  190 |  1.87 | 374 | 1.0 | 0.09 | NA |\n",
       "| 938 |  6115 | GRAVY,AU JUS,DRY                                        | 313 |  9.20 |  9.63 | 47.49 | 11588 | 2.026 |  4 |    NA |  140 |  9.30 | 279 | 1.0 |   NA | NA |\n",
       "| 1303 |  6979 | ADOBO FRESCO                                            | 271 |  2.00 | 20.90 | 18.60 | 17152 | 2.910 |  0 |  2.03 |  123 |  3.20 | 187 | 5.8 | 2.69 |  0 |\n",
       "| 5321 | 18369 | LEAVENING AGENTS,BAKING PDR,DOUBLE-ACTING,NA AL SULFATE |  53 |  0.00 |  0.00 | 27.70 | 10600 | 0.000 |  0 |  0.00 | 5876 | 11.02 |  20 | 0.0 | 0.00 |  0 |\n",
       "| 5324 | 18372 | LEAVENING AGENTS,BAKING SODA                            |   0 |  0.00 |  0.00 |  0.00 | 27360 | 0.000 |  0 |  0.00 |    0 |  0.00 |   0 | 0.0 | 0.00 |  0 |\n",
       "| 5698 | 19225 | DESSERTS,RENNIN,TABLETS,UNSWTND                         |  84 |  1.00 |  0.10 | 19.80 | 26050 | 0.041 |  0 |    NA | 3733 |  7.07 | 292 | 0.0 |   NA | NA |\n",
       "\n"
      ],
      "text/plain": [
       "     ID    Description                                             Calories\n",
       "265   2047 SALT,TABLE                                                0     \n",
       "922   6075 SOUP,BF BROTH OR BOUILLON,PDR,DRY                       213     \n",
       "923   6076 SOUP,BEEF BROTH,CUBED,DRY                               170     \n",
       "925   6080 SOUP,CHICK BROTH OR BOUILLON,DRY                        267     \n",
       "926   6081 SOUP,CHICK BROTH CUBES,DRY                              198     \n",
       "938   6115 GRAVY,AU JUS,DRY                                        313     \n",
       "1303  6979 ADOBO FRESCO                                            271     \n",
       "5321 18369 LEAVENING AGENTS,BAKING PDR,DOUBLE-ACTING,NA AL SULFATE  53     \n",
       "5324 18372 LEAVENING AGENTS,BAKING SODA                              0     \n",
       "5698 19225 DESSERTS,RENNIN,TABLETS,UNSWTND                          84     \n",
       "     Protein TotalFat Carbohydrate Sodium SaturatedFat Cholesterol Sugar\n",
       "265   0.00    0.00     0.00        38758  0.000         0           0.00\n",
       "922  15.97    8.89    17.40        26000  4.320        10          16.71\n",
       "923  17.30    4.00    16.10        24000  1.990         4          14.51\n",
       "925  16.66   13.88    18.01        23875  3.430        13          17.36\n",
       "926  14.60    4.70    23.50        24000  1.200        13           0.00\n",
       "938   9.20    9.63    47.49        11588  2.026         4             NA\n",
       "1303  2.00   20.90    18.60        17152  2.910         0           2.03\n",
       "5321  0.00    0.00    27.70        10600  0.000         0           0.00\n",
       "5324  0.00    0.00     0.00        27360  0.000         0           0.00\n",
       "5698  1.00    0.10    19.80        26050  0.041         0             NA\n",
       "     Calcium Iron  Potassium VitaminC VitaminE VitaminD\n",
       "265    24     0.33   8       0.0      0.00      0      \n",
       "922    60     1.00 446       0.0      2.17      0      \n",
       "923    60     2.23 403       0.0      0.00      0      \n",
       "925   187     1.03 309       1.1      0.46      0      \n",
       "926   190     1.87 374       1.0      0.09     NA      \n",
       "938   140     9.30 279       1.0        NA     NA      \n",
       "1303  123     3.20 187       5.8      2.69      0      \n",
       "5321 5876    11.02  20       0.0      0.00      0      \n",
       "5324    0     0.00   0       0.0      0.00      0      \n",
       "5698 3733     7.07 292       0.0        NA     NA      "
      ]
     },
     "metadata": {},
     "output_type": "display_data"
    }
   ],
   "source": [
    "HighSodium = subset(USDA, Sodium>10000)\n",
    "HighSodium"
   ]
  },
  {
   "cell_type": "code",
   "execution_count": 90,
   "metadata": {
    "scrolled": true
   },
   "outputs": [
    {
     "data": {
      "text/html": [
       "<style>\n",
       ".list-inline {list-style: none; margin:0; padding: 0}\n",
       ".list-inline>li {display: inline-block}\n",
       ".list-inline>li:not(:last-child)::after {content: \"\\00b7\"; padding: 0 .5ex}\n",
       "</style>\n",
       "<ol class=list-inline><li>'SALT,TABLE'</li><li>'SOUP,BF BROTH OR BOUILLON,PDR,DRY'</li><li>'SOUP,BEEF BROTH,CUBED,DRY'</li><li>'SOUP,CHICK BROTH OR BOUILLON,DRY'</li><li>'SOUP,CHICK BROTH CUBES,DRY'</li><li>'GRAVY,AU JUS,DRY'</li><li>'ADOBO FRESCO'</li><li>'LEAVENING AGENTS,BAKING PDR,DOUBLE-ACTING,NA AL SULFATE'</li><li>'LEAVENING AGENTS,BAKING SODA'</li><li>'DESSERTS,RENNIN,TABLETS,UNSWTND'</li></ol>\n"
      ],
      "text/latex": [
       "\\begin{enumerate*}\n",
       "\\item 'SALT,TABLE'\n",
       "\\item 'SOUP,BF BROTH OR BOUILLON,PDR,DRY'\n",
       "\\item 'SOUP,BEEF BROTH,CUBED,DRY'\n",
       "\\item 'SOUP,CHICK BROTH OR BOUILLON,DRY'\n",
       "\\item 'SOUP,CHICK BROTH CUBES,DRY'\n",
       "\\item 'GRAVY,AU JUS,DRY'\n",
       "\\item 'ADOBO FRESCO'\n",
       "\\item 'LEAVENING AGENTS,BAKING PDR,DOUBLE-ACTING,NA AL SULFATE'\n",
       "\\item 'LEAVENING AGENTS,BAKING SODA'\n",
       "\\item 'DESSERTS,RENNIN,TABLETS,UNSWTND'\n",
       "\\end{enumerate*}\n"
      ],
      "text/markdown": [
       "1. 'SALT,TABLE'\n",
       "2. 'SOUP,BF BROTH OR BOUILLON,PDR,DRY'\n",
       "3. 'SOUP,BEEF BROTH,CUBED,DRY'\n",
       "4. 'SOUP,CHICK BROTH OR BOUILLON,DRY'\n",
       "5. 'SOUP,CHICK BROTH CUBES,DRY'\n",
       "6. 'GRAVY,AU JUS,DRY'\n",
       "7. 'ADOBO FRESCO'\n",
       "8. 'LEAVENING AGENTS,BAKING PDR,DOUBLE-ACTING,NA AL SULFATE'\n",
       "9. 'LEAVENING AGENTS,BAKING SODA'\n",
       "10. 'DESSERTS,RENNIN,TABLETS,UNSWTND'\n",
       "\n",
       "\n"
      ],
      "text/plain": [
       " [1] \"SALT,TABLE\"                                             \n",
       " [2] \"SOUP,BF BROTH OR BOUILLON,PDR,DRY\"                      \n",
       " [3] \"SOUP,BEEF BROTH,CUBED,DRY\"                              \n",
       " [4] \"SOUP,CHICK BROTH OR BOUILLON,DRY\"                       \n",
       " [5] \"SOUP,CHICK BROTH CUBES,DRY\"                             \n",
       " [6] \"GRAVY,AU JUS,DRY\"                                       \n",
       " [7] \"ADOBO FRESCO\"                                           \n",
       " [8] \"LEAVENING AGENTS,BAKING PDR,DOUBLE-ACTING,NA AL SULFATE\"\n",
       " [9] \"LEAVENING AGENTS,BAKING SODA\"                           \n",
       "[10] \"DESSERTS,RENNIN,TABLETS,UNSWTND\"                        "
      ]
     },
     "metadata": {},
     "output_type": "display_data"
    }
   ],
   "source": [
    "HighSodium$Description"
   ]
  },
  {
   "cell_type": "markdown",
   "metadata": {},
   "source": [
    "### Track down the word caviar using match"
   ]
  },
  {
   "cell_type": "code",
   "execution_count": 91,
   "metadata": {},
   "outputs": [
    {
     "data": {
      "text/html": [
       "4154"
      ],
      "text/latex": [
       "4154"
      ],
      "text/markdown": [
       "4154"
      ],
      "text/plain": [
       "[1] 4154"
      ]
     },
     "metadata": {},
     "output_type": "display_data"
    }
   ],
   "source": [
    "match(\"CAVIAR\", USDA$Description)"
   ]
  },
  {
   "cell_type": "code",
   "execution_count": 92,
   "metadata": {},
   "outputs": [
    {
     "data": {
      "text/html": [
       "1500"
      ],
      "text/latex": [
       "1500"
      ],
      "text/markdown": [
       "1500"
      ],
      "text/plain": [
       "[1] 1500"
      ]
     },
     "metadata": {},
     "output_type": "display_data"
    }
   ],
   "source": []
  },
  {
   "cell_type": "markdown",
   "metadata": {},
   "source": [
    "The above tells us the sodium lvl of caviar "
   ]
  },
  {
   "cell_type": "markdown",
   "metadata": {},
   "source": [
    "refactor"
   ]
  },
  {
   "cell_type": "code",
   "execution_count": 93,
   "metadata": {},
   "outputs": [
    {
     "data": {
      "text/html": [
       "1500"
      ],
      "text/latex": [
       "1500"
      ],
      "text/markdown": [
       "1500"
      ],
      "text/plain": [
       "[1] 1500"
      ]
     },
     "metadata": {},
     "output_type": "display_data"
    }
   ],
   "source": [
    "USDA$Sodium[match(\"CAVIAR\", USDA$Description)]"
   ]
  },
  {
   "cell_type": "code",
   "execution_count": 94,
   "metadata": {},
   "outputs": [
    {
     "data": {
      "text/plain": [
       "   Min. 1st Qu.  Median    Mean 3rd Qu.    Max.    NA's \n",
       "    0.0    37.0    79.0   322.1   386.0 38758.0      84 "
      ]
     },
     "metadata": {},
     "output_type": "display_data"
    }
   ],
   "source": [
    "summary(USDA$Sodium)"
   ]
  },
  {
   "cell_type": "code",
   "execution_count": 95,
   "metadata": {},
   "outputs": [
    {
     "data": {
      "text/html": [
       "&lt;NA&gt;"
      ],
      "text/latex": [
       "<NA>"
      ],
      "text/markdown": [
       "&lt;NA&gt;"
      ],
      "text/plain": [
       "[1] NA"
      ]
     },
     "metadata": {},
     "output_type": "display_data"
    }
   ],
   "source": [
    "sd(USDA$Sodium)"
   ]
  },
  {
   "cell_type": "code",
   "execution_count": 97,
   "metadata": {},
   "outputs": [
    {
     "data": {
      "text/html": [
       "1045.41693115788"
      ],
      "text/latex": [
       "1045.41693115788"
      ],
      "text/markdown": [
       "1045.41693115788"
      ],
      "text/plain": [
       "[1] 1045.417"
      ]
     },
     "metadata": {},
     "output_type": "display_data"
    }
   ],
   "source": [
    "sd(USDA$Sodium, na.rm=TRUE)"
   ]
  },
  {
   "cell_type": "code",
   "execution_count": 98,
   "metadata": {},
   "outputs": [
    {
     "data": {
      "image/png": "[encoded data removed]",
      "text/plain": [
       "plot without title"
      ]
     },
     "metadata": {
      "image/png": {
       "height": 420,
       "width": 420
      }
     },
     "output_type": "display_data"
    }
   ],
   "source": [
    "plot(USDA$Protein, USDA$Total)"
   ]
  },
  {
   "cell_type": "code",
   "execution_count": 100,
   "metadata": {},
   "outputs": [
    {
     "data": {
      "image/png": "[encoded data removed]",
      "text/plain": [
       "Plot with title “Protein vs Fat”"
      ]
     },
     "metadata": {
      "image/png": {
       "height": 420,
       "width": 420
      }
     },
     "output_type": "display_data"
    }
   ],
   "source": [
    "plot(USDA$Protein, USDA$Total, xlab=\"Protein\", ylab=\"Fat\", main =\"Protein vs Fat\", col=\"red\" )"
   ]
  },
  {
   "cell_type": "code",
   "execution_count": 101,
   "metadata": {},
   "outputs": [
    {
     "data": {
      "image/png": "[encoded data removed]",
      "text/plain": [
       "Plot with title “Histogram of Vitamin C Levels”"
      ]
     },
     "metadata": {
      "image/png": {
       "height": 420,
       "width": 420
      }
     },
     "output_type": "display_data"
    }
   ],
   "source": [
    "hist(USDA$VitaminC, xlab=\"Vitamin C (mg)\", main=\"Histogram of Vitamin C Levels\")"
   ]
  },
  {
   "cell_type": "code",
   "execution_count": 102,
   "metadata": {},
   "outputs": [
    {
     "data": {
      "image/png": "[encoded data removed]",
      "text/plain": [
       "Plot with title “Histogram of Vitamin C Levels”"
      ]
     },
     "metadata": {
      "image/png": {
       "height": 420,
       "width": 420
      }
     },
     "output_type": "display_data"
    }
   ],
   "source": [
    "hist(USDA$VitaminC, xlab=\"Vitamin C (mg)\", main=\"Histogram of Vitamin C Levels\", xlim=c(0,100))"
   ]
  },
  {
   "cell_type": "code",
   "execution_count": 103,
   "metadata": {},
   "outputs": [
    {
     "data": {
      "image/png": "[encoded data removed]",
      "text/plain": [
       "Plot with title “Histogram of Vitamin C Levels”"
      ]
     },
     "metadata": {
      "image/png": {
       "height": 420,
       "width": 420
      }
     },
     "output_type": "display_data"
    }
   ],
   "source": [
    "hist(USDA$VitaminC, xlab=\"Vitamin C (mg)\", main=\"Histogram of Vitamin C Levels\", xlim=c(0,100), breaks=100)"
   ]
  },
  {
   "cell_type": "code",
   "execution_count": 104,
   "metadata": {},
   "outputs": [
    {
     "data": {
      "image/png": "[encoded data removed]",
      "text/plain": [
       "Plot with title “Histogram of Vitamin C Levels”"
      ]
     },
     "metadata": {
      "image/png": {
       "height": 420,
       "width": 420
      }
     },
     "output_type": "display_data"
    }
   ],
   "source": [
    "hist(USDA$VitaminC, xlab=\"Vitamin C (mg)\", main=\"Histogram of Vitamin C Levels\", xlim=c(0,100), breaks=2000)"
   ]
  },
  {
   "cell_type": "code",
   "execution_count": 105,
   "metadata": {},
   "outputs": [
    {
     "data": {
      "image/png": "[encoded data removed]",
      "text/plain": [
       "Plot with title “Boxplot of Sugar Levels”"
      ]
     },
     "metadata": {
      "image/png": {
       "height": 420,
       "width": 420
      }
     },
     "output_type": "display_data"
    }
   ],
   "source": [
    "boxplot(USDA$Sugar, main = \"Boxplot of Sugar Levels\")"
   ]
  },
  {
   "cell_type": "code",
   "execution_count": 106,
   "metadata": {
    "scrolled": true
   },
   "outputs": [
    {
     "data": {
      "image/png": "[encoded data removed]",
      "text/plain": [
       "Plot with title “Boxplot of Sugar Levels”"
      ]
     },
     "metadata": {
      "image/png": {
       "height": 420,
       "width": 420
      }
     },
     "output_type": "display_data"
    }
   ],
   "source": [
    "boxplot(USDA$Sugar, main = \"Boxplot of Sugar Levels\", ylab = \"Sugar (g)\")"
   ]
  },
  {
   "cell_type": "markdown",
   "metadata": {},
   "source": [
    "## Add a variable to a dataframe if has higher than average sodiumn levels 0/1"
   ]
  },
  {
   "cell_type": "code",
   "execution_count": 108,
   "metadata": {},
   "outputs": [
    {
     "data": {
      "text/html": [
       "TRUE"
      ],
      "text/latex": [
       "TRUE"
      ],
      "text/markdown": [
       "TRUE"
      ],
      "text/plain": [
       "[1] TRUE"
      ]
     },
     "metadata": {},
     "output_type": "display_data"
    }
   ],
   "source": [
    "USDA$Sodium[1] > mean(USDA$Sodium, na.rm=TRUE)"
   ]
  },
  {
   "cell_type": "code",
   "execution_count": 109,
   "metadata": {},
   "outputs": [
    {
     "data": {
      "text/html": [
       "FALSE"
      ],
      "text/latex": [
       "FALSE"
      ],
      "text/markdown": [
       "FALSE"
      ],
      "text/plain": [
       "[1] FALSE"
      ]
     },
     "metadata": {},
     "output_type": "display_data"
    }
   ],
   "source": [
    "USDA$Sodium[50] > mean(USDA$Sodium, na.rm=TRUE)"
   ]
  },
  {
   "cell_type": "code",
   "execution_count": 111,
   "metadata": {},
   "outputs": [],
   "source": [
    "HighSodium = USDA$Sodium > mean(USDA$Sodium, na.rm=TRUE)"
   ]
  },
  {
   "cell_type": "code",
   "execution_count": 112,
   "metadata": {},
   "outputs": [
    {
     "name": "stdout",
     "output_type": "stream",
     "text": [
      " logi [1:7058] TRUE TRUE FALSE TRUE TRUE TRUE ...\n"
     ]
    }
   ],
   "source": [
    "str(HighSodium)"
   ]
  },
  {
   "cell_type": "code",
   "execution_count": 114,
   "metadata": {},
   "outputs": [],
   "source": [
    "HighSodium = as.numeric(USDA$Sodium > mean(USDA$Sodium, na.rm=TRUE))"
   ]
  },
  {
   "cell_type": "code",
   "execution_count": 115,
   "metadata": {},
   "outputs": [
    {
     "name": "stdout",
     "output_type": "stream",
     "text": [
      " num [1:7058] 1 1 0 1 1 1 1 1 1 1 ...\n"
     ]
    }
   ],
   "source": [
    "str(HighSodium)"
   ]
  },
  {
   "cell_type": "code",
   "execution_count": 116,
   "metadata": {},
   "outputs": [],
   "source": [
    "USDA$HighSodium = as.numeric(USDA$Sodium > mean(USDA$Sodium, na.rm=TRUE))"
   ]
  },
  {
   "cell_type": "code",
   "execution_count": 117,
   "metadata": {},
   "outputs": [
    {
     "name": "stdout",
     "output_type": "stream",
     "text": [
      "'data.frame':\t7058 obs. of  17 variables:\n",
      " $ ID          : int  1001 1002 1003 1004 1005 1006 1007 1008 1009 1010 ...\n",
      " $ Description : chr  \"BUTTER,WITH SALT\" \"BUTTER,WHIPPED,WITH SALT\" \"BUTTER OIL,ANHYDROUS\" \"CHEESE,BLUE\" ...\n",
      " $ Calories    : int  717 717 876 353 371 334 300 376 403 387 ...\n",
      " $ Protein     : num  0.85 0.85 0.28 21.4 23.24 ...\n",
      " $ TotalFat    : num  81.1 81.1 99.5 28.7 29.7 ...\n",
      " $ Carbohydrate: num  0.06 0.06 0 2.34 2.79 0.45 0.46 3.06 1.28 4.78 ...\n",
      " $ Sodium      : int  714 827 2 1395 560 629 842 690 621 700 ...\n",
      " $ SaturatedFat: num  51.4 50.5 61.9 18.7 18.8 ...\n",
      " $ Cholesterol : int  215 219 256 75 94 100 72 93 105 103 ...\n",
      " $ Sugar       : num  0.06 0.06 0 0.5 0.51 0.45 0.46 NA 0.52 NA ...\n",
      " $ Calcium     : int  24 24 4 528 674 184 388 673 721 643 ...\n",
      " $ Iron        : num  0.02 0.16 0 0.31 0.43 0.5 0.33 0.64 0.68 0.21 ...\n",
      " $ Potassium   : int  24 26 5 256 136 152 187 93 98 95 ...\n",
      " $ VitaminC    : num  0 0 0 0 0 0 0 0 0 0 ...\n",
      " $ VitaminE    : num  2.32 2.32 2.8 0.25 0.26 0.24 0.21 NA 0.29 NA ...\n",
      " $ VitaminD    : num  1.5 1.5 1.8 0.5 0.5 0.5 0.4 NA 0.6 NA ...\n",
      " $ HighSodium  : num  1 1 0 1 1 1 1 1 1 1 ...\n"
     ]
    }
   ],
   "source": [
    "str(USDA)"
   ]
  },
  {
   "cell_type": "code",
   "execution_count": 118,
   "metadata": {},
   "outputs": [],
   "source": [
    "USDA$HighProtein = as.numeric(USDA$Protein > mean(USDA$Protein, na.rm=TRUE))"
   ]
  },
  {
   "cell_type": "code",
   "execution_count": 120,
   "metadata": {},
   "outputs": [],
   "source": [
    "USDA$HighFat = as.numeric(USDA$TotalFat > mean(USDA$TotalFat, na.rm=TRUE))"
   ]
  },
  {
   "cell_type": "code",
   "execution_count": 121,
   "metadata": {},
   "outputs": [],
   "source": [
    "USDA$HighCarbs = as.numeric(USDA$Carbohydrate > mean(USDA$Carbohydrate, na.rm=TRUE))"
   ]
  },
  {
   "cell_type": "code",
   "execution_count": 122,
   "metadata": {},
   "outputs": [
    {
     "name": "stdout",
     "output_type": "stream",
     "text": [
      "'data.frame':\t7058 obs. of  20 variables:\n",
      " $ ID          : int  1001 1002 1003 1004 1005 1006 1007 1008 1009 1010 ...\n",
      " $ Description : chr  \"BUTTER,WITH SALT\" \"BUTTER,WHIPPED,WITH SALT\" \"BUTTER OIL,ANHYDROUS\" \"CHEESE,BLUE\" ...\n",
      " $ Calories    : int  717 717 876 353 371 334 300 376 403 387 ...\n",
      " $ Protein     : num  0.85 0.85 0.28 21.4 23.24 ...\n",
      " $ TotalFat    : num  81.1 81.1 99.5 28.7 29.7 ...\n",
      " $ Carbohydrate: num  0.06 0.06 0 2.34 2.79 0.45 0.46 3.06 1.28 4.78 ...\n",
      " $ Sodium      : int  714 827 2 1395 560 629 842 690 621 700 ...\n",
      " $ SaturatedFat: num  51.4 50.5 61.9 18.7 18.8 ...\n",
      " $ Cholesterol : int  215 219 256 75 94 100 72 93 105 103 ...\n",
      " $ Sugar       : num  0.06 0.06 0 0.5 0.51 0.45 0.46 NA 0.52 NA ...\n",
      " $ Calcium     : int  24 24 4 528 674 184 388 673 721 643 ...\n",
      " $ Iron        : num  0.02 0.16 0 0.31 0.43 0.5 0.33 0.64 0.68 0.21 ...\n",
      " $ Potassium   : int  24 26 5 256 136 152 187 93 98 95 ...\n",
      " $ VitaminC    : num  0 0 0 0 0 0 0 0 0 0 ...\n",
      " $ VitaminE    : num  2.32 2.32 2.8 0.25 0.26 0.24 0.21 NA 0.29 NA ...\n",
      " $ VitaminD    : num  1.5 1.5 1.8 0.5 0.5 0.5 0.4 NA 0.6 NA ...\n",
      " $ HighSodium  : num  1 1 0 1 1 1 1 1 1 1 ...\n",
      " $ HighProtein : num  0 0 0 1 1 1 1 1 1 1 ...\n",
      " $ HighFat     : num  1 1 1 1 1 1 1 1 1 1 ...\n",
      " $ HighCarbs   : num  0 0 0 0 0 0 0 0 0 0 ...\n"
     ]
    }
   ],
   "source": [
    "str(USDA)"
   ]
  },
  {
   "cell_type": "code",
   "execution_count": 123,
   "metadata": {},
   "outputs": [
    {
     "data": {
      "text/plain": [
       "\n",
       "   0    1 \n",
       "4884 2090 "
      ]
     },
     "metadata": {},
     "output_type": "display_data"
    }
   ],
   "source": [
    "table(USDA$HighSodium)"
   ]
  },
  {
   "cell_type": "code",
   "execution_count": 125,
   "metadata": {},
   "outputs": [
    {
     "data": {
      "text/plain": [
       "   \n",
       "       0    1\n",
       "  0 3529 1355\n",
       "  1 1378  712"
      ]
     },
     "metadata": {},
     "output_type": "display_data"
    }
   ],
   "source": [
    "table(USDA$HighSodium, USDA$HighFat)"
   ]
  },
  {
   "cell_type": "markdown",
   "metadata": {},
   "source": [
    "## 1355 is low Sodium and High fat, 1378 High Sodium and low fat."
   ]
  },
  {
   "cell_type": "code",
   "execution_count": 126,
   "metadata": {},
   "outputs": [
    {
     "data": {
      "text/html": [
       "<style>\n",
       ".dl-inline {width: auto; margin:0; padding: 0}\n",
       ".dl-inline>dt, .dl-inline>dd {float: none; width: auto; display: inline-block}\n",
       ".dl-inline>dt::after {content: \":\\0020\"; padding-right: .5ex}\n",
       ".dl-inline>dt:not(:first-of-type) {padding-left: .5ex}\n",
       "</style><dl class=dl-inline><dt>0</dt><dd>2.55894461077844</dd><dt>1</dt><dd>3.19729415784079</dd></dl>\n"
      ],
      "text/latex": [
       "\\begin{description*}\n",
       "\\item[0] 2.55894461077844\n",
       "\\item[1] 3.19729415784079\n",
       "\\end{description*}\n"
      ],
      "text/markdown": [
       "0\n",
       ":   2.558944610778441\n",
       ":   3.19729415784079\n",
       "\n"
      ],
      "text/plain": [
       "       0        1 \n",
       "2.558945 3.197294 "
      ]
     },
     "metadata": {},
     "output_type": "display_data"
    }
   ],
   "source": [
    "tapply(USDA$Iron, USDA$HighProtein, mean, na.rm=TRUE)"
   ]
  },
  {
   "cell_type": "markdown",
   "metadata": {},
   "source": [
    "Tapply does grouping of Iron based off of High Protein. Like groupby in pandas"
   ]
  },
  {
   "cell_type": "code",
   "execution_count": 128,
   "metadata": {},
   "outputs": [
    {
     "data": {
      "text/html": [
       "<style>\n",
       ".dl-inline {width: auto; margin:0; padding: 0}\n",
       ".dl-inline>dt, .dl-inline>dd {float: none; width: auto; display: inline-block}\n",
       ".dl-inline>dt::after {content: \":\\0020\"; padding-right: .5ex}\n",
       ".dl-inline>dt:not(:first-of-type) {padding-left: .5ex}\n",
       "</style><dl class=dl-inline><dt>0</dt><dd>1677.6</dd><dt>1</dt><dd>2400</dd></dl>\n"
      ],
      "text/latex": [
       "\\begin{description*}\n",
       "\\item[0] 1677.6\n",
       "\\item[1] 2400\n",
       "\\end{description*}\n"
      ],
      "text/markdown": [
       "0\n",
       ":   1677.61\n",
       ":   2400\n",
       "\n"
      ],
      "text/plain": [
       "     0      1 \n",
       "1677.6 2400.0 "
      ]
     },
     "metadata": {},
     "output_type": "display_data"
    }
   ],
   "source": [
    "tapply(USDA$VitaminC, USDA$HighCarbs, max, na.rm=TRUE)"
   ]
  },
  {
   "cell_type": "code",
   "execution_count": 129,
   "metadata": {
    "scrolled": true
   },
   "outputs": [
    {
     "data": {
      "text/plain": [
       "$`0`\n",
       "    Min.  1st Qu.   Median     Mean  3rd Qu.     Max.     NA's \n",
       "   0.000    0.000    0.000    6.364    2.800 1677.600      248 \n",
       "\n",
       "$`1`\n",
       "   Min. 1st Qu.  Median    Mean 3rd Qu.    Max.    NA's \n",
       "   0.00    0.00    0.20   16.31    4.50 2400.00      83 \n"
      ]
     },
     "metadata": {},
     "output_type": "display_data"
    }
   ],
   "source": [
    "tapply(USDA$VitaminC, USDA$HighCarbs, summary, na.rm=TRUE)"
   ]
  },
  {
   "cell_type": "code",
   "execution_count": null,
   "metadata": {},
   "outputs": [],
   "source": []
  },
  {
   "cell_type": "code",
   "execution_count": null,
   "metadata": {},
   "outputs": [],
   "source": []
  },
  {
   "cell_type": "code",
   "execution_count": null,
   "metadata": {},
   "outputs": [],
   "source": []
  },
  {
   "cell_type": "code",
   "execution_count": null,
   "metadata": {},
   "outputs": [],
   "source": []
  },
  {
   "cell_type": "code",
   "execution_count": null,
   "metadata": {},
   "outputs": [],
   "source": []
  },
  {
   "cell_type": "code",
   "execution_count": null,
   "metadata": {},
   "outputs": [],
   "source": []
  }
 ],
 "metadata": {
  "kernelspec": {
   "display_name": "R",
   "language": "R",
   "name": "ir"
  },
  "language_info": {
   "codemirror_mode": "r",
   "file_extension": ".r",
   "mimetype": "text/x-r-source",
   "name": "R",
   "pygments_lexer": "r",
   "version": "4.0.2"
  }
 },
 "nbformat": 4,
 "nbformat_minor": 4
}
